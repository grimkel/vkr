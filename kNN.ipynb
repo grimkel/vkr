{
 "cells": [
  {
   "cell_type": "code",
   "execution_count": 1,
   "id": "07db1146-73b3-464a-b53c-a203c031fd27",
   "metadata": {},
   "outputs": [],
   "source": [
    "import pandas as pd\n",
    "from tqdm import tqdm\n",
    "from pyarrow import csv\n",
    "import pyarrow as pa\n",
    "\n",
    "import torch\n",
    "import torch.nn as nn\n",
    "import torch.optim as optim\n",
    "from torch.utils.data import Dataset, DataLoader\n",
    "\n",
    "import matplotlib.pyplot as plt\n",
    "import plotly.graph_objects as go\n",
    "\n",
    "from catboost import CatBoostClassifier\n",
    "from sklearn.manifold import TSNE\n",
    "from sklearn.discriminant_analysis import LinearDiscriminantAnalysis as LDA\n",
    "from sklearn.preprocessing import StandardScaler,MinMaxScaler\n",
    "from sklearn.preprocessing import OneHotEncoder\n",
    "\n",
    "import numpy as np # linear algebra\n",
    "import pandas as pd # data processing, CSV file I/O (e.g. pd.read_csv)\n",
    "import gc\n",
    "from sklearn.model_selection import train_test_split\n",
    "from sklearn.preprocessing import QuantileTransformer, MinMaxScaler, StandardScaler\n",
    "from sklearn.metrics import auc, accuracy_score, precision_score, recall_score, roc_curve, precision_recall_curve\n",
    "\n",
    "import pandas as pd\n",
    "from tqdm import tqdm\n",
    "from pyarrow import csv\n",
    "import pyarrow as pa\n",
    "\n",
    "import torch\n",
    "import torch.nn as nn\n",
    "import torch.optim as optim\n",
    "from torch.utils.data import Dataset, DataLoader\n",
    "\n",
    "import matplotlib.pyplot as plt\n",
    "import plotly.graph_objects as go\n",
    "\n",
    "from catboost import CatBoostClassifier\n",
    "from sklearn.manifold import TSNE\n",
    "from sklearn.discriminant_analysis import LinearDiscriminantAnalysis as LDA\n",
    "from sklearn.preprocessing import StandardScaler,MinMaxScaler\n",
    "from sklearn.preprocessing import OneHotEncoder"
   ]
  },
  {
   "cell_type": "code",
   "execution_count": 4,
   "id": "72df9252-46a6-4c3f-918a-489e3fcd26b0",
   "metadata": {},
   "outputs": [],
   "source": [
    "class modelDNN(nn.Module):\n",
    "    def __init__(self):\n",
    "        super(modelDNN, self).__init__()        \n",
    "        self.layer_1 = nn.Linear(111, 4096) \n",
    "        self.layer_2 = nn.Linear(4096, 2048)\n",
    "        self.layer_3 = nn.Linear(2048, 64) \n",
    "        self.layer_4 = nn.Linear(64, 1) \n",
    "        \n",
    "        self.relu = nn.ReLU()\n",
    "        self.dropout = nn.Dropout(p=0.1)\n",
    "        self.batchnorm1 = nn.BatchNorm1d(4096)\n",
    "        self.batchnorm2 = nn.BatchNorm1d(2048)\n",
    "        self.batchnorm3 = nn.BatchNorm1d(64)\n",
    "        \n",
    "    def forward(self, inputs):\n",
    "        x = self.relu(self.layer_1(inputs))\n",
    "        x = self.batchnorm1(x)\n",
    "        x = self.dropout(x)\n",
    "        x = self.relu(self.layer_2(x))\n",
    "        x = self.batchnorm2(x)\n",
    "        x = self.dropout(x)\n",
    "        x = self.relu(self.layer_3(x))\n",
    "        x = self.batchnorm3(x)\n",
    "        x = self.dropout(x)\n",
    "        x = self.layer_4(x)\n",
    "        \n",
    "        return x"
   ]
  },
  {
   "cell_type": "code",
   "execution_count": 5,
   "id": "42a1ecca-70bb-4eea-b310-c6d560eabd10",
   "metadata": {},
   "outputs": [],
   "source": [
    "device = torch.device(\"cuda:0\")"
   ]
  },
  {
   "cell_type": "code",
   "execution_count": 6,
   "id": "20fc20a9-e264-4ebc-8267-9a312bf633f6",
   "metadata": {},
   "outputs": [
    {
     "data": {
      "text/plain": [
       "modelDNN(\n",
       "  (layer_1): Linear(in_features=111, out_features=4096, bias=True)\n",
       "  (layer_2): Linear(in_features=4096, out_features=2048, bias=True)\n",
       "  (layer_3): Linear(in_features=2048, out_features=64, bias=True)\n",
       "  (layer_4): Linear(in_features=64, out_features=1, bias=True)\n",
       "  (relu): ReLU()\n",
       "  (dropout): Dropout(p=0.1, inplace=False)\n",
       "  (batchnorm1): BatchNorm1d(4096, eps=1e-05, momentum=0.1, affine=True, track_running_stats=True)\n",
       "  (batchnorm2): BatchNorm1d(2048, eps=1e-05, momentum=0.1, affine=True, track_running_stats=True)\n",
       "  (batchnorm3): BatchNorm1d(64, eps=1e-05, momentum=0.1, affine=True, track_running_stats=True)\n",
       ")"
      ]
     },
     "execution_count": 6,
     "metadata": {},
     "output_type": "execute_result"
    }
   ],
   "source": [
    "model = torch.load(\"new-KNN.torch\")\n",
    "model.eval()"
   ]
  },
  {
   "cell_type": "code",
   "execution_count": 7,
   "id": "ac2d7ab7-7cec-471e-ad6e-67bf5592e131",
   "metadata": {},
   "outputs": [
    {
     "data": {
      "text/plain": [
       "modelDNN(\n",
       "  (layer_1): Linear(in_features=111, out_features=4096, bias=True)\n",
       "  (layer_2): Linear(in_features=4096, out_features=2048, bias=True)\n",
       "  (layer_3): Linear(in_features=2048, out_features=64, bias=True)\n",
       "  (layer_4): Linear(in_features=64, out_features=1, bias=True)\n",
       "  (relu): ReLU()\n",
       "  (dropout): Dropout(p=0.1, inplace=False)\n",
       "  (batchnorm1): BatchNorm1d(4096, eps=1e-05, momentum=0.1, affine=True, track_running_stats=True)\n",
       "  (batchnorm2): BatchNorm1d(2048, eps=1e-05, momentum=0.1, affine=True, track_running_stats=True)\n",
       "  (batchnorm3): BatchNorm1d(64, eps=1e-05, momentum=0.1, affine=True, track_running_stats=True)\n",
       ")"
      ]
     },
     "execution_count": 7,
     "metadata": {},
     "output_type": "execute_result"
    }
   ],
   "source": [
    "model"
   ]
  },
  {
   "cell_type": "code",
   "execution_count": 8,
   "id": "1b9eb1c8-107a-4b0d-821a-f4449b415396",
   "metadata": {},
   "outputs": [],
   "source": [
    "model.layer_4 = nn.Sequential()"
   ]
  },
  {
   "cell_type": "code",
   "execution_count": 10,
   "id": "68dc9f73-7b20-4b69-9ef0-7620c8b259e7",
   "metadata": {},
   "outputs": [
    {
     "data": {
      "text/plain": [
       "torch.Size([10, 64])"
      ]
     },
     "execution_count": 10,
     "metadata": {},
     "output_type": "execute_result"
    }
   ],
   "source": [
    "model(torch.Tensor(np.ones((10, 111))).to(device)).shape"
   ]
  },
  {
   "cell_type": "code",
   "execution_count": 8,
   "id": "2a76fe17-60e0-43ec-b8a1-28ae35260650",
   "metadata": {},
   "outputs": [
    {
     "data": {
      "text/plain": [
       "array([[1., 1., 1., 1., 1., 1., 1., 1., 1., 1., 1., 1., 1., 1., 1., 1.,\n",
       "        1., 1., 1., 1., 1., 1., 1., 1., 1., 1., 1., 1., 1., 1., 1., 1.,\n",
       "        1., 1., 1., 1., 1., 1., 1., 1., 1., 1., 1., 1., 1., 1., 1., 1.,\n",
       "        1., 1., 1., 1., 1., 1., 1., 1., 1., 1., 1., 1., 1., 1., 1., 1.,\n",
       "        1., 1., 1., 1., 1., 1., 1., 1., 1., 1., 1., 1., 1., 1., 1., 1.,\n",
       "        1., 1., 1., 1., 1., 1., 1., 1., 1., 1., 1., 1., 1., 1., 1., 1.,\n",
       "        1., 1., 1., 1., 1., 1., 1., 1., 1., 1., 1., 1., 1., 1., 1.]])"
      ]
     },
     "execution_count": 8,
     "metadata": {},
     "output_type": "execute_result"
    }
   ],
   "source": [
    "np.ones((1, 111))"
   ]
  },
  {
   "cell_type": "code",
   "execution_count": 2,
   "id": "c1529fff-e322-4497-81eb-901f1d341a4f",
   "metadata": {},
   "outputs": [],
   "source": [
    "import pickle\n",
    "f = open(\"scaler.pckl\", 'rb')\n",
    "scaler = pickle.load(f)\n",
    "f.close()"
   ]
  },
  {
   "cell_type": "code",
   "execution_count": 3,
   "id": "ef7643e9-4acb-41be-b56b-d249f2175e88",
   "metadata": {},
   "outputs": [],
   "source": [
    "def process(df, scaler):\n",
    "    Y = df.Label\n",
    "    df = df.drop(['Unnamed: 0','Label'], axis=1)\n",
    "    df['Attack'] = df['Attack'].astype(\"string\")\n",
    "    df = df.drop('Attack', axis=1)\n",
    "    df = df.drop(['SimillarHTTP'], axis=1)\n",
    "    df[df['Flow Bytes/s'] == np.inf] = 0\n",
    "    df[df[' Flow Packets/s'] == np.inf] = 0\n",
    "    df = scaler.transform(df)\n",
    "    return df, Y"
   ]
  },
  {
   "cell_type": "code",
   "execution_count": 4,
   "id": "3377ee17-8c7a-4164-813d-6dd7938f3cf5",
   "metadata": {},
   "outputs": [],
   "source": [
    "df, Y = process(pd.read_csv('triple.csv'), scaler)"
   ]
  },
  {
   "cell_type": "code",
   "execution_count": 8,
   "id": "689ad04e-92cd-4dd6-b2a8-bb2b8fd3d833",
   "metadata": {},
   "outputs": [],
   "source": [
    "save(df, 'triple.pure')"
   ]
  },
  {
   "cell_type": "code",
   "execution_count": 9,
   "id": "f90de495-0c87-4392-84a8-d2c66fa6b793",
   "metadata": {},
   "outputs": [],
   "source": [
    "save(Y, 'triple_Y.pure')"
   ]
  },
  {
   "cell_type": "code",
   "execution_count": 7,
   "id": "4c96f538-21a7-4327-8b30-6667c030218d",
   "metadata": {},
   "outputs": [],
   "source": [
    "def save(data, filename):\n",
    "    file = open(filename, 'wb')\n",
    "    pickle.dump(data, file)\n",
    "    file.close()"
   ]
  },
  {
   "cell_type": "code",
   "execution_count": 54,
   "id": "80726474-ad66-4fca-b983-a8d7c381f4ba",
   "metadata": {},
   "outputs": [
    {
     "data": {
      "text/plain": [
       "Sequential(\n",
       "  (0): Linear(in_features=111, out_features=4096, bias=True)\n",
       "  (1): Linear(in_features=4096, out_features=2048, bias=True)\n",
       "  (2): Linear(in_features=2048, out_features=64, bias=True)\n",
       "  (3): Linear(in_features=64, out_features=1, bias=True)\n",
       "  (4): ReLU()\n",
       "  (5): Dropout(p=0.1, inplace=False)\n",
       "  (6): BatchNorm1d(4096, eps=1e-05, momentum=0.1, affine=True, track_running_stats=True)\n",
       "  (7): BatchNorm1d(2048, eps=1e-05, momentum=0.1, affine=True, track_running_stats=True)\n",
       ")"
      ]
     },
     "execution_count": 54,
     "metadata": {},
     "output_type": "execute_result"
    }
   ],
   "source": [
    "headless_model"
   ]
  },
  {
   "cell_type": "code",
   "execution_count": 81,
   "id": "66201535-dd97-4780-8531-3395e0ea1125",
   "metadata": {},
   "outputs": [
    {
     "ename": "ArrowInvalid",
     "evalue": "In CSV column #2: CSV conversion error to int64: invalid value '67834732.0'",
     "output_type": "error",
     "traceback": [
      "\u001b[0;31m---------------------------------------------------------------------------\u001b[0m",
      "\u001b[0;31mArrowInvalid\u001b[0m                              Traceback (most recent call last)",
      "\u001b[0;32m/tmp/ipykernel_7058/1885605517.py\u001b[0m in \u001b[0;36m<module>\u001b[0;34m\u001b[0m\n\u001b[1;32m     12\u001b[0m     )) as reader:\n\u001b[1;32m     13\u001b[0m \u001b[0;34m\u001b[0m\u001b[0m\n\u001b[0;32m---> 14\u001b[0;31m     \u001b[0;32mfor\u001b[0m \u001b[0mnext_chunk\u001b[0m \u001b[0;32min\u001b[0m \u001b[0mreader\u001b[0m\u001b[0;34m:\u001b[0m\u001b[0;34m\u001b[0m\u001b[0;34m\u001b[0m\u001b[0m\n\u001b[0m\u001b[1;32m     15\u001b[0m         \u001b[0;32mif\u001b[0m \u001b[0mnext_chunk\u001b[0m \u001b[0;32mis\u001b[0m \u001b[0;32mNone\u001b[0m\u001b[0;34m:\u001b[0m\u001b[0;34m\u001b[0m\u001b[0;34m\u001b[0m\u001b[0m\n\u001b[1;32m     16\u001b[0m             \u001b[0;32mbreak\u001b[0m\u001b[0;34m\u001b[0m\u001b[0;34m\u001b[0m\u001b[0m\n",
      "\u001b[0;32m~/anaconda3/lib/python3.9/site-packages/pyarrow/ipc.pxi\u001b[0m in \u001b[0;36m__iter__\u001b[0;34m()\u001b[0m\n",
      "\u001b[0;32m~/anaconda3/lib/python3.9/site-packages/pyarrow/ipc.pxi\u001b[0m in \u001b[0;36mpyarrow.lib.RecordBatchReader.read_next_batch\u001b[0;34m()\u001b[0m\n",
      "\u001b[0;32m~/anaconda3/lib/python3.9/site-packages/pyarrow/error.pxi\u001b[0m in \u001b[0;36mpyarrow.lib.check_status\u001b[0;34m()\u001b[0m\n",
      "\u001b[0;31mArrowInvalid\u001b[0m: In CSV column #2: CSV conversion error to int64: invalid value '67834732.0'"
     ]
    }
   ],
   "source": [
    "chunk=None\n",
    "chunksize = 10 ** 6\n",
    "\n",
    "df_x = None\n",
    "df_y = None\n",
    "with csv.open_csv(\n",
    "    \"triple.csv\",\n",
    "    convert_options = csv.ConvertOptions(),\n",
    "    read_options=csv.ReadOptions(\n",
    "        use_threads=True,\n",
    "        block_size=chunksize\n",
    "    )) as reader:\n",
    "\n",
    "    for next_chunk in reader:\n",
    "        if next_chunk is None:\n",
    "            break\n",
    "        x_t, y_t = process(next_chunk.to_pandas(), scaler)\n",
    "        if df_x is None:\n",
    "            df_x, df_y = model(torch.Tensor(x_t).to(device)), y_t\n",
    "        else:\n",
    "            torch.cat((df_x, model(torch.Tensor(x_t).to(device))), 0)\n",
    "            df_y = np.concatenate((df_y, y_t), axis=0)\n"
   ]
  },
  {
   "cell_type": "code",
   "execution_count": 67,
   "id": "767b42da-17e6-4650-b80d-66bce34bab7d",
   "metadata": {},
   "outputs": [
    {
     "data": {
      "text/plain": [
       "torch.Size([3385, 64])"
      ]
     },
     "execution_count": 67,
     "metadata": {},
     "output_type": "execute_result"
    }
   ],
   "source": [
    "model(torch.Tensor(x_t).to(device)).shape"
   ]
  },
  {
   "cell_type": "code",
   "execution_count": 63,
   "id": "ab426572-816b-4f43-aa41-888f6461eb4f",
   "metadata": {},
   "outputs": [
    {
     "data": {
      "text/plain": [
       "(3385, 111)"
      ]
     },
     "execution_count": 63,
     "metadata": {},
     "output_type": "execute_result"
    }
   ],
   "source": [
    "x_t.shape"
   ]
  },
  {
   "cell_type": "code",
   "execution_count": 74,
   "id": "4d800a03-46f3-406a-a4cc-aee9b6300f66",
   "metadata": {},
   "outputs": [
    {
     "data": {
      "text/plain": [
       "torch.Size([6770, 111])"
      ]
     },
     "execution_count": 74,
     "metadata": {},
     "output_type": "execute_result"
    }
   ],
   "source": [
    "torch.cat((torch.Tensor(x_t).to(device), torch.Tensor(x_t).to(device)), 0).shape"
   ]
  },
  {
   "cell_type": "code",
   "execution_count": 75,
   "id": "1680993c-dd72-4a7a-a15d-71f263becbdc",
   "metadata": {},
   "outputs": [
    {
     "data": {
      "text/plain": [
       "torch.Size([3385, 111])"
      ]
     },
     "execution_count": 75,
     "metadata": {},
     "output_type": "execute_result"
    }
   ],
   "source": [
    "torch.Tensor(x_t).to(device).shape"
   ]
  },
  {
   "cell_type": "code",
   "execution_count": null,
   "id": "c7c14a4a-5f99-4f5d-893b-2d37afe34037",
   "metadata": {},
   "outputs": [],
   "source": []
  },
  {
   "cell_type": "code",
   "execution_count": 11,
   "id": "9951e4fe-71f6-4b8b-935b-8cd9810309ce",
   "metadata": {},
   "outputs": [],
   "source": [
    "import pickle\n",
    "\n",
    "f = open('triple.pure', 'rb')\n",
    "df = pickle.load(f)\n",
    "f.close()"
   ]
  },
  {
   "cell_type": "code",
   "execution_count": 12,
   "id": "8af5c9f1-8e09-4fb5-b7d0-aba9a31f4e56",
   "metadata": {},
   "outputs": [
    {
     "ename": "RuntimeError",
     "evalue": "[enforce fail at alloc_cpu.cpp:75] err == 0. DefaultCPUAllocator: can't allocate memory: you tried to allocate 40750661632 bytes. Error code 12 (Cannot allocate memory)",
     "output_type": "error",
     "traceback": [
      "\u001b[0;31m---------------------------------------------------------------------------\u001b[0m",
      "\u001b[0;31mRuntimeError\u001b[0m                              Traceback (most recent call last)",
      "\u001b[0;32m/tmp/ipykernel_3702/3634349101.py\u001b[0m in \u001b[0;36m<module>\u001b[0;34m\u001b[0m\n\u001b[1;32m      1\u001b[0m \u001b[0mmodel\u001b[0m\u001b[0;34m.\u001b[0m\u001b[0mcpu\u001b[0m\u001b[0;34m(\u001b[0m\u001b[0;34m)\u001b[0m\u001b[0;34m\u001b[0m\u001b[0;34m\u001b[0m\u001b[0m\n\u001b[1;32m      2\u001b[0m \u001b[0;34m\u001b[0m\u001b[0m\n\u001b[0;32m----> 3\u001b[0;31m \u001b[0mmodel\u001b[0m\u001b[0;34m(\u001b[0m\u001b[0mtorch\u001b[0m\u001b[0;34m.\u001b[0m\u001b[0mtensor\u001b[0m\u001b[0;34m(\u001b[0m\u001b[0mdf\u001b[0m\u001b[0;34m,\u001b[0m \u001b[0mdtype\u001b[0m\u001b[0;34m=\u001b[0m\u001b[0mtorch\u001b[0m\u001b[0;34m.\u001b[0m\u001b[0mfloat32\u001b[0m\u001b[0;34m)\u001b[0m\u001b[0;34m)\u001b[0m\u001b[0;34m\u001b[0m\u001b[0;34m\u001b[0m\u001b[0m\n\u001b[0m",
      "\u001b[0;32m~/anaconda3/lib/python3.9/site-packages/torch/nn/modules/module.py\u001b[0m in \u001b[0;36m_call_impl\u001b[0;34m(self, *input, **kwargs)\u001b[0m\n\u001b[1;32m   1192\u001b[0m         if not (self._backward_hooks or self._forward_hooks or self._forward_pre_hooks or _global_backward_hooks\n\u001b[1;32m   1193\u001b[0m                 or _global_forward_hooks or _global_forward_pre_hooks):\n\u001b[0;32m-> 1194\u001b[0;31m             \u001b[0;32mreturn\u001b[0m \u001b[0mforward_call\u001b[0m\u001b[0;34m(\u001b[0m\u001b[0;34m*\u001b[0m\u001b[0minput\u001b[0m\u001b[0;34m,\u001b[0m \u001b[0;34m**\u001b[0m\u001b[0mkwargs\u001b[0m\u001b[0;34m)\u001b[0m\u001b[0;34m\u001b[0m\u001b[0;34m\u001b[0m\u001b[0m\n\u001b[0m\u001b[1;32m   1195\u001b[0m         \u001b[0;31m# Do not call functions when jit is used\u001b[0m\u001b[0;34m\u001b[0m\u001b[0;34m\u001b[0m\u001b[0m\n\u001b[1;32m   1196\u001b[0m         \u001b[0mfull_backward_hooks\u001b[0m\u001b[0;34m,\u001b[0m \u001b[0mnon_full_backward_hooks\u001b[0m \u001b[0;34m=\u001b[0m \u001b[0;34m[\u001b[0m\u001b[0;34m]\u001b[0m\u001b[0;34m,\u001b[0m \u001b[0;34m[\u001b[0m\u001b[0;34m]\u001b[0m\u001b[0;34m\u001b[0m\u001b[0;34m\u001b[0m\u001b[0m\n",
      "\u001b[0;32m/tmp/ipykernel_3702/747093306.py\u001b[0m in \u001b[0;36mforward\u001b[0;34m(self, inputs)\u001b[0m\n\u001b[1;32m     14\u001b[0m \u001b[0;34m\u001b[0m\u001b[0m\n\u001b[1;32m     15\u001b[0m     \u001b[0;32mdef\u001b[0m \u001b[0mforward\u001b[0m\u001b[0;34m(\u001b[0m\u001b[0mself\u001b[0m\u001b[0;34m,\u001b[0m \u001b[0minputs\u001b[0m\u001b[0;34m)\u001b[0m\u001b[0;34m:\u001b[0m\u001b[0;34m\u001b[0m\u001b[0;34m\u001b[0m\u001b[0m\n\u001b[0;32m---> 16\u001b[0;31m         \u001b[0mx\u001b[0m \u001b[0;34m=\u001b[0m \u001b[0mself\u001b[0m\u001b[0;34m.\u001b[0m\u001b[0mrelu\u001b[0m\u001b[0;34m(\u001b[0m\u001b[0mself\u001b[0m\u001b[0;34m.\u001b[0m\u001b[0mlayer_1\u001b[0m\u001b[0;34m(\u001b[0m\u001b[0minputs\u001b[0m\u001b[0;34m)\u001b[0m\u001b[0;34m)\u001b[0m\u001b[0;34m\u001b[0m\u001b[0;34m\u001b[0m\u001b[0m\n\u001b[0m\u001b[1;32m     17\u001b[0m         \u001b[0mx\u001b[0m \u001b[0;34m=\u001b[0m \u001b[0mself\u001b[0m\u001b[0;34m.\u001b[0m\u001b[0mbatchnorm1\u001b[0m\u001b[0;34m(\u001b[0m\u001b[0mx\u001b[0m\u001b[0;34m)\u001b[0m\u001b[0;34m\u001b[0m\u001b[0;34m\u001b[0m\u001b[0m\n\u001b[1;32m     18\u001b[0m         \u001b[0mx\u001b[0m \u001b[0;34m=\u001b[0m \u001b[0mself\u001b[0m\u001b[0;34m.\u001b[0m\u001b[0mdropout\u001b[0m\u001b[0;34m(\u001b[0m\u001b[0mx\u001b[0m\u001b[0;34m)\u001b[0m\u001b[0;34m\u001b[0m\u001b[0;34m\u001b[0m\u001b[0m\n",
      "\u001b[0;32m~/anaconda3/lib/python3.9/site-packages/torch/nn/modules/module.py\u001b[0m in \u001b[0;36m_call_impl\u001b[0;34m(self, *input, **kwargs)\u001b[0m\n\u001b[1;32m   1192\u001b[0m         if not (self._backward_hooks or self._forward_hooks or self._forward_pre_hooks or _global_backward_hooks\n\u001b[1;32m   1193\u001b[0m                 or _global_forward_hooks or _global_forward_pre_hooks):\n\u001b[0;32m-> 1194\u001b[0;31m             \u001b[0;32mreturn\u001b[0m \u001b[0mforward_call\u001b[0m\u001b[0;34m(\u001b[0m\u001b[0;34m*\u001b[0m\u001b[0minput\u001b[0m\u001b[0;34m,\u001b[0m \u001b[0;34m**\u001b[0m\u001b[0mkwargs\u001b[0m\u001b[0;34m)\u001b[0m\u001b[0;34m\u001b[0m\u001b[0;34m\u001b[0m\u001b[0m\n\u001b[0m\u001b[1;32m   1195\u001b[0m         \u001b[0;31m# Do not call functions when jit is used\u001b[0m\u001b[0;34m\u001b[0m\u001b[0;34m\u001b[0m\u001b[0m\n\u001b[1;32m   1196\u001b[0m         \u001b[0mfull_backward_hooks\u001b[0m\u001b[0;34m,\u001b[0m \u001b[0mnon_full_backward_hooks\u001b[0m \u001b[0;34m=\u001b[0m \u001b[0;34m[\u001b[0m\u001b[0;34m]\u001b[0m\u001b[0;34m,\u001b[0m \u001b[0;34m[\u001b[0m\u001b[0;34m]\u001b[0m\u001b[0;34m\u001b[0m\u001b[0;34m\u001b[0m\u001b[0m\n",
      "\u001b[0;32m~/anaconda3/lib/python3.9/site-packages/torch/nn/modules/linear.py\u001b[0m in \u001b[0;36mforward\u001b[0;34m(self, input)\u001b[0m\n\u001b[1;32m    112\u001b[0m \u001b[0;34m\u001b[0m\u001b[0m\n\u001b[1;32m    113\u001b[0m     \u001b[0;32mdef\u001b[0m \u001b[0mforward\u001b[0m\u001b[0;34m(\u001b[0m\u001b[0mself\u001b[0m\u001b[0;34m,\u001b[0m \u001b[0minput\u001b[0m\u001b[0;34m:\u001b[0m \u001b[0mTensor\u001b[0m\u001b[0;34m)\u001b[0m \u001b[0;34m->\u001b[0m \u001b[0mTensor\u001b[0m\u001b[0;34m:\u001b[0m\u001b[0;34m\u001b[0m\u001b[0;34m\u001b[0m\u001b[0m\n\u001b[0;32m--> 114\u001b[0;31m         \u001b[0;32mreturn\u001b[0m \u001b[0mF\u001b[0m\u001b[0;34m.\u001b[0m\u001b[0mlinear\u001b[0m\u001b[0;34m(\u001b[0m\u001b[0minput\u001b[0m\u001b[0;34m,\u001b[0m \u001b[0mself\u001b[0m\u001b[0;34m.\u001b[0m\u001b[0mweight\u001b[0m\u001b[0;34m,\u001b[0m \u001b[0mself\u001b[0m\u001b[0;34m.\u001b[0m\u001b[0mbias\u001b[0m\u001b[0;34m)\u001b[0m\u001b[0;34m\u001b[0m\u001b[0;34m\u001b[0m\u001b[0m\n\u001b[0m\u001b[1;32m    115\u001b[0m \u001b[0;34m\u001b[0m\u001b[0m\n\u001b[1;32m    116\u001b[0m     \u001b[0;32mdef\u001b[0m \u001b[0mextra_repr\u001b[0m\u001b[0;34m(\u001b[0m\u001b[0mself\u001b[0m\u001b[0;34m)\u001b[0m \u001b[0;34m->\u001b[0m \u001b[0mstr\u001b[0m\u001b[0;34m:\u001b[0m\u001b[0;34m\u001b[0m\u001b[0;34m\u001b[0m\u001b[0m\n",
      "\u001b[0;31mRuntimeError\u001b[0m: [enforce fail at alloc_cpu.cpp:75] err == 0. DefaultCPUAllocator: can't allocate memory: you tried to allocate 40750661632 bytes. Error code 12 (Cannot allocate memory)"
     ]
    }
   ],
   "source": [
    "model.cpu()\n",
    "\n",
    "model(torch.tensor(df, dtype=torch.float32))"
   ]
  },
  {
   "cell_type": "code",
   "execution_count": 17,
   "id": "a5e96518-f5f0-451b-ad02-e561376d18c5",
   "metadata": {},
   "outputs": [
    {
     "data": {
      "text/plain": [
       "tensor([[0.0000, 0.0000, 0.0000,  ..., 0.0000, 0.1105, 0.5000],\n",
       "        [0.0000, 0.0000, 0.0000,  ..., 0.1326, 0.1326, 0.5000],\n",
       "        [0.0000, 0.0000, 0.0000,  ..., 0.1547, 0.1547, 0.5000],\n",
       "        ...,\n",
       "        [0.0000, 0.0000, 0.0000,  ..., 0.0000, 0.0000, 0.0000],\n",
       "        [0.0000, 0.0000, 0.0000,  ..., 0.0000, 0.0000, 0.0000],\n",
       "        [0.0000, 0.0000, 0.0000,  ..., 0.0000, 0.0000, 0.0000]])"
      ]
     },
     "execution_count": 17,
     "metadata": {},
     "output_type": "execute_result"
    }
   ],
   "source": [
    "torch.tensor(df, dtype=torch.float32)"
   ]
  },
  {
   "cell_type": "code",
   "execution_count": 16,
   "id": "cd1db6b7-7f26-421e-8b85-1806acec35a5",
   "metadata": {},
   "outputs": [
    {
     "data": {
      "text/plain": [
       "Linear(in_features=111, out_features=4096, bias=True)"
      ]
     },
     "execution_count": 16,
     "metadata": {},
     "output_type": "execute_result"
    }
   ],
   "source": [
    "model.layer_1"
   ]
  },
  {
   "cell_type": "code",
   "execution_count": 9,
   "id": "a730c269-1cf5-4c46-b953-127c8df754a3",
   "metadata": {},
   "outputs": [],
   "source": [
    "class TestData(Dataset):\n",
    "    \n",
    "    def __init__(self, X_data):\n",
    "        self.X_data = X_data\n",
    "        \n",
    "    def __getitem__(self, index):\n",
    "        return self.X_data[index]\n",
    "        \n",
    "    def __len__ (self):\n",
    "        return len(self.X_data)"
   ]
  },
  {
   "cell_type": "code",
   "execution_count": 13,
   "id": "9475a468-41d0-4dc3-be72-3117a742ca72",
   "metadata": {},
   "outputs": [],
   "source": [
    "test_data = TestData(torch.tensor(df, dtype=torch.float32))"
   ]
  },
  {
   "cell_type": "code",
   "execution_count": 14,
   "id": "a10c3a92-252e-41d5-a1fe-fb2a9f25f3bd",
   "metadata": {},
   "outputs": [],
   "source": [
    "loader = DataLoader(dataset=test_data, batch_size=512, shuffle=False)"
   ]
  },
  {
   "cell_type": "code",
   "execution_count": 19,
   "id": "250a7e14-904e-49ef-a7f7-2f432bc52d1d",
   "metadata": {},
   "outputs": [],
   "source": [
    "model.cpu()\n",
    "\n",
    "f = True\n",
    "dataset = None\n",
    "for X_batch in loader:\n",
    "    if f:\n",
    "        pd.DataFrame(model(X_batch).detach().numpy()).to_csv(\"post_knn.csv\")\n",
    "        f = False\n",
    "    else:\n",
    "        pd.DataFrame(model(X_batch).detach().numpy()).to_csv(\"post_knn.csv\", mode='a', header=False)"
   ]
  },
  {
   "cell_type": "code",
   "execution_count": 30,
   "id": "b25b9fde-ed43-48b0-8eb1-9317ccb4e5d6",
   "metadata": {},
   "outputs": [
    {
     "data": {
      "text/plain": [
       "torch.Size([439, 64])"
      ]
     },
     "execution_count": 30,
     "metadata": {},
     "output_type": "execute_result"
    }
   ],
   "source": [
    "dataset.shape"
   ]
  },
  {
   "cell_type": "code",
   "execution_count": 18,
   "id": "f0ec71d0-4a23-48db-be42-a18c5a48bdd0",
   "metadata": {},
   "outputs": [
    {
     "data": {
      "text/html": [
       "<div>\n",
       "<style scoped>\n",
       "    .dataframe tbody tr th:only-of-type {\n",
       "        vertical-align: middle;\n",
       "    }\n",
       "\n",
       "    .dataframe tbody tr th {\n",
       "        vertical-align: top;\n",
       "    }\n",
       "\n",
       "    .dataframe thead th {\n",
       "        text-align: right;\n",
       "    }\n",
       "</style>\n",
       "<table border=\"1\" class=\"dataframe\">\n",
       "  <thead>\n",
       "    <tr style=\"text-align: right;\">\n",
       "      <th></th>\n",
       "      <th>0</th>\n",
       "      <th>1</th>\n",
       "      <th>2</th>\n",
       "      <th>3</th>\n",
       "      <th>4</th>\n",
       "      <th>5</th>\n",
       "      <th>6</th>\n",
       "      <th>7</th>\n",
       "      <th>8</th>\n",
       "      <th>9</th>\n",
       "      <th>...</th>\n",
       "      <th>101</th>\n",
       "      <th>102</th>\n",
       "      <th>103</th>\n",
       "      <th>104</th>\n",
       "      <th>105</th>\n",
       "      <th>106</th>\n",
       "      <th>107</th>\n",
       "      <th>108</th>\n",
       "      <th>109</th>\n",
       "      <th>110</th>\n",
       "    </tr>\n",
       "  </thead>\n",
       "  <tbody>\n",
       "    <tr>\n",
       "      <th>0</th>\n",
       "      <td>0.0</td>\n",
       "      <td>0.0</td>\n",
       "      <td>0.0</td>\n",
       "      <td>0.0</td>\n",
       "      <td>0.0</td>\n",
       "      <td>0.0</td>\n",
       "      <td>0.0</td>\n",
       "      <td>0.0</td>\n",
       "      <td>0.0</td>\n",
       "      <td>0.99998</td>\n",
       "      <td>...</td>\n",
       "      <td>0.000000</td>\n",
       "      <td>0.516129</td>\n",
       "      <td>0.034483</td>\n",
       "      <td>0.000853</td>\n",
       "      <td>2.899252e-13</td>\n",
       "      <td>0.0</td>\n",
       "      <td>0.106195</td>\n",
       "      <td>0.000000</td>\n",
       "      <td>0.110482</td>\n",
       "      <td>0.5</td>\n",
       "    </tr>\n",
       "    <tr>\n",
       "      <th>1</th>\n",
       "      <td>0.0</td>\n",
       "      <td>0.0</td>\n",
       "      <td>0.0</td>\n",
       "      <td>0.0</td>\n",
       "      <td>0.0</td>\n",
       "      <td>0.0</td>\n",
       "      <td>0.0</td>\n",
       "      <td>0.0</td>\n",
       "      <td>0.0</td>\n",
       "      <td>0.99998</td>\n",
       "      <td>...</td>\n",
       "      <td>0.000181</td>\n",
       "      <td>0.774194</td>\n",
       "      <td>0.034483</td>\n",
       "      <td>0.001089</td>\n",
       "      <td>4.501470e-13</td>\n",
       "      <td>0.0</td>\n",
       "      <td>0.106195</td>\n",
       "      <td>0.132574</td>\n",
       "      <td>0.132578</td>\n",
       "      <td>0.5</td>\n",
       "    </tr>\n",
       "    <tr>\n",
       "      <th>2</th>\n",
       "      <td>0.0</td>\n",
       "      <td>0.0</td>\n",
       "      <td>0.0</td>\n",
       "      <td>0.0</td>\n",
       "      <td>0.0</td>\n",
       "      <td>0.0</td>\n",
       "      <td>0.0</td>\n",
       "      <td>0.0</td>\n",
       "      <td>0.0</td>\n",
       "      <td>0.99998</td>\n",
       "      <td>...</td>\n",
       "      <td>0.000361</td>\n",
       "      <td>0.774194</td>\n",
       "      <td>0.034483</td>\n",
       "      <td>0.001304</td>\n",
       "      <td>5.900232e-13</td>\n",
       "      <td>0.0</td>\n",
       "      <td>0.106195</td>\n",
       "      <td>0.154670</td>\n",
       "      <td>0.154675</td>\n",
       "      <td>0.5</td>\n",
       "    </tr>\n",
       "    <tr>\n",
       "      <th>3</th>\n",
       "      <td>0.0</td>\n",
       "      <td>0.0</td>\n",
       "      <td>0.0</td>\n",
       "      <td>0.0</td>\n",
       "      <td>0.0</td>\n",
       "      <td>0.0</td>\n",
       "      <td>0.0</td>\n",
       "      <td>0.0</td>\n",
       "      <td>0.0</td>\n",
       "      <td>0.99998</td>\n",
       "      <td>...</td>\n",
       "      <td>0.000542</td>\n",
       "      <td>0.774194</td>\n",
       "      <td>0.034483</td>\n",
       "      <td>0.001515</td>\n",
       "      <td>7.298994e-13</td>\n",
       "      <td>0.0</td>\n",
       "      <td>0.106195</td>\n",
       "      <td>0.176766</td>\n",
       "      <td>0.176771</td>\n",
       "      <td>0.5</td>\n",
       "    </tr>\n",
       "    <tr>\n",
       "      <th>4</th>\n",
       "      <td>0.0</td>\n",
       "      <td>0.0</td>\n",
       "      <td>0.0</td>\n",
       "      <td>0.0</td>\n",
       "      <td>0.0</td>\n",
       "      <td>0.0</td>\n",
       "      <td>0.0</td>\n",
       "      <td>0.0</td>\n",
       "      <td>0.0</td>\n",
       "      <td>0.99998</td>\n",
       "      <td>...</td>\n",
       "      <td>0.000903</td>\n",
       "      <td>0.774194</td>\n",
       "      <td>0.034483</td>\n",
       "      <td>0.001764</td>\n",
       "      <td>9.397137e-13</td>\n",
       "      <td>0.0</td>\n",
       "      <td>0.106195</td>\n",
       "      <td>0.220957</td>\n",
       "      <td>0.198868</td>\n",
       "      <td>0.5</td>\n",
       "    </tr>\n",
       "    <tr>\n",
       "      <th>...</th>\n",
       "      <td>...</td>\n",
       "      <td>...</td>\n",
       "      <td>...</td>\n",
       "      <td>...</td>\n",
       "      <td>...</td>\n",
       "      <td>...</td>\n",
       "      <td>...</td>\n",
       "      <td>...</td>\n",
       "      <td>...</td>\n",
       "      <td>...</td>\n",
       "      <td>...</td>\n",
       "      <td>...</td>\n",
       "      <td>...</td>\n",
       "      <td>...</td>\n",
       "      <td>...</td>\n",
       "      <td>...</td>\n",
       "      <td>...</td>\n",
       "      <td>...</td>\n",
       "      <td>...</td>\n",
       "      <td>...</td>\n",
       "      <td>...</td>\n",
       "    </tr>\n",
       "    <tr>\n",
       "      <th>507</th>\n",
       "      <td>0.0</td>\n",
       "      <td>0.0</td>\n",
       "      <td>0.0</td>\n",
       "      <td>0.0</td>\n",
       "      <td>0.0</td>\n",
       "      <td>0.0</td>\n",
       "      <td>0.0</td>\n",
       "      <td>0.0</td>\n",
       "      <td>0.0</td>\n",
       "      <td>0.99998</td>\n",
       "      <td>...</td>\n",
       "      <td>0.001806</td>\n",
       "      <td>0.774194</td>\n",
       "      <td>0.034483</td>\n",
       "      <td>0.002727</td>\n",
       "      <td>1.593317e-12</td>\n",
       "      <td>0.0</td>\n",
       "      <td>0.106195</td>\n",
       "      <td>0.331436</td>\n",
       "      <td>0.287253</td>\n",
       "      <td>0.5</td>\n",
       "    </tr>\n",
       "    <tr>\n",
       "      <th>508</th>\n",
       "      <td>0.0</td>\n",
       "      <td>0.0</td>\n",
       "      <td>0.0</td>\n",
       "      <td>0.0</td>\n",
       "      <td>0.0</td>\n",
       "      <td>0.0</td>\n",
       "      <td>0.0</td>\n",
       "      <td>0.0</td>\n",
       "      <td>0.0</td>\n",
       "      <td>0.99998</td>\n",
       "      <td>...</td>\n",
       "      <td>0.000000</td>\n",
       "      <td>0.516129</td>\n",
       "      <td>0.034483</td>\n",
       "      <td>0.000853</td>\n",
       "      <td>2.899252e-13</td>\n",
       "      <td>0.0</td>\n",
       "      <td>0.106195</td>\n",
       "      <td>0.000000</td>\n",
       "      <td>0.110482</td>\n",
       "      <td>0.5</td>\n",
       "    </tr>\n",
       "    <tr>\n",
       "      <th>509</th>\n",
       "      <td>0.0</td>\n",
       "      <td>0.0</td>\n",
       "      <td>0.0</td>\n",
       "      <td>0.0</td>\n",
       "      <td>0.0</td>\n",
       "      <td>0.0</td>\n",
       "      <td>0.0</td>\n",
       "      <td>0.0</td>\n",
       "      <td>0.0</td>\n",
       "      <td>0.99998</td>\n",
       "      <td>...</td>\n",
       "      <td>0.000000</td>\n",
       "      <td>0.516129</td>\n",
       "      <td>0.034483</td>\n",
       "      <td>0.000853</td>\n",
       "      <td>2.899252e-13</td>\n",
       "      <td>0.0</td>\n",
       "      <td>0.106195</td>\n",
       "      <td>0.000000</td>\n",
       "      <td>0.110482</td>\n",
       "      <td>0.5</td>\n",
       "    </tr>\n",
       "    <tr>\n",
       "      <th>510</th>\n",
       "      <td>0.0</td>\n",
       "      <td>0.0</td>\n",
       "      <td>0.0</td>\n",
       "      <td>0.0</td>\n",
       "      <td>0.0</td>\n",
       "      <td>0.0</td>\n",
       "      <td>0.0</td>\n",
       "      <td>0.0</td>\n",
       "      <td>0.0</td>\n",
       "      <td>0.99998</td>\n",
       "      <td>...</td>\n",
       "      <td>0.000181</td>\n",
       "      <td>0.774194</td>\n",
       "      <td>0.034483</td>\n",
       "      <td>0.001089</td>\n",
       "      <td>4.501470e-13</td>\n",
       "      <td>0.0</td>\n",
       "      <td>0.106195</td>\n",
       "      <td>0.132574</td>\n",
       "      <td>0.132578</td>\n",
       "      <td>0.5</td>\n",
       "    </tr>\n",
       "    <tr>\n",
       "      <th>511</th>\n",
       "      <td>0.0</td>\n",
       "      <td>0.0</td>\n",
       "      <td>0.0</td>\n",
       "      <td>0.0</td>\n",
       "      <td>0.0</td>\n",
       "      <td>0.0</td>\n",
       "      <td>0.0</td>\n",
       "      <td>0.0</td>\n",
       "      <td>0.0</td>\n",
       "      <td>0.99998</td>\n",
       "      <td>...</td>\n",
       "      <td>0.000181</td>\n",
       "      <td>0.774194</td>\n",
       "      <td>0.034483</td>\n",
       "      <td>0.001089</td>\n",
       "      <td>4.501470e-13</td>\n",
       "      <td>0.0</td>\n",
       "      <td>0.106195</td>\n",
       "      <td>0.132574</td>\n",
       "      <td>0.132578</td>\n",
       "      <td>0.5</td>\n",
       "    </tr>\n",
       "  </tbody>\n",
       "</table>\n",
       "<p>512 rows × 111 columns</p>\n",
       "</div>"
      ],
      "text/plain": [
       "     0    1    2    3    4    5    6    7    8        9    ...       101  \\\n",
       "0    0.0  0.0  0.0  0.0  0.0  0.0  0.0  0.0  0.0  0.99998  ...  0.000000   \n",
       "1    0.0  0.0  0.0  0.0  0.0  0.0  0.0  0.0  0.0  0.99998  ...  0.000181   \n",
       "2    0.0  0.0  0.0  0.0  0.0  0.0  0.0  0.0  0.0  0.99998  ...  0.000361   \n",
       "3    0.0  0.0  0.0  0.0  0.0  0.0  0.0  0.0  0.0  0.99998  ...  0.000542   \n",
       "4    0.0  0.0  0.0  0.0  0.0  0.0  0.0  0.0  0.0  0.99998  ...  0.000903   \n",
       "..   ...  ...  ...  ...  ...  ...  ...  ...  ...      ...  ...       ...   \n",
       "507  0.0  0.0  0.0  0.0  0.0  0.0  0.0  0.0  0.0  0.99998  ...  0.001806   \n",
       "508  0.0  0.0  0.0  0.0  0.0  0.0  0.0  0.0  0.0  0.99998  ...  0.000000   \n",
       "509  0.0  0.0  0.0  0.0  0.0  0.0  0.0  0.0  0.0  0.99998  ...  0.000000   \n",
       "510  0.0  0.0  0.0  0.0  0.0  0.0  0.0  0.0  0.0  0.99998  ...  0.000181   \n",
       "511  0.0  0.0  0.0  0.0  0.0  0.0  0.0  0.0  0.0  0.99998  ...  0.000181   \n",
       "\n",
       "          102       103       104           105  106       107       108  \\\n",
       "0    0.516129  0.034483  0.000853  2.899252e-13  0.0  0.106195  0.000000   \n",
       "1    0.774194  0.034483  0.001089  4.501470e-13  0.0  0.106195  0.132574   \n",
       "2    0.774194  0.034483  0.001304  5.900232e-13  0.0  0.106195  0.154670   \n",
       "3    0.774194  0.034483  0.001515  7.298994e-13  0.0  0.106195  0.176766   \n",
       "4    0.774194  0.034483  0.001764  9.397137e-13  0.0  0.106195  0.220957   \n",
       "..        ...       ...       ...           ...  ...       ...       ...   \n",
       "507  0.774194  0.034483  0.002727  1.593317e-12  0.0  0.106195  0.331436   \n",
       "508  0.516129  0.034483  0.000853  2.899252e-13  0.0  0.106195  0.000000   \n",
       "509  0.516129  0.034483  0.000853  2.899252e-13  0.0  0.106195  0.000000   \n",
       "510  0.774194  0.034483  0.001089  4.501470e-13  0.0  0.106195  0.132574   \n",
       "511  0.774194  0.034483  0.001089  4.501470e-13  0.0  0.106195  0.132574   \n",
       "\n",
       "          109  110  \n",
       "0    0.110482  0.5  \n",
       "1    0.132578  0.5  \n",
       "2    0.154675  0.5  \n",
       "3    0.176771  0.5  \n",
       "4    0.198868  0.5  \n",
       "..        ...  ...  \n",
       "507  0.287253  0.5  \n",
       "508  0.110482  0.5  \n",
       "509  0.110482  0.5  \n",
       "510  0.132578  0.5  \n",
       "511  0.132578  0.5  \n",
       "\n",
       "[512 rows x 111 columns]"
      ]
     },
     "execution_count": 18,
     "metadata": {},
     "output_type": "execute_result"
    }
   ],
   "source": [
    "pd.DataFrame(X_batch.numpy())"
   ]
  },
  {
   "cell_type": "code",
   "execution_count": null,
   "id": "ea6d036a-d699-49cb-ae0d-6d53d9de73cf",
   "metadata": {},
   "outputs": [],
   "source": []
  }
 ],
 "metadata": {
  "kernelspec": {
   "display_name": "Python 3 (ipykernel)",
   "language": "python",
   "name": "python3"
  },
  "language_info": {
   "codemirror_mode": {
    "name": "ipython",
    "version": 3
   },
   "file_extension": ".py",
   "mimetype": "text/x-python",
   "name": "python",
   "nbconvert_exporter": "python",
   "pygments_lexer": "ipython3",
   "version": "3.9.13"
  }
 },
 "nbformat": 4,
 "nbformat_minor": 5
}
