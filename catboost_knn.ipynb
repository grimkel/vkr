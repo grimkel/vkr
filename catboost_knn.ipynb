{
 "cells": [
  {
   "cell_type": "code",
   "execution_count": 1,
   "id": "bb5a0ccc-c017-473a-9e81-933135765790",
   "metadata": {},
   "outputs": [],
   "source": [
    "import pandas as pd\n",
    "from tqdm import tqdm\n",
    "from pyarrow import csv\n",
    "import pyarrow as pa\n",
    "from sklearn.svm import OneClassSVM\n",
    "\n",
    "import torch\n",
    "import torch.nn as nn\n",
    "import torch.optim as optim\n",
    "from torch.utils.data import Dataset, DataLoader\n",
    "\n",
    "import matplotlib.pyplot as plt\n",
    "import plotly.graph_objects as go\n",
    "\n",
    "from catboost import CatBoostClassifier\n",
    "from sklearn.manifold import TSNE\n",
    "from sklearn.discriminant_analysis import LinearDiscriminantAnalysis as LDA\n",
    "from sklearn.preprocessing import StandardScaler,MinMaxScaler\n",
    "from sklearn.preprocessing import OneHotEncoder\n",
    "\n",
    "import numpy as np # linear algebra\n",
    "import pandas as pd # data processing, CSV file I/O (e.g. pd.read_csv)\n",
    "import gc\n",
    "from sklearn.model_selection import train_test_split\n",
    "from sklearn.preprocessing import QuantileTransformer, MinMaxScaler, StandardScaler\n",
    "from sklearn.metrics import auc, accuracy_score, precision_score, recall_score, roc_curve, precision_recall_curve\n",
    "from sklearn.metrics import confusion_matrix\n",
    "import pandas as pd\n",
    "from tqdm import tqdm\n",
    "from pyarrow import csv\n",
    "import pyarrow as pa\n",
    "\n",
    "import torch\n",
    "import torch.nn as nn\n",
    "import torch.optim as optim\n",
    "from torch.utils.data import Dataset, DataLoader\n",
    "\n",
    "import matplotlib.pyplot as plt\n",
    "import plotly.graph_objects as go\n",
    "\n",
    "from catboost import CatBoostClassifier\n",
    "from sklearn.manifold import TSNE\n",
    "from sklearn.discriminant_analysis import LinearDiscriminantAnalysis as LDA\n",
    "from sklearn.preprocessing import StandardScaler,MinMaxScaler\n",
    "from sklearn.preprocessing import OneHotEncoder"
   ]
  },
  {
   "cell_type": "code",
   "execution_count": 2,
   "id": "8feb212f-eaf3-4c7b-a550-4f48330a06b4",
   "metadata": {},
   "outputs": [],
   "source": [
    "import pickle\n",
    "\n",
    "f = open('triple_Y.pure', 'rb')\n",
    "Y = pickle.load(f)\n",
    "f.close()"
   ]
  },
  {
   "cell_type": "code",
   "execution_count": 3,
   "id": "b8abe07f-5a1c-45c6-8c31-235e74f2525f",
   "metadata": {},
   "outputs": [],
   "source": [
    "X = pd.read_csv(\"post_knn.csv\")\n",
    "X.drop(columns=['Unnamed: 0'], inplace=True)"
   ]
  },
  {
   "cell_type": "code",
   "execution_count": 4,
   "id": "334b9a1b-5970-4ee9-9d27-f49f5d80b6f8",
   "metadata": {},
   "outputs": [],
   "source": [
    "X_train, X_test, y_train, y_test = train_test_split(X, Y, test_size=0.01, random_state=42)"
   ]
  },
  {
   "cell_type": "code",
   "execution_count": 21,
   "id": "709de252-57d0-4cc8-b3e3-e9f019b53234",
   "metadata": {},
   "outputs": [
    {
     "data": {
      "text/plain": [
       "<catboost.core.CatBoostClassifier at 0x7f15b128a790>"
      ]
     },
     "execution_count": 21,
     "metadata": {},
     "output_type": "execute_result"
    }
   ],
   "source": [
    "clf = CatBoostClassifier(iterations=2000, depth=6, custom_metric=['AUC'], learning_rate=0.12, subsample=0.95, bootstrap_type='Bernoulli')\n",
    "clf.fit(X_train, y_train, verbose = False, early_stopping_rounds=100) "
   ]
  },
  {
   "cell_type": "code",
   "execution_count": 22,
   "id": "9cf2e9cc-d960-4e3a-a889-9164d22414fb",
   "metadata": {},
   "outputs": [
    {
     "data": {
      "text/plain": [
       "0.9966562445136277"
      ]
     },
     "execution_count": 22,
     "metadata": {},
     "output_type": "execute_result"
    }
   ],
   "source": [
    "accuracy_score(y_test, clf.predict(X_test))"
   ]
  },
  {
   "cell_type": "code",
   "execution_count": 25,
   "id": "4018aae0-9cb7-40f2-b711-67da65584c3a",
   "metadata": {},
   "outputs": [],
   "source": [
    "tn, fp, fn, tp = confusion_matrix(y_test, clf.predict(X_test)).ravel()"
   ]
  },
  {
   "cell_type": "code",
   "execution_count": 26,
   "id": "cf3105be-97e3-4848-84e7-6c970afdc3f6",
   "metadata": {},
   "outputs": [
    {
     "data": {
      "image/png": "[encoded data removed]",
      "text/plain": [
       "<Figure size 640x480 with 2 Axes>"
      ]
     },
     "metadata": {},
     "output_type": "display_data"
    }
   ],
   "source": [
    "import seaborn as sns\n",
    "import matplotlib.pyplot as plt     \n",
    "\n",
    "ax= plt.subplot()\n",
    "sns.heatmap([[tn, fp],[fn, tp]], annot=True, fmt='g', ax=ax);  #annot=True to annotate cells, ftm='g' to disable scientific notation\n",
    "\n",
    "# labels, title and ticks\n",
    "ax.set_xlabel('Predicted labels');ax.set_ylabel('True labels'); \n",
    "ax.set_title('Confusion Matrix'); \n",
    "ax.xaxis.set_ticklabels(['benign', 'malicious']); ax.yaxis.set_ticklabels(['benign', 'malicious']);"
   ]
  },
  {
   "cell_type": "code",
   "execution_count": 9,
   "id": "339d57af-1ef2-460e-a564-10103cd5d57d",
   "metadata": {},
   "outputs": [],
   "source": [
    "svm = OneClassSVM(gamma='auto').fit(X_test)"
   ]
  },
  {
   "cell_type": "code",
   "execution_count": 21,
   "id": "f26281d4-6617-48ed-b6c4-79342c4d741b",
   "metadata": {},
   "outputs": [],
   "source": [
    "pred = svm.predict(X_test)\n",
    "\n",
    "pred[pred == 1] = 0\n",
    "pred[pred == 0] = -1"
   ]
  },
  {
   "cell_type": "code",
   "execution_count": 11,
   "id": "01c05913-e7ca-4b3b-a8ff-b1e1f53c4bbe",
   "metadata": {},
   "outputs": [
    {
     "data": {
      "text/plain": [
       "890155     0\n",
       "1967698    0\n",
       "1205895    0\n",
       "1586356    0\n",
       "1030912    0\n",
       "          ..\n",
       "2473934    0\n",
       "2003988    1\n",
       "451061     0\n",
       "1721186    0\n",
       "1486403    0\n",
       "Name: Label, Length: 24873, dtype: int64"
      ]
     },
     "execution_count": 11,
     "metadata": {},
     "output_type": "execute_result"
    }
   ],
   "source": [
    "y_test"
   ]
  },
  {
   "cell_type": "code",
   "execution_count": 17,
   "id": "416f18f3-aac8-445d-b1dc-67300e361067",
   "metadata": {},
   "outputs": [
    {
     "data": {
      "text/plain": [
       "-1"
      ]
     },
     "execution_count": 17,
     "metadata": {},
     "output_type": "execute_result"
    }
   ],
   "source": [
    "pred[-4]"
   ]
  },
  {
   "cell_type": "code",
   "execution_count": 16,
   "id": "af6e4315-8c43-4436-a7f4-eabe7b6f7a1e",
   "metadata": {},
   "outputs": [
    {
     "data": {
      "text/plain": [
       "1"
      ]
     },
     "execution_count": 16,
     "metadata": {},
     "output_type": "execute_result"
    }
   ],
   "source": [
    "np.array(y_test)[-4]"
   ]
  },
  {
   "cell_type": "code",
   "execution_count": 20,
   "id": "3cc0b7da-e4fa-436a-bd93-e77cb06e645e",
   "metadata": {},
   "outputs": [],
   "source": [
    "pred[pred == 1] = 0\n",
    "pred[pred == 0] = -1"
   ]
  },
  {
   "cell_type": "code",
   "execution_count": null,
   "id": "b1ec47a2-ab45-4043-9059-2397c77eddd1",
   "metadata": {},
   "outputs": [],
   "source": []
  }
 ],
 "metadata": {
  "kernelspec": {
   "display_name": "Python 3 (ipykernel)",
   "language": "python",
   "name": "python3"
  },
  "language_info": {
   "codemirror_mode": {
    "name": "ipython",
    "version": 3
   },
   "file_extension": ".py",
   "mimetype": "text/x-python",
   "name": "python",
   "nbconvert_exporter": "python",
   "pygments_lexer": "ipython3",
   "version": "3.9.13"
  }
 },
 "nbformat": 4,
 "nbformat_minor": 5
}
