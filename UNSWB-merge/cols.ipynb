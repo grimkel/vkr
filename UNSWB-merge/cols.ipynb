{
 "cells": [
  {
   "cell_type": "code",
   "execution_count": 4,
   "id": "f73013d7-db7d-4f5c-a2c8-6247c415ad44",
   "metadata": {},
   "outputs": [],
   "source": [
    "import pandas as pd\n",
    "from pyarrow import csv"
   ]
  },
  {
   "cell_type": "code",
   "execution_count": null,
   "id": "808a961d-e48b-4a51-bb7b-ef8dc702ebcc",
   "metadata": {},
   "outputs": [],
   "source": []
  },
  {
   "cell_type": "code",
   "execution_count": null,
   "id": "5f27cff7-4df3-49d4-b6ae-45307e7db483",
   "metadata": {},
   "outputs": [],
   "source": []
  },
  {
   "cell_type": "code",
   "execution_count": 2,
   "id": "feb09c1f-f8e6-4a04-bb42-6a3d0fc0b5ae",
   "metadata": {},
   "outputs": [
    {
     "name": "stdout",
     "output_type": "stream",
     "text": [
      "CPU times: user 2 µs, sys: 1e+03 ns, total: 3 µs\n",
      "Wall time: 6.2 µs\n"
     ]
    }
   ],
   "source": [
    "%%time\n",
    "\n",
    "def read_cols(name):\n",
    "    chunk=None\n",
    "    chunksize = 10 ** 6\n",
    "    with csv.open_csv(name, \n",
    "        read_options=csv.ReadOptions(\n",
    "            use_threads=True,\n",
    "            block_size=chunksize\n",
    "        )) as reader:\n",
    "\n",
    "        i=0\n",
    "        for next_chunk in reader:\n",
    "            if next_chunk is None:\n",
    "                break\n",
    "            chunk=next_chunk\n",
    "            break\n",
    "    return next_chunk.to_pandas()"
   ]
  },
  {
   "cell_type": "code",
   "execution_count": 3,
   "id": "b8090754-74aa-485b-8271-37bad27b019f",
   "metadata": {},
   "outputs": [
    {
     "data": {
      "text/plain": [
       "Index(['IPV4_SRC_ADDR', 'L4_SRC_PORT', 'IPV4_DST_ADDR', 'L4_DST_PORT',\n",
       "       'PROTOCOL', 'L7_PROTO', 'IN_BYTES', 'IN_PKTS', 'OUT_BYTES', 'OUT_PKTS',\n",
       "       'TCP_FLAGS', 'CLIENT_TCP_FLAGS', 'SERVER_TCP_FLAGS',\n",
       "       'FLOW_DURATION_MILLISECONDS', 'DURATION_IN', 'DURATION_OUT', 'MIN_TTL',\n",
       "       'MAX_TTL', 'LONGEST_FLOW_PKT', 'SHORTEST_FLOW_PKT', 'MIN_IP_PKT_LEN',\n",
       "       'MAX_IP_PKT_LEN', 'SRC_TO_DST_SECOND_BYTES', 'DST_TO_SRC_SECOND_BYTES',\n",
       "       'RETRANSMITTED_IN_BYTES', 'RETRANSMITTED_IN_PKTS',\n",
       "       'RETRANSMITTED_OUT_BYTES', 'RETRANSMITTED_OUT_PKTS',\n",
       "       'SRC_TO_DST_AVG_THROUGHPUT', 'DST_TO_SRC_AVG_THROUGHPUT',\n",
       "       'NUM_PKTS_UP_TO_128_BYTES', 'NUM_PKTS_128_TO_256_BYTES',\n",
       "       'NUM_PKTS_256_TO_512_BYTES', 'NUM_PKTS_512_TO_1024_BYTES',\n",
       "       'NUM_PKTS_1024_TO_1514_BYTES', 'TCP_WIN_MAX_IN', 'TCP_WIN_MAX_OUT',\n",
       "       'ICMP_TYPE', 'ICMP_IPV4_TYPE', 'DNS_QUERY_ID', 'DNS_QUERY_TYPE',\n",
       "       'DNS_TTL_ANSWER', 'FTP_COMMAND_RET_CODE', 'Label', 'Attack', 'Dataset'],\n",
       "      dtype='object')"
      ]
     },
     "execution_count": 3,
     "metadata": {},
     "output_type": "execute_result"
    }
   ],
   "source": [
    "pd = read_cols('NF-UQ-NIDS-v2.csv')\n",
    "pd.columns"
   ]
  },
  {
   "cell_type": "code",
   "execution_count": 4,
   "id": "fdd6b4b0-42bc-4ed4-9d41-27d6ebf217e2",
   "metadata": {},
   "outputs": [
    {
     "data": {
      "text/plain": [
       "1    3653\n",
       "0    1873\n",
       "Name: Label, dtype: int64"
      ]
     },
     "execution_count": 4,
     "metadata": {},
     "output_type": "execute_result"
    }
   ],
   "source": [
    "pd['Label'].value_counts()"
   ]
  },
  {
   "cell_type": "code",
   "execution_count": 5,
   "id": "e00a192e-47ce-4f8f-819d-56776dbf548c",
   "metadata": {},
   "outputs": [
    {
     "data": {
      "text/plain": [
       "Index(['Unnamed: 0', 'Flow ID', ' Source IP', ' Source Port',\n",
       "       ' Destination IP', ' Destination Port', ' Protocol', ' Timestamp',\n",
       "       ' Flow Duration', ' Total Fwd Packets', ' Total Backward Packets',\n",
       "       'Total Length of Fwd Packets', ' Total Length of Bwd Packets',\n",
       "       ' Fwd Packet Length Max', ' Fwd Packet Length Min',\n",
       "       ' Fwd Packet Length Mean', ' Fwd Packet Length Std',\n",
       "       'Bwd Packet Length Max', ' Bwd Packet Length Min',\n",
       "       ' Bwd Packet Length Mean', ' Bwd Packet Length Std', 'Flow Bytes/s',\n",
       "       ' Flow Packets/s', ' Flow IAT Mean', ' Flow IAT Std', ' Flow IAT Max',\n",
       "       ' Flow IAT Min', 'Fwd IAT Total', ' Fwd IAT Mean', ' Fwd IAT Std',\n",
       "       ' Fwd IAT Max', ' Fwd IAT Min', 'Bwd IAT Total', ' Bwd IAT Mean',\n",
       "       ' Bwd IAT Std', ' Bwd IAT Max', ' Bwd IAT Min', 'Fwd PSH Flags',\n",
       "       ' Bwd PSH Flags', ' Fwd URG Flags', ' Bwd URG Flags',\n",
       "       ' Fwd Header Length', ' Bwd Header Length', 'Fwd Packets/s',\n",
       "       ' Bwd Packets/s', ' Min Packet Length', ' Max Packet Length',\n",
       "       ' Packet Length Mean', ' Packet Length Std', ' Packet Length Variance',\n",
       "       'FIN Flag Count', ' SYN Flag Count', ' RST Flag Count',\n",
       "       ' PSH Flag Count', ' ACK Flag Count', ' URG Flag Count',\n",
       "       ' CWE Flag Count', ' ECE Flag Count', ' Down/Up Ratio',\n",
       "       ' Average Packet Size', ' Avg Fwd Segment Size',\n",
       "       ' Avg Bwd Segment Size', ' Fwd Header Length.1', 'Fwd Avg Bytes/Bulk',\n",
       "       ' Fwd Avg Packets/Bulk', ' Fwd Avg Bulk Rate', ' Bwd Avg Bytes/Bulk',\n",
       "       ' Bwd Avg Packets/Bulk', 'Bwd Avg Bulk Rate', 'Subflow Fwd Packets',\n",
       "       ' Subflow Fwd Bytes', ' Subflow Bwd Packets', ' Subflow Bwd Bytes',\n",
       "       'Init_Win_bytes_forward', ' Init_Win_bytes_backward',\n",
       "       ' act_data_pkt_fwd', ' min_seg_size_forward', 'Active Mean',\n",
       "       ' Active Std', ' Active Max', ' Active Min', 'Idle Mean', ' Idle Std',\n",
       "       ' Idle Max', ' Idle Min', 'SimillarHTTP', ' Inbound', ' Label'],\n",
       "      dtype='object')"
      ]
     },
     "execution_count": 5,
     "metadata": {},
     "output_type": "execute_result"
    }
   ],
   "source": [
    "pds = read_cols('01-12/DrDoS_LDAP.csv')\n",
    "pds.columns"
   ]
  },
  {
   "cell_type": "code",
   "execution_count": 6,
   "id": "18f542d3-a439-4c11-bd9b-c338a6a76543",
   "metadata": {},
   "outputs": [
    {
     "data": {
      "text/plain": [
       "UDP-lag    2100\n",
       "Name:  Label, dtype: int64"
      ]
     },
     "execution_count": 6,
     "metadata": {},
     "output_type": "execute_result"
    }
   ],
   "source": [
    "pds[' Label'].value_counts()"
   ]
  },
  {
   "cell_type": "code",
   "execution_count": 7,
   "id": "f5a44ced-a8d8-4f06-bf70-834e6464ee4e",
   "metadata": {},
   "outputs": [],
   "source": [
    "chose_cols_f=['PROTOCOL', \n",
    "              'IN_PKTS', \n",
    "              'OUT_PKTS',\n",
    "              'IN_BYTES',\n",
    "              'OUT_BYTES',\n",
    "              'DURATION_IN', #ADJUSTMENT NEEDED\n",
    "              'DURATION_OUT',#ADJUSTMENT NEEDED\n",
    "              'LONGEST_FLOW_PKT',\n",
    "              'SHORTEST_FLOW_PKT',\n",
    "              'Label' # fraud or not\n",
    "             ]\n",
    "chose_cols_s=[' Protocol', \n",
    "              ' Total Fwd Packets', \n",
    "              ' Total Backward Packets',\n",
    "              'Total Length of Fwd Packets',\n",
    "              ' Total Length of Bwd Packets',\n",
    "              'Fwd IAT Total',\n",
    "              'Bwd IAT Total',\n",
    "              max(' Fwd Packet Length Max', 'Bwd Packet Length Max'), # needs to be one\n",
    "              min(' Bwd Packet Length Min', ' Fwd Packet Length Min'), # needs to be one\n",
    "              ' Label' # attack type\n",
    "              ]"
   ]
  },
  {
   "cell_type": "code",
   "execution_count": 8,
   "id": "42620caa-5e92-46ee-baf1-05b7989b70bb",
   "metadata": {},
   "outputs": [],
   "source": [
    "chose_cols_s=[' Protocol', \n",
    "              ' Total Fwd Packets', \n",
    "              ' Total Backward Packets',\n",
    "              'Total Length of Fwd Packets',\n",
    "              ' Total Length of Bwd Packets',\n",
    "              'Fwd IAT Total',\n",
    "              'Bwd IAT Total',\n",
    "              ' Fwd Packet Length Max', \n",
    "              'Bwd Packet Length Max', \n",
    "              ' Bwd Packet Length Min', \n",
    "              ' Fwd Packet Length Min',\n",
    "              ' Label' # attack type\n",
    "              ]"
   ]
  },
  {
   "cell_type": "code",
   "execution_count": 20,
   "id": "b4416ff0-3fe3-4e4c-91a2-c4ecc2c93c2a",
   "metadata": {},
   "outputs": [
    {
     "name": "stdout",
     "output_type": "stream",
     "text": [
      "DrDoS_MSSQL.csv\n",
      "UDPLag.csv\n",
      "Syn.csv\n",
      "TFTP.csv\n",
      "DrDoS_DNS.csv\n",
      "DrDoS_LDAP.csv\n",
      "DrDoS_NTP.csv\n",
      "DrDoS_SNMP.csv\n",
      "DrDoS_UDP.csv\n",
      "DrDoS_NetBIOS.csv\n",
      "DrDoS_SSDP.csv\n",
      "UDPLag.csv\n",
      "Portmap.csv\n",
      "LDAP.csv\n",
      "NetBIOS.csv\n",
      "MSSQL.csv\n",
      "Syn.csv\n",
      "UDP.csv\n"
     ]
    }
   ],
   "source": [
    "from os import listdir\n",
    "from os.path import isfile, join\n",
    "\n",
    "files = ['./01-12','./03-11']\n",
    "for file in files:\n",
    "    for f in listdir(file):\n",
    "        if f[0] == '.':\n",
    "            continue\n",
    "        print(f)\n",
    "        "
   ]
  },
  {
   "cell_type": "code",
   "execution_count": 10,
   "id": "5c42bf21-3eeb-4996-be69-f16a99fc5929",
   "metadata": {},
   "outputs": [
    {
     "data": {
      "text/plain": [
       "['01-12', '03-11']"
      ]
     },
     "execution_count": 10,
     "metadata": {},
     "output_type": "execute_result"
    }
   ],
   "source": [
    "files"
   ]
  },
  {
   "cell_type": "code",
   "execution_count": null,
   "id": "d9d4df76-6ac9-4c98-bcee-cee207a7b8ba",
   "metadata": {},
   "outputs": [],
   "source": []
  }
 ],
 "metadata": {
  "kernelspec": {
   "display_name": "Python 3 (ipykernel)",
   "language": "python",
   "name": "python3"
  },
  "language_info": {
   "codemirror_mode": {
    "name": "ipython",
    "version": 3
   },
   "file_extension": ".py",
   "mimetype": "text/x-python",
   "name": "python",
   "nbconvert_exporter": "python",
   "pygments_lexer": "ipython3",
   "version": "3.9.13"
  }
 },
 "nbformat": 4,
 "nbformat_minor": 5
}
