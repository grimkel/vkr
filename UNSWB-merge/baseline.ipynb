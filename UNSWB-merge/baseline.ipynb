{
 "cells": [
  {
   "cell_type": "code",
   "execution_count": 1,
   "id": "bdb26557-a18b-4da1-a9a9-162e45b58bea",
   "metadata": {},
   "outputs": [],
   "source": [
    "import pandas as pd\n",
    "from tqdm import tqdm\n",
    "from pyarrow import csv\n",
    "import pyarrow as pa\n",
    "\n",
    "import numpy as np\n",
    "\n",
    "import pandas as pd\n",
    "from tqdm import tqdm\n",
    "from pyarrow import csv\n",
    "import pyarrow as pa\n",
    "\n",
    "import torch\n",
    "import torch.nn as nn\n",
    "import torch.optim as optim\n",
    "from torch.utils.data import Dataset, DataLoader\n",
    "\n",
    "import matplotlib.pyplot as plt\n",
    "import plotly.graph_objects as go\n",
    "\n",
    "from catboost import CatBoostClassifier\n",
    "from sklearn.manifold import TSNE\n",
    "from sklearn.discriminant_analysis import LinearDiscriminantAnalysis as LDA\n",
    "from sklearn.preprocessing import StandardScaler,MinMaxScaler\n",
    "from sklearn.preprocessing import OneHotEncoder\n",
    "from sklearn.metrics import confusion_matrix\n",
    "import numpy as np # linear algebra\n",
    "import pandas as pd # data processing, CSV file I/O (e.g. pd.read_csv)\n",
    "import gc\n",
    "from sklearn.model_selection import train_test_split\n",
    "from sklearn.preprocessing import QuantileTransformer, MinMaxScaler, StandardScaler\n",
    "from sklearn.metrics import auc, accuracy_score, precision_score, recall_score, roc_curve, precision_recall_curve"
   ]
  },
  {
   "cell_type": "code",
   "execution_count": 2,
   "id": "6862249a-5d66-49ff-a4f2-f929ec291a87",
   "metadata": {},
   "outputs": [],
   "source": [
    "df = pd.read_parquet('NF-UNSW-NB15-V2.parquet')\n",
    "Y = df.Label\n",
    "features_to_remove = ['L4_SRC_PORT', 'L4_DST_PORT', 'Attack', 'Label']"
   ]
  },
  {
   "cell_type": "code",
   "execution_count": 3,
   "id": "19c0f688-98d4-41ac-9bb3-d543501d32a3",
   "metadata": {},
   "outputs": [],
   "source": [
    "X_train, X_test, y_train, y_test = train_test_split(df, Y, test_size=0.3,stratify=df.Attack, random_state=42)"
   ]
  },
  {
   "cell_type": "code",
   "execution_count": 4,
   "id": "8e05a338-0cf2-43cd-aa4e-153790471d01",
   "metadata": {},
   "outputs": [],
   "source": [
    "X_train.drop(columns=features_to_remove, axis=1, inplace=True)\n",
    "X_test.drop(columns=features_to_remove, axis=1, inplace=True)"
   ]
  },
  {
   "cell_type": "code",
   "execution_count": 5,
   "id": "a0dbe8ef-5630-4fc5-a4fc-6eea458b99ac",
   "metadata": {},
   "outputs": [
    {
     "data": {
      "text/plain": [
       "Index(['PROTOCOL', 'L7_PROTO', 'IN_BYTES', 'IN_PKTS', 'OUT_BYTES', 'OUT_PKTS',\n",
       "       'TCP_FLAGS', 'CLIENT_TCP_FLAGS', 'SERVER_TCP_FLAGS',\n",
       "       'FLOW_DURATION_MILLISECONDS', 'DURATION_IN', 'DURATION_OUT', 'MIN_TTL',\n",
       "       'MAX_TTL', 'LONGEST_FLOW_PKT', 'SHORTEST_FLOW_PKT', 'MIN_IP_PKT_LEN',\n",
       "       'MAX_IP_PKT_LEN', 'SRC_TO_DST_SECOND_BYTES', 'DST_TO_SRC_SECOND_BYTES',\n",
       "       'RETRANSMITTED_IN_BYTES', 'RETRANSMITTED_IN_PKTS',\n",
       "       'RETRANSMITTED_OUT_BYTES', 'RETRANSMITTED_OUT_PKTS',\n",
       "       'SRC_TO_DST_AVG_THROUGHPUT', 'DST_TO_SRC_AVG_THROUGHPUT',\n",
       "       'NUM_PKTS_UP_TO_128_BYTES', 'NUM_PKTS_128_TO_256_BYTES',\n",
       "       'NUM_PKTS_256_TO_512_BYTES', 'NUM_PKTS_512_TO_1024_BYTES',\n",
       "       'NUM_PKTS_1024_TO_1514_BYTES', 'TCP_WIN_MAX_IN', 'TCP_WIN_MAX_OUT',\n",
       "       'ICMP_TYPE', 'ICMP_IPV4_TYPE', 'DNS_QUERY_ID', 'DNS_QUERY_TYPE',\n",
       "       'DNS_TTL_ANSWER', 'FTP_COMMAND_RET_CODE'],\n",
       "      dtype='object')"
      ]
     },
     "execution_count": 5,
     "metadata": {},
     "output_type": "execute_result"
    }
   ],
   "source": [
    "X_test.columns"
   ]
  },
  {
   "cell_type": "code",
   "execution_count": 6,
   "id": "d296032f-4f0d-48e1-928f-814182fa8116",
   "metadata": {},
   "outputs": [],
   "source": [
    "scaler = MinMaxScaler()"
   ]
  },
  {
   "cell_type": "code",
   "execution_count": 7,
   "id": "2467e2dd-6b7f-4824-b82b-4cce85b699e5",
   "metadata": {},
   "outputs": [],
   "source": [
    "X_train = scaler.fit_transform(X_train)"
   ]
  },
  {
   "cell_type": "code",
   "execution_count": 8,
   "id": "f8111db9-a946-4817-b3ca-dd3da541249a",
   "metadata": {},
   "outputs": [],
   "source": [
    "X_test = scaler.transform(X_test)"
   ]
  },
  {
   "cell_type": "code",
   "execution_count": 10,
   "id": "4c7388f0-2a02-4770-8b35-f1330a4e6262",
   "metadata": {},
   "outputs": [
    {
     "data": {
      "text/plain": [
       "<catboost.core.CatBoostClassifier at 0x7f2205cdc580>"
      ]
     },
     "execution_count": 10,
     "metadata": {},
     "output_type": "execute_result"
    }
   ],
   "source": [
    "clf = CatBoostClassifier(iterations=10)\n",
    "clf.fit(X_train, y_train, verbose = False, early_stopping_rounds=100) "
   ]
  },
  {
   "cell_type": "code",
   "execution_count": 11,
   "id": "d4f57940-e9a7-4235-9ba1-f969f37c5174",
   "metadata": {},
   "outputs": [
    {
     "data": {
      "text/plain": [
       "0.9960723058131887"
      ]
     },
     "execution_count": 11,
     "metadata": {},
     "output_type": "execute_result"
    }
   ],
   "source": [
    "accuracy_score(y_test, clf.predict(X_test))"
   ]
  },
  {
   "cell_type": "code",
   "execution_count": 12,
   "id": "6ab26410-6bd5-4450-9925-1b79d97b24c1",
   "metadata": {},
   "outputs": [
    {
     "data": {
      "text/plain": [
       "array([3.69422424e-02, 8.80666058e-01, 9.62786093e-01, 6.84423128e-02,\n",
       "       5.73369547e-01, 6.23882465e-02, 7.93232200e-01, 1.34677781e+01,\n",
       "       5.40970531e-01, 1.26630182e+00, 9.62628807e-03, 0.00000000e+00,\n",
       "       4.41254897e+01, 2.00187203e+01, 1.75138604e+00, 2.07920582e+00,\n",
       "       0.00000000e+00, 2.17593341e-01, 1.18636111e-02, 1.27608662e-01,\n",
       "       6.91357239e-01, 2.85187914e-01, 0.00000000e+00, 5.66581324e-01,\n",
       "       5.70020445e-02, 2.77480655e-02, 1.58154953e+00, 8.48161096e-01,\n",
       "       0.00000000e+00, 2.79033036e-01, 0.00000000e+00, 7.18873498e+00,\n",
       "       0.00000000e+00, 1.41582659e+00, 6.44471896e-02, 0.00000000e+00,\n",
       "       0.00000000e+00, 0.00000000e+00, 0.00000000e+00])"
      ]
     },
     "execution_count": 12,
     "metadata": {},
     "output_type": "execute_result"
    }
   ],
   "source": [
    "clf.get_feature_importance()"
   ]
  },
  {
   "cell_type": "code",
   "execution_count": 13,
   "id": "b0be8472-dcb8-462f-9cef-13b375877d50",
   "metadata": {},
   "outputs": [],
   "source": [
    "importances = clf.get_feature_importance()\n",
    "    \n",
    "tmp = []\n",
    "for name, importance in zip(importances, df.columns):\n",
    "    tmp.append((name, importance))"
   ]
  },
  {
   "cell_type": "code",
   "execution_count": 14,
   "id": "83416833-41ba-4a74-9b1c-d710085d16db",
   "metadata": {},
   "outputs": [
    {
     "data": {
      "text/plain": [
       "[(0.9627860932852985, 'PROTOCOL'),\n",
       " (1.2663018186602177, 'CLIENT_TCP_FLAGS'),\n",
       " (1.4158265888298414, 'TCP_WIN_MAX_IN'),\n",
       " (1.5815495259608356, 'SRC_TO_DST_AVG_THROUGHPUT'),\n",
       " (1.7513860434676547, 'MIN_TTL'),\n",
       " (2.0792058193244727, 'MAX_TTL'),\n",
       " (7.1887349819256485, 'NUM_PKTS_512_TO_1024_BYTES'),\n",
       " (13.467778139916888, 'OUT_PKTS'),\n",
       " (20.018720307439914, 'DURATION_OUT'),\n",
       " (44.12548973368637, 'DURATION_IN')]"
      ]
     },
     "execution_count": 14,
     "metadata": {},
     "output_type": "execute_result"
    }
   ],
   "source": [
    "sorted(tmp)[-10:]"
   ]
  },
  {
   "cell_type": "code",
   "execution_count": 15,
   "id": "92c83a6d-8933-44c6-8de2-7949ceee5f20",
   "metadata": {},
   "outputs": [],
   "source": [
    "df.drop(columns=features_to_remove, axis=1, inplace=True)"
   ]
  },
  {
   "cell_type": "code",
   "execution_count": 16,
   "id": "be6df99a-3e19-4b7c-98fe-1238ded9f206",
   "metadata": {},
   "outputs": [
    {
     "data": {
      "text/plain": [
       "0.9960723058131887"
      ]
     },
     "execution_count": 16,
     "metadata": {},
     "output_type": "execute_result"
    }
   ],
   "source": [
    "accuracy_score(y_test, clf.predict(X_test))"
   ]
  },
  {
   "cell_type": "code",
   "execution_count": 17,
   "id": "56bc2153-e596-4057-a9d1-625c037be5a0",
   "metadata": {},
   "outputs": [],
   "source": [
    "tn, fp, fn, tp = confusion_matrix(y_test, clf.predict(X_test)).ravel()"
   ]
  },
  {
   "cell_type": "code",
   "execution_count": 18,
   "id": "c2e2ea0c-44bd-40bd-8100-75e7adb2ce4f",
   "metadata": {},
   "outputs": [
    {
     "data": {
      "image/png": "[encoded data removed]",
      "text/plain": [
       "<Figure size 640x480 with 2 Axes>"
      ]
     },
     "metadata": {},
     "output_type": "display_data"
    }
   ],
   "source": [
    "import seaborn as sns\n",
    "import matplotlib.pyplot as plt     \n",
    "\n",
    "ax= plt.subplot()\n",
    "sns.heatmap([[tn, fp],[fn, tp]], annot=True, fmt='g', ax=ax);  #annot=True to annotate cells, ftm='g' to disable scientific notation\n",
    "\n",
    "# labels, title and ticks\n",
    "ax.set_xlabel('Predicted labels');ax.set_ylabel('True labels'); \n",
    "ax.set_title('Confusion Matrix'); \n",
    "ax.xaxis.set_ticklabels(['benign', 'malicious']); ax.yaxis.set_ticklabels(['benign', 'malicious']);"
   ]
  },
  {
   "cell_type": "code",
   "execution_count": 41,
   "id": "298eda85-30f1-4e68-9065-3edf689c0f7f",
   "metadata": {},
   "outputs": [
    {
     "data": {
      "text/plain": [
       "572199"
      ]
     },
     "execution_count": 41,
     "metadata": {},
     "output_type": "execute_result"
    }
   ],
   "source": [
    "tn"
   ]
  },
  {
   "cell_type": "code",
   "execution_count": null,
   "id": "1349b924-d45a-4be3-a751-b3f1eafb7a1f",
   "metadata": {},
   "outputs": [],
   "source": []
  },
  {
   "cell_type": "code",
   "execution_count": null,
   "id": "2a23ee6a-0ce3-4f99-9c6e-214aeccbed28",
   "metadata": {},
   "outputs": [],
   "source": [
    "tn_nn, fp_nn, fn_nn, tp_nn =  598"
   ]
  }
 ],
 "metadata": {
  "kernelspec": {
   "display_name": "Python 3 (ipykernel)",
   "language": "python",
   "name": "python3"
  },
  "language_info": {
   "codemirror_mode": {
    "name": "ipython",
    "version": 3
   },
   "file_extension": ".py",
   "mimetype": "text/x-python",
   "name": "python",
   "nbconvert_exporter": "python",
   "pygments_lexer": "ipython3",
   "version": "3.9.13"
  }
 },
 "nbformat": 4,
 "nbformat_minor": 5
}
