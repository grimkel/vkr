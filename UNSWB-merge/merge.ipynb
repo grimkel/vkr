{
 "cells": [
  {
   "cell_type": "code",
   "execution_count": 1,
   "id": "3788acec-67d1-4ea4-9d05-40f0286625d7",
   "metadata": {},
   "outputs": [],
   "source": [
    "import pandas as pd\n",
    "from tqdm import tqdm\n",
    "from pyarrow import csv\n",
    "import pyarrow as pa\n",
    "\n",
    "import numpy as np"
   ]
  },
  {
   "cell_type": "code",
   "execution_count": 6,
   "id": "74b5ba84-7634-416d-a978-c9ec971d3c4b",
   "metadata": {},
   "outputs": [],
   "source": [
    "def default_transform(df):\n",
    "    return df\n",
    "\n",
    "def read_chunk(name, chunk_id, opts=csv.ConvertOptions(), transform=default_transform, extra=1):\n",
    "    chunk=None\n",
    "    chunksize = extra*10 ** 6\n",
    "    with csv.open_csv(\n",
    "        name,\n",
    "        convert_options = opts,\n",
    "        read_options=csv.ReadOptions(\n",
    "            use_threads=True,\n",
    "            block_size=chunksize\n",
    "        )) as reader:\n",
    "\n",
    "        i=0\n",
    "        for next_chunk in reader:\n",
    "            if next_chunk is None:\n",
    "                break\n",
    "            chunk=next_chunk\n",
    "            if i == chunk_id:\n",
    "                return transform(chunk.to_pandas())\n",
    "            i+=1\n",
    "            \n",
    "    return None\n",
    "\n",
    "def prep_NF_UQ(df):\n",
    "    cols =[   'PROTOCOL', \n",
    "              'IN_PKTS', \n",
    "              'OUT_PKTS',\n",
    "              'IN_BYTES',\n",
    "              'OUT_BYTES',\n",
    "              'DURATION_IN',\n",
    "              'DURATION_OUT',\n",
    "              'Label' \n",
    "             ]\n",
    "    return df[cols]\n",
    "\n",
    "def prep_ddos(df):\n",
    "    chose_cols_s=[\n",
    "        ' Protocol', \n",
    "        ' Total Fwd Packets', \n",
    "        ' Total Backward Packets',\n",
    "        'Total Length of Fwd Packets',\n",
    "        ' Total Length of Bwd Packets',\n",
    "        'Fwd IAT Total',\n",
    "        'Bwd IAT Total',\n",
    "        ' Label' \n",
    "        ]\n",
    "    \n",
    "    df = df[chose_cols_s]\n",
    "    df = df.rename(columns=\n",
    "                   {' Protocol': 'PROTOCOL', \n",
    "                   ' Total Fwd Packets': 'IN_PKTS', \n",
    "                   ' Total Backward Packets': 'OUT_PKTS',\n",
    "                   'Total Length of Fwd Packets': 'IN_BYTES',\n",
    "                   ' Total Length of Bwd Packets': 'OUT_BYTES',\n",
    "                   'Fwd IAT Total': 'DURATION_IN',\n",
    "                   'Bwd IAT Total': 'DURATION_OUT',\n",
    "                   ' Label': 'Label'\n",
    "                   }, errors=\"raise\")\n",
    "    \n",
    "    df['PROTOCOL'] = df['PROTOCOL'].astype(np.int64)\n",
    "    df['IN_PKTS'] = df['IN_PKTS'].astype(np.int64)\n",
    "    df['OUT_PKTS'] = df['OUT_PKTS'].astype(np.int64)\n",
    "    df['IN_BYTES'] = df['IN_BYTES'].astype(np.int64)\n",
    "    df['OUT_BYTES'] = df['OUT_BYTES'].astype(np.int64)\n",
    "    df['DURATION_IN']= (df['DURATION_IN']/1000000).astype(np.int64)\n",
    "    df['DURATION_OUT']= (df['DURATION_OUT']/1000000).astype(np.int64)\n",
    "    df = df.drop(['Label'],axis=1)\n",
    "    df['Label'] = 1\n",
    "    return df"
   ]
  },
  {
   "cell_type": "code",
   "execution_count": 3,
   "id": "733f69e5-c091-4810-8188-4d33efebace0",
   "metadata": {},
   "outputs": [],
   "source": [
    "def process_file(file, outname, opts=csv.ConvertOptions(), create_new=True, process=default_transform):\n",
    "    chunk=None\n",
    "    chunksize = 10 ** 6\n",
    "    with csv.open_csv(\n",
    "        file, \n",
    "        convert_options = opts,\n",
    "        read_options=csv.ReadOptions(\n",
    "            use_threads=True,\n",
    "            block_size=chunksize\n",
    "        )) as reader:\n",
    "\n",
    "        i=0\n",
    "        for chunk in tqdm (reader):\n",
    "            if chunk is None:\n",
    "                break\n",
    "            if i==0 and create_new:\n",
    "                process(chunk.to_pandas()).to_csv(outname)\n",
    "            else:\n",
    "                process(chunk.to_pandas()).to_csv(outname, mode='a', header=False)\n",
    "            i+=1"
   ]
  },
  {
   "cell_type": "code",
   "execution_count": 4,
   "id": "901d2500-9016-488f-972f-63b2082fe5c5",
   "metadata": {},
   "outputs": [
    {
     "name": "stderr",
     "output_type": "stream",
     "text": [
      "13730it [05:20, 42.91it/s]\n"
     ]
    }
   ],
   "source": [
    "process_file('NF-UQ-NIDS-v2.csv', outname='merged-ordered.csv', process=prep_NF_UQ)"
   ]
  },
  {
   "cell_type": "code",
   "execution_count": 7,
   "id": "105cf0db-df59-407c-8959-7e32bb91e336",
   "metadata": {},
   "outputs": [
    {
     "name": "stdout",
     "output_type": "stream",
     "text": [
      "./01-12/DrDoS_MSSQL.csv\n"
     ]
    },
    {
     "name": "stderr",
     "output_type": "stream",
     "text": [
      "1890it [00:36, 51.53it/s]\n"
     ]
    },
    {
     "name": "stdout",
     "output_type": "stream",
     "text": [
      "./01-12/UDPLag.csv\n"
     ]
    },
    {
     "name": "stderr",
     "output_type": "stream",
     "text": [
      "158it [00:02, 52.95it/s]\n"
     ]
    },
    {
     "name": "stdout",
     "output_type": "stream",
     "text": [
      "./01-12/Syn.csv\n"
     ]
    },
    {
     "name": "stderr",
     "output_type": "stream",
     "text": [
      "638it [00:12, 51.55it/s]\n"
     ]
    },
    {
     "name": "stdout",
     "output_type": "stream",
     "text": [
      "./01-12/TFTP.csv\n"
     ]
    },
    {
     "name": "stderr",
     "output_type": "stream",
     "text": [
      "9303it [02:50, 54.58it/s]\n"
     ]
    },
    {
     "name": "stdout",
     "output_type": "stream",
     "text": [
      "./01-12/DrDoS_DNS.csv\n"
     ]
    },
    {
     "name": "stderr",
     "output_type": "stream",
     "text": [
      "2134it [00:41, 51.76it/s]\n"
     ]
    },
    {
     "name": "stdout",
     "output_type": "stream",
     "text": [
      "./01-12/DrDoS_LDAP.csv\n"
     ]
    },
    {
     "name": "stderr",
     "output_type": "stream",
     "text": [
      "918it [00:17, 52.00it/s]\n"
     ]
    },
    {
     "name": "stdout",
     "output_type": "stream",
     "text": [
      "./01-12/DrDoS_NTP.csv\n"
     ]
    },
    {
     "name": "stderr",
     "output_type": "stream",
     "text": [
      "646it [00:11, 55.94it/s]\n"
     ]
    },
    {
     "name": "stdout",
     "output_type": "stream",
     "text": [
      "./01-12/DrDoS_SNMP.csv\n"
     ]
    },
    {
     "name": "stderr",
     "output_type": "stream",
     "text": [
      "2173it [00:41, 52.39it/s]\n"
     ]
    },
    {
     "name": "stdout",
     "output_type": "stream",
     "text": [
      "./01-12/DrDoS_UDP.csv\n"
     ]
    },
    {
     "name": "stderr",
     "output_type": "stream",
     "text": [
      "1507it [00:27, 54.01it/s]\n"
     ]
    },
    {
     "name": "stdout",
     "output_type": "stream",
     "text": [
      "./01-12/DrDoS_NetBIOS.csv\n"
     ]
    },
    {
     "name": "stderr",
     "output_type": "stream",
     "text": [
      "1698it [00:32, 52.04it/s]\n"
     ]
    },
    {
     "name": "stdout",
     "output_type": "stream",
     "text": [
      "./01-12/DrDoS_SSDP.csv\n"
     ]
    },
    {
     "name": "stderr",
     "output_type": "stream",
     "text": [
      "1253it [00:23, 54.17it/s]\n"
     ]
    },
    {
     "name": "stdout",
     "output_type": "stream",
     "text": [
      "./03-11/UDPLag.csv\n"
     ]
    },
    {
     "name": "stderr",
     "output_type": "stream",
     "text": [
      "320it [00:06, 52.20it/s]\n"
     ]
    },
    {
     "name": "stdout",
     "output_type": "stream",
     "text": [
      "./03-11/Portmap.csv\n"
     ]
    },
    {
     "name": "stderr",
     "output_type": "stream",
     "text": [
      "79it [00:01, 52.44it/s]\n"
     ]
    },
    {
     "name": "stdout",
     "output_type": "stream",
     "text": [
      "./03-11/LDAP.csv\n"
     ]
    },
    {
     "name": "stderr",
     "output_type": "stream",
     "text": [
      "872it [00:16, 52.12it/s]\n"
     ]
    },
    {
     "name": "stdout",
     "output_type": "stream",
     "text": [
      "./03-11/NetBIOS.csv\n"
     ]
    },
    {
     "name": "stderr",
     "output_type": "stream",
     "text": [
      "1419it [00:27, 51.79it/s]\n"
     ]
    },
    {
     "name": "stdout",
     "output_type": "stream",
     "text": [
      "./03-11/MSSQL.csv\n"
     ]
    },
    {
     "name": "stderr",
     "output_type": "stream",
     "text": [
      "2387it [00:46, 51.23it/s]\n"
     ]
    },
    {
     "name": "stdout",
     "output_type": "stream",
     "text": [
      "./03-11/Syn.csv\n"
     ]
    },
    {
     "name": "stderr",
     "output_type": "stream",
     "text": [
      "1878it [00:36, 51.43it/s]\n"
     ]
    },
    {
     "name": "stdout",
     "output_type": "stream",
     "text": [
      "./03-11/UDP.csv\n"
     ]
    },
    {
     "name": "stderr",
     "output_type": "stream",
     "text": [
      "1793it [00:33, 53.61it/s]\n"
     ]
    }
   ],
   "source": [
    "from os import listdir\n",
    "from os.path import isfile, join\n",
    "\n",
    "files = ['./01-12','./03-11']\n",
    "for file in files:\n",
    "    for f in listdir(file):\n",
    "        if f[0] == '.':\n",
    "            continue\n",
    "        filename=file+\"/\"+f\n",
    "        print(filename)\n",
    "        process_file(filename, \n",
    "                     outname='merged-ordered.csv', \n",
    "                     process=prep_ddos, \n",
    "                     create_new=False, \n",
    "                     opts=csv.ConvertOptions(column_types={\"SimillarHTTP\": pa.string()}))\n"
   ]
  },
  {
   "cell_type": "code",
   "execution_count": 8,
   "id": "7138ce2d-7112-4cd2-908b-b32feef4f650",
   "metadata": {},
   "outputs": [],
   "source": [
    "read_chunk('merged-ordered.csv', chunk_id=15000)"
   ]
  },
  {
   "cell_type": "code",
   "execution_count": null,
   "id": "7f0674a1-51e1-4df3-b571-991d7efcebc4",
   "metadata": {},
   "outputs": [],
   "source": []
  },
  {
   "cell_type": "code",
   "execution_count": 9,
   "id": "d3a68130-cfed-416d-92fe-b03fde10f5bf",
   "metadata": {},
   "outputs": [
    {
     "name": "stderr",
     "output_type": "stream",
     "text": [
      "3613it [00:51, 70.57it/s]\n"
     ]
    }
   ],
   "source": [
    "\n",
    "chunksize = 1*10 ** 6\n",
    "with csv.open_csv(\n",
    "    \"merged-ordered.csv\",\n",
    "    read_options=csv.ReadOptions(\n",
    "        use_threads=True,\n",
    "        block_size=chunksize\n",
    "    )) as reader:\n",
    "\n",
    "    size = 0\n",
    "    for next_chunk in tqdm(reader):\n",
    "        if next_chunk is None:\n",
    "            break\n",
    "        size+=len(next_chunk.to_pandas())"
   ]
  },
  {
   "cell_type": "code",
   "execution_count": 10,
   "id": "d50e042b-b5f7-4b5d-a9b8-b820eee04223",
   "metadata": {},
   "outputs": [
    {
     "data": {
      "text/plain": [
       "146415613"
      ]
     },
     "execution_count": 10,
     "metadata": {},
     "output_type": "execute_result"
    }
   ],
   "source": [
    "size"
   ]
  },
  {
   "cell_type": "code",
   "execution_count": null,
   "id": "353b97d7-c767-40c0-9577-9762f762d314",
   "metadata": {},
   "outputs": [],
   "source": []
  }
 ],
 "metadata": {
  "kernelspec": {
   "display_name": "Python 3 (ipykernel)",
   "language": "python",
   "name": "python3"
  },
  "language_info": {
   "codemirror_mode": {
    "name": "ipython",
    "version": 3
   },
   "file_extension": ".py",
   "mimetype": "text/x-python",
   "name": "python",
   "nbconvert_exporter": "python",
   "pygments_lexer": "ipython3",
   "version": "3.9.13"
  }
 },
 "nbformat": 4,
 "nbformat_minor": 5
}
