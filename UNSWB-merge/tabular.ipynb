{
 "cells": [
  {
   "cell_type": "code",
   "execution_count": 1,
   "id": "5d6a801c-b5bd-482c-aba2-56065b306a9a",
   "metadata": {},
   "outputs": [],
   "source": [
    "import pandas as pd\n",
    "from tqdm import tqdm\n",
    "from pyarrow import csv\n",
    "import pyarrow as pa\n",
    "\n",
    "import torch\n",
    "import torch.nn as nn\n",
    "import torch.optim as optim\n",
    "from torch.utils.data import Dataset, DataLoader\n",
    "\n",
    "import matplotlib.pyplot as plt\n",
    "import plotly.graph_objects as go\n",
    "\n",
    "from catboost import CatBoostClassifier\n",
    "from sklearn.manifold import TSNE\n",
    "from sklearn.discriminant_analysis import LinearDiscriminantAnalysis as LDA\n",
    "from sklearn.preprocessing import StandardScaler,MinMaxScaler\n",
    "from sklearn.preprocessing import OneHotEncoder\n",
    "from sklearn.metrics import confusion_matrix\n",
    "import numpy as np\n",
    "import pandas as pd \n",
    "import gc\n",
    "from sklearn.model_selection import train_test_split\n",
    "from sklearn.preprocessing import QuantileTransformer, MinMaxScaler, StandardScaler\n",
    "from sklearn.metrics import auc, accuracy_score, precision_score, recall_score, roc_curve, precision_recall_curve\n",
    "\n",
    "import pandas as pd\n",
    "from tqdm import tqdm\n",
    "from pyarrow import csv\n",
    "import pyarrow as pa\n",
    "\n",
    "import torch\n",
    "import torch.nn as nn\n",
    "import torch.optim as optim\n",
    "from torch.utils.data import Dataset, DataLoader\n",
    "\n",
    "import matplotlib.pyplot as plt\n",
    "import plotly.graph_objects as go\n",
    "\n",
    "from catboost import CatBoostClassifier\n",
    "from sklearn.manifold import TSNE\n",
    "from sklearn.discriminant_analysis import LinearDiscriminantAnalysis as LDA\n",
    "from sklearn.preprocessing import StandardScaler,MinMaxScaler\n",
    "from sklearn.preprocessing import OneHotEncoder"
   ]
  },
  {
   "cell_type": "code",
   "execution_count": 2,
   "id": "e791f8ae-0b98-422b-b7b1-5e37bf43ce9d",
   "metadata": {},
   "outputs": [],
   "source": [
    "def get_data(filename, scaler=None, useScaler=False):\n",
    "    df = pd.read_csv(filename)\n",
    "    Y = df.Label\n",
    "    df = df.drop(['Unnamed: 0', 'Label'], axis=1)\n",
    "\n",
    "    df['Attack'] = df['Attack'].astype(\"string\")\n",
    "\n",
    "    X_train, X_test, y_train, y_test = train_test_split(df, Y, test_size=0.3,stratify=df.Attack, random_state=42)\n",
    "    del df\n",
    "    del Y\n",
    "\n",
    "    attack_train = X_train['Attack']\n",
    "    X_train = X_train.drop('Attack', axis=1)\n",
    "    attack_test = X_test['Attack']\n",
    "    X_test = X_test.drop('Attack', axis=1)\n",
    "\n",
    "    X_train = X_train.drop(['SimillarHTTP'], axis=1)\n",
    "    X_train[X_train['Flow Bytes/s'] == np.inf] = 0\n",
    "    X_train[X_train[' Flow Packets/s'] == np.inf] = 0\n",
    "\n",
    "    X_test = X_test.drop(['SimillarHTTP'], axis=1)\n",
    "    X_test[X_test['Flow Bytes/s'] == np.inf] = 0\n",
    "    X_test[X_test[' Flow Packets/s'] == np.inf] = 0\n",
    "\n",
    "    \n",
    "    if useScaler:\n",
    "        X_train = scaler.transform(X_train)\n",
    "    else:\n",
    "        scaler = MinMaxScaler()\n",
    "        X_train = scaler.fit_transform(X_train)\n",
    "    X_test = scaler.transform(X_test)\n",
    "    return X_train, X_test, y_train, y_test, attack_train, attack_test, scaler"
   ]
  },
  {
   "cell_type": "code",
   "execution_count": 3,
   "id": "656025e1-b5ca-4e93-b1a9-55afcd2d5566",
   "metadata": {},
   "outputs": [
    {
     "name": "stderr",
     "output_type": "stream",
     "text": [
      "/tmp/ipykernel_164171/3331398274.py:2: DtypeWarning: Columns (62,109) have mixed types. Specify dtype option on import or set low_memory=False.\n",
      "  df = pd.read_csv(filename)\n"
     ]
    }
   ],
   "source": [
    "X_train, X_test, y_train, y_test, attack_train, attack_test, scaler = get_data('triple.csv')"
   ]
  },
  {
   "cell_type": "code",
   "execution_count": 4,
   "id": "356215dc-5a5d-491c-82fc-43ca570b2cb3",
   "metadata": {},
   "outputs": [],
   "source": [
    "class Data(Dataset):\n",
    "    \n",
    "    def __init__(self, X_data, y_data):\n",
    "        self.X_data = X_data\n",
    "        self.y_data = y_data\n",
    "        \n",
    "    def __getitem__(self, index):\n",
    "        return self.X_data[index], self.y_data[index]\n",
    "        \n",
    "    def __len__ (self):\n",
    "        return len(self.X_data)\n",
    "    \n",
    "class modelDNN(nn.Module):\n",
    "    def __init__(self):\n",
    "        super(modelDNN, self).__init__()        \n",
    "        self.layer_1 = nn.Linear(111, 4096) \n",
    "        self.layer_2 = nn.Linear(4096, 2048)\n",
    "        self.layer_3 = nn.Linear(2048, 64) \n",
    "        self.layer_4 = nn.Linear(64, 1) \n",
    "        \n",
    "        self.relu = nn.ReLU()\n",
    "        self.dropout = nn.Dropout(p=0.1)\n",
    "        self.batchnorm1 = nn.BatchNorm1d(4096)\n",
    "        self.batchnorm2 = nn.BatchNorm1d(2048)\n",
    "        self.batchnorm3 = nn.BatchNorm1d(64)\n",
    "        \n",
    "    def forward(self, inputs):\n",
    "        x = self.relu(self.layer_1(inputs))\n",
    "        x = self.batchnorm1(x)\n",
    "        x = self.dropout(x)\n",
    "        x = self.relu(self.layer_2(x))\n",
    "        x = self.batchnorm2(x)\n",
    "        x = self.dropout(x)\n",
    "        x = self.relu(self.layer_3(x))\n",
    "        x = self.batchnorm3(x)\n",
    "        x = self.dropout(x)\n",
    "        x = self.layer_4(x)\n",
    "        \n",
    "        return x\n",
    "    \n",
    "class tabularCNN(nn.Module):\n",
    "    def __init__(self):\n",
    "        super(tabularCNN, self).__init__()        \n",
    "        self.layer_1 = nn.Linear(111, 1024) \n",
    "        self.layer_2 = nn.Linear(1024, 4096)\n",
    "        self.layer_3 = nn.Linear(32*36, 1024) \n",
    "        self.layer_4 = nn.Linear(1024, 64) \n",
    "        self.layer_5 = nn.Linear(64, 1) \n",
    "        \n",
    "        self.relu = nn.ReLU()\n",
    "        self.dropout = nn.Dropout(p=0.1)\n",
    "        self.batchnorm1 = nn.BatchNorm1d(1024)\n",
    "        self.batchnorm2 = nn.BatchNorm1d(4096)\n",
    "        self.batchnorm3 = nn.BatchNorm1d(1024)\n",
    "        self.batchnorm4 = nn.BatchNorm1d(64)\n",
    "        \n",
    "        self.pool = nn.MaxPool2d(2, 2)\n",
    "        self.conv_1 = nn.Conv2d(1, 32, 3)\n",
    "        self.conv_2 = nn.Conv2d(32, 32, 3)\n",
    "        self.conv_3 = nn.Conv2d(32, 32, 3)\n",
    "        \n",
    "    def forward(self, inputs):\n",
    "        x = self.relu(self.layer_1(inputs))\n",
    "        x = self.batchnorm1(x)\n",
    "        x = self.dropout(x)\n",
    "        x = self.relu(self.layer_2(x))\n",
    "        x = self.batchnorm2(x)\n",
    "        x = self.dropout(x)\n",
    "        #print(x.shape)\n",
    "        x = x.reshape(len(x), 1, 64, 64)\n",
    "        x = self.pool(self.relu(self.conv_1(x)))\n",
    "        x = self.pool(self.relu(self.conv_2(x)))\n",
    "        x = self.pool(self.relu(self.conv_3(x)))\n",
    "        #print(x.shape)\n",
    "        x = x.reshape(len(x), 32*36)\n",
    "        \n",
    "        x = self.relu(self.layer_3(x))\n",
    "        x = self.batchnorm3(x)\n",
    "        x = self.dropout(x)\n",
    "        x = self.relu(self.layer_4(x))\n",
    "        x = self.batchnorm4(x)\n",
    "        x = self.dropout(x)\n",
    "        x = self.layer_5(x)\n",
    "        \n",
    "        return x\n",
    "    \n",
    "def binary_acc(y_pred, y_test):\n",
    "\n",
    "    y_pred_tag = torch.round(torch.sigmoid(y_pred))\n",
    "\n",
    "\n",
    "    correct_results_sum = (y_pred_tag.detach().cpu().numpy().reshape(-1) == y_test.detach().cpu().numpy().reshape(-1)).sum()\n",
    "\n",
    "    acc = correct_results_sum/y_test.shape[0]\n",
    "\n",
    "    acc *= 100\n",
    "    \n",
    "    return acc"
   ]
  },
  {
   "cell_type": "code",
   "execution_count": 5,
   "id": "9f26c14c-0b7b-4038-bd58-4082cdfee1c1",
   "metadata": {},
   "outputs": [],
   "source": [
    "device = torch.device(\"cuda:0\")"
   ]
  },
  {
   "cell_type": "code",
   "execution_count": 6,
   "id": "e9c5f895-493f-4921-999f-40b7e28b5165",
   "metadata": {},
   "outputs": [
    {
     "data": {
      "text/plain": [
       "526880     0\n",
       "267191     0\n",
       "2427419    1\n",
       "2137147    1\n",
       "849088     0\n",
       "          ..\n",
       "1265954    0\n",
       "1586351    0\n",
       "2326272    1\n",
       "1379098    1\n",
       "207158     0\n",
       "Name: Label, Length: 978719, dtype: int64"
      ]
     },
     "execution_count": 6,
     "metadata": {},
     "output_type": "execute_result"
    }
   ],
   "source": [
    "y_test"
   ]
  },
  {
   "cell_type": "code",
   "execution_count": 10,
   "id": "0d2d7ff0-46df-4cb9-8e04-696da77a17c1",
   "metadata": {},
   "outputs": [
    {
     "data": {
      "text/plain": [
       "(2283675,)"
      ]
     },
     "execution_count": 10,
     "metadata": {},
     "output_type": "execute_result"
    }
   ],
   "source": [
    "y_train.shape"
   ]
  },
  {
   "cell_type": "code",
   "execution_count": 11,
   "id": "52875252-7ddf-4c9b-95e6-d5bb4f8fe732",
   "metadata": {},
   "outputs": [],
   "source": [
    "train_data = Data(torch.FloatTensor(X_train), torch.FloatTensor(y_train.to_numpy()))\n",
    "test_data = Data(torch.FloatTensor(X_test), torch.FloatTensor(y_test.to_numpy()))"
   ]
  },
  {
   "cell_type": "code",
   "execution_count": 12,
   "id": "e365ead1-7213-4c09-a6de-10bc56996ffa",
   "metadata": {},
   "outputs": [
    {
     "data": {
      "text/plain": [
       "MinMaxScaler()"
      ]
     },
     "execution_count": 12,
     "metadata": {},
     "output_type": "execute_result"
    }
   ],
   "source": [
    "scaler"
   ]
  },
  {
   "cell_type": "code",
   "execution_count": 13,
   "id": "7ee3301e-f163-4a4e-9f94-c94dab78201b",
   "metadata": {},
   "outputs": [
    {
     "name": "stdout",
     "output_type": "stream",
     "text": [
      "'scalerCNN_N.pckle)' was not found in history, as a file, url, nor in the user namespace.\n"
     ]
    }
   ],
   "source": [
    "save(scaler, \"scalerCNN_N.pckle\")"
   ]
  },
  {
   "cell_type": "code",
   "execution_count": 14,
   "id": "521849fe-bde2-4440-aec6-365b6413daf0",
   "metadata": {},
   "outputs": [],
   "source": [
    "model = tabularCNN().to(device)"
   ]
  },
  {
   "cell_type": "code",
   "execution_count": 15,
   "id": "2402ca58-354b-4c18-a755-eed798ec24e9",
   "metadata": {},
   "outputs": [],
   "source": [
    "criterion = nn.BCEWithLogitsLoss()\n",
    "optimizer = optim.Adam(model.parameters(), lr=0.005)"
   ]
  },
  {
   "cell_type": "code",
   "execution_count": 17,
   "id": "27b7d8f5-9268-4e4b-96b6-31cfe585c6d7",
   "metadata": {},
   "outputs": [],
   "source": [
    "train_loader = DataLoader(dataset=train_data, batch_size=512, shuffle=True)\n",
    "test_loader = DataLoader(dataset=test_data, batch_size=512, shuffle=True)\n",
    "epochs = 1"
   ]
  },
  {
   "cell_type": "code",
   "execution_count": 18,
   "id": "925ba816-f8a4-46f0-ae07-f1354e1cefff",
   "metadata": {},
   "outputs": [
    {
     "data": {
      "text/plain": [
       "1200616    0\n",
       "2809390    1\n",
       "1684472    0\n",
       "2720134    1\n",
       "3118546    1\n",
       "          ..\n",
       "125996     0\n",
       "2136059    1\n",
       "2993373    1\n",
       "1001700    0\n",
       "1512220    0\n",
       "Name: Label, Length: 2283675, dtype: int64"
      ]
     },
     "execution_count": 18,
     "metadata": {},
     "output_type": "execute_result"
    }
   ],
   "source": [
    "y_train"
   ]
  },
  {
   "cell_type": "code",
   "execution_count": 21,
   "id": "663bac90-3999-44ca-b8c8-671c475fd4dc",
   "metadata": {},
   "outputs": [],
   "source": [
    "save(y_train, \"Y_CNN.pckl\")"
   ]
  },
  {
   "cell_type": "code",
   "execution_count": 19,
   "id": "c162af1d-0ec2-4b95-a11e-48d11352d3d6",
   "metadata": {},
   "outputs": [],
   "source": [
    "import pickle\n",
    "\n",
    "def save(data, filename):\n",
    "    file = open(filename, 'wb')\n",
    "    pickle.dump(data, file)\n",
    "    file.close()"
   ]
  },
  {
   "cell_type": "code",
   "execution_count": 20,
   "id": "9094eaf4-949d-4d28-83a3-54eafa34febb",
   "metadata": {},
   "outputs": [
    {
     "name": "stdout",
     "output_type": "stream",
     "text": [
      "Epoch 000: | Loss: 0.01475 | Train Acc: 99.499 | Test acc: 99.60324548867966\n",
      "-----------------------------------------------------------------------------------------------------------------------\n",
      "\n"
     ]
    }
   ],
   "source": [
    "for e in range(1):\n",
    "    epoch_loss = 0\n",
    "    epoch_acc = 0\n",
    "    model.train()\n",
    "    for X_batch, y_batch in train_loader:\n",
    "        X_batch = X_batch.to(device)\n",
    "        y_batch = y_batch.to(device)\n",
    "        optimizer.zero_grad()\n",
    "\n",
    "        y_pred = model(X_batch)\n",
    "\n",
    "        loss = criterion(y_pred, y_batch.unsqueeze(1))\n",
    "        acc = binary_acc(y_pred, y_batch.unsqueeze(1))\n",
    "\n",
    "        loss.backward()\n",
    "        optimizer.step()\n",
    "\n",
    "        epoch_loss += loss.item()\n",
    "        epoch_acc += acc.item()\n",
    "        \n",
    "    acc = 0\n",
    "    del X_batch, y_batch\n",
    "    model.eval()\n",
    "\n",
    "    acc= 0\n",
    "    total=0\n",
    "    for X_batch, y_batch in train_loader:\n",
    "        X_batch = X_batch.to(device)\n",
    "        y_batch = y_batch.to(device)\n",
    "        optimizer.zero_grad()\n",
    "\n",
    "        y_pred = model(X_batch)\n",
    "        total += 1\n",
    "\n",
    "        p_acc = binary_acc(y_pred, y_batch)\n",
    "        acc += p_acc\n",
    "    \n",
    "    acc /= total\n",
    "    print(f'Epoch {e+0:03}: | Loss: {epoch_loss/len(train_loader):.5f} | Train Acc: {epoch_acc/len(train_loader):.3f} | Test acc: {acc}')\n",
    "    print(\"-----------------------------------------------------------------------------------------------------------------------\\n\")"
   ]
  },
  {
   "cell_type": "code",
   "execution_count": 22,
   "id": "fe8cc10a-96f0-4243-a4d6-5c7f607caf64",
   "metadata": {},
   "outputs": [
    {
     "data": {
      "text/plain": [
       "(2283675, 111)"
      ]
     },
     "execution_count": 22,
     "metadata": {},
     "output_type": "execute_result"
    }
   ],
   "source": [
    "X_train.shape"
   ]
  },
  {
   "cell_type": "code",
   "execution_count": 24,
   "id": "afa4f16b-d07b-4ca0-8d0d-9d19e761100b",
   "metadata": {},
   "outputs": [
    {
     "data": {
      "text/plain": [
       "(978719, 111)"
      ]
     },
     "execution_count": 24,
     "metadata": {},
     "output_type": "execute_result"
    }
   ],
   "source": [
    "X_test.shape"
   ]
  },
  {
   "cell_type": "code",
   "execution_count": 28,
   "id": "4c7992df-f521-43ae-82e3-06a28c898747",
   "metadata": {},
   "outputs": [
    {
     "ename": "NameError",
     "evalue": "name 'X_train' is not defined",
     "output_type": "error",
     "traceback": [
      "\u001b[0;31m---------------------------------------------------------------------------\u001b[0m",
      "\u001b[0;31mNameError\u001b[0m                                 Traceback (most recent call last)",
      "\u001b[0;32m/tmp/ipykernel_143305/935665284.py\u001b[0m in \u001b[0;36m<module>\u001b[0;34m\u001b[0m\n\u001b[0;32m----> 1\u001b[0;31m \u001b[0mX\u001b[0m \u001b[0;34m=\u001b[0m \u001b[0mnp\u001b[0m\u001b[0;34m.\u001b[0m\u001b[0mappend\u001b[0m\u001b[0;34m(\u001b[0m\u001b[0mX_train\u001b[0m\u001b[0;34m,\u001b[0m \u001b[0mX_test\u001b[0m\u001b[0;34m,\u001b[0m \u001b[0maxis\u001b[0m\u001b[0;34m=\u001b[0m\u001b[0;36m0\u001b[0m\u001b[0;34m)\u001b[0m\u001b[0;34m\u001b[0m\u001b[0;34m\u001b[0m\u001b[0m\n\u001b[0m\u001b[1;32m      2\u001b[0m \u001b[0;32mdel\u001b[0m \u001b[0mX_train\u001b[0m\u001b[0;34m,\u001b[0m \u001b[0mX_test\u001b[0m\u001b[0;34m\u001b[0m\u001b[0;34m\u001b[0m\u001b[0m\n\u001b[1;32m      3\u001b[0m \u001b[0mX\u001b[0m\u001b[0;34m.\u001b[0m\u001b[0mshape\u001b[0m\u001b[0;34m\u001b[0m\u001b[0;34m\u001b[0m\u001b[0m\n",
      "\u001b[0;31mNameError\u001b[0m: name 'X_train' is not defined"
     ]
    }
   ],
   "source": [
    "X = np.append(X_train, X_test, axis=0)\n",
    "del X_train, X_test\n",
    "X.shape"
   ]
  },
  {
   "cell_type": "code",
   "execution_count": 31,
   "id": "84465cad-d3db-41e6-924f-29591218a9fa",
   "metadata": {},
   "outputs": [
    {
     "data": {
      "text/plain": [
       "(3262394,)"
      ]
     },
     "execution_count": 31,
     "metadata": {},
     "output_type": "execute_result"
    }
   ],
   "source": [
    "Y = np.append(y_train, y_test, axis=0)\n",
    "del y_train, y_test\n",
    "Y.shape"
   ]
  },
  {
   "cell_type": "code",
   "execution_count": 33,
   "id": "3c30145d-096b-4092-8fc6-0e32dbb98790",
   "metadata": {},
   "outputs": [],
   "source": [
    "save(Y, \"Y_CNN.pckl\")"
   ]
  },
  {
   "cell_type": "code",
   "execution_count": null,
   "id": "c0f0ce12-9fc1-44e8-9bf6-0a866a7e9e0f",
   "metadata": {},
   "outputs": [],
   "source": [
    "tn, fp, fn, tp = 0, 0, 0, 0\n",
    "for X_batch, y_batch in train_loader:\n",
    "    X_batch = X_batch.to(device)\n",
    "    y_batch = y_batch.to(device)\n",
    "\n",
    "    y_pred = model(X_batch)\n",
    "    y_pred_tag = torch.round(torch.sigmoid(y_pred))\n",
    "    tn_, fp_, fn_, tp_ = confusion_matrix(y_batch.cpu().detach().numpy(), y_pred_tag.cpu().detach().numpy()).ravel()\n",
    "    tn += tn_\n",
    "    fp += fp_\n",
    "    fn += fn_\n",
    "    tp += tp_"
   ]
  },
  {
   "cell_type": "code",
   "execution_count": null,
   "id": "9abec83b-19e7-4420-8270-bce28e824c1f",
   "metadata": {},
   "outputs": [
    {
     "data": {
      "text/plain": [
       "(1363831, 5932, 2428, 911484)"
      ]
     },
     "execution_count": 34,
     "metadata": {},
     "output_type": "execute_result"
    }
   ],
   "source": [
    "tn, fp, fn, tp"
   ]
  },
  {
   "cell_type": "code",
   "execution_count": 31,
   "id": "ffebe29b-8d22-4533-b722-a396d4328c69",
   "metadata": {},
   "outputs": [
    {
     "data": {
      "image/png": "[encoded data removed]",
      "text/plain": [
       "<Figure size 640x480 with 2 Axes>"
      ]
     },
     "metadata": {},
     "output_type": "display_data"
    }
   ],
   "source": [
    "import seaborn as sns\n",
    "import matplotlib.pyplot as plt     \n",
    "\n",
    "full = tn + fp + fn + tp\n",
    "\n",
    "ax= plt.subplot()\n",
    "sns.heatmap([[tn/ full, fp / full],[fn/full, tp/full]], annot=True, fmt='g', ax=ax);  #annot=True to annotate cells, ftm='g' to disable scientific notation\n",
    "\n",
    "# labels, title and ticks\n",
    "ax.set_xlabel('Predicted labels');ax.set_ylabel('True labels'); \n",
    "ax.set_title('Confusion Matrix'); \n",
    "ax.xaxis.set_ticklabels(['benign', 'malicious']); ax.yaxis.set_ticklabels(['benign', 'malicious']);"
   ]
  },
  {
   "cell_type": "code",
   "execution_count": 16,
   "id": "ecf014b1-da2d-4d21-b996-5d0f2f7bec9c",
   "metadata": {},
   "outputs": [],
   "source": [
    "torch.save(model, \"TCNN.torch\")"
   ]
  },
  {
   "cell_type": "code",
   "execution_count": null,
   "id": "9ab6f22e-eb8f-4cb9-8a7c-061ccbd7ff08",
   "metadata": {},
   "outputs": [],
   "source": [
    "y_batch.shape[0] / X_test.shape[0]"
   ]
  },
  {
   "cell_type": "code",
   "execution_count": null,
   "id": "8b7eadcc-5437-46b1-85d2-4e0b6a7f29ab",
   "metadata": {},
   "outputs": [],
   "source": [
    "p_acc * (y_batch.shape[0] / X_test.shape[0])"
   ]
  },
  {
   "cell_type": "code",
   "execution_count": null,
   "id": "e12d54c1-6276-4e53-a23d-c502e7039f2f",
   "metadata": {},
   "outputs": [],
   "source": [
    "binary_acc(y_pred, y_batch)"
   ]
  },
  {
   "cell_type": "code",
   "execution_count": null,
   "id": "24ff774a-0cc1-449f-9441-8861004f4352",
   "metadata": {},
   "outputs": [],
   "source": [
    "del X_batch, y_batch\n",
    "model.eval()\n",
    "\n",
    "i = 0\n",
    "acc= 0\n",
    "for X_batch, y_batch in train_loader:\n",
    "    i+=1\n",
    "    X_batch = X_batch.to(device)\n",
    "    y_batch = y_batch.to(device)\n",
    "    optimizer.zero_grad()\n",
    "\n",
    "    y_pred = model(X_batch)\n",
    "        \n",
    "    p_acc = binary_acc_verbal(y_pred, y_batch)\n",
    "    acc += p_acc * (y_batch.shape[0] / X_test.shape[0])\n",
    "    print(\"===current acc ===\")\n",
    "    print(p_acc)\n",
    "    print(\"-------------\\n\")\n",
    "    \n",
    "    if i >= 2:\n",
    "        break"
   ]
  },
  {
   "cell_type": "code",
   "execution_count": null,
   "id": "d3a34710-ac6d-44e1-8735-5953e2947632",
   "metadata": {},
   "outputs": [],
   "source": [
    "def binary_acc_verbal(y_pred, y_test):\n",
    "    y_pred_tag = torch.round(torch.sigmoid(y_pred))\n",
    "    print(y_pred_tag.shape)\n",
    "    correct_results_sum = (y_pred_tag.detach().cpu().numpy().reshape(-1) == y_test.detach().cpu().numpy().reshape(-1)).sum()\n",
    "    print(correct_results_sum)\n",
    "    print(y_test.shape[0])\n",
    "    acc = correct_results_sum/y_test.shape[0]\n",
    "    print(acc)\n",
    "    acc *= 100\n",
    "    print(\"---------------------------------\")\n",
    "    \n",
    "    return acc\n"
   ]
  },
  {
   "cell_type": "code",
   "execution_count": null,
   "id": "ee2213b1-b7e5-4986-8099-57d925439db8",
   "metadata": {},
   "outputs": [],
   "source": [
    "y_pred.detach().cpu().numpy().reshape(-1)"
   ]
  },
  {
   "cell_type": "code",
   "execution_count": 60,
   "id": "d0d6b684-1b43-4704-83f5-627644119705",
   "metadata": {},
   "outputs": [
    {
     "data": {
      "text/plain": [
       "array([False, False, False, False, False, False, False, False, False,\n",
       "       False, False, False, False, False, False, False, False, False,\n",
       "       False, False, False, False, False, False, False, False, False,\n",
       "       False, False, False, False, False, False, False, False, False,\n",
       "       False, False, False, False, False, False, False, False, False,\n",
       "       False, False, False, False, False, False, False, False, False,\n",
       "       False, False, False, False, False, False, False, False, False,\n",
       "       False, False, False, False, False, False, False, False, False,\n",
       "       False, False, False, False, False, False, False, False, False,\n",
       "       False, False, False, False, False, False, False, False, False,\n",
       "       False, False, False, False, False, False, False, False, False,\n",
       "       False, False, False, False, False, False, False, False, False,\n",
       "       False, False, False, False, False, False, False, False, False,\n",
       "       False, False, False, False, False, False, False, False, False,\n",
       "       False, False, False, False, False, False, False, False, False,\n",
       "       False, False, False, False, False, False, False, False, False,\n",
       "       False, False, False, False, False, False, False, False, False,\n",
       "       False, False, False, False, False, False, False, False, False,\n",
       "       False, False, False, False, False, False, False, False, False,\n",
       "       False, False, False, False, False, False, False, False, False,\n",
       "       False, False, False, False, False, False, False, False, False,\n",
       "       False, False, False, False, False, False, False, False, False,\n",
       "       False, False, False, False, False, False, False, False, False,\n",
       "       False, False, False, False, False, False, False, False, False,\n",
       "       False, False, False, False, False, False, False, False, False,\n",
       "       False, False, False, False, False, False, False, False, False,\n",
       "       False, False, False, False, False, False, False, False, False,\n",
       "       False, False, False, False, False, False, False, False, False,\n",
       "       False, False, False, False, False, False, False, False, False,\n",
       "       False, False, False, False, False, False, False, False, False,\n",
       "       False, False, False, False, False, False, False, False, False,\n",
       "       False, False, False, False, False, False, False, False, False,\n",
       "       False, False, False, False, False, False, False, False, False,\n",
       "       False, False, False, False, False, False, False, False, False,\n",
       "       False, False, False, False, False, False, False, False, False,\n",
       "       False, False, False, False, False, False, False, False, False,\n",
       "       False, False, False, False, False, False, False, False, False,\n",
       "       False, False, False, False, False, False, False, False, False,\n",
       "       False, False, False, False, False, False, False, False, False,\n",
       "       False, False, False, False, False, False, False, False, False,\n",
       "       False, False, False, False, False, False, False, False, False,\n",
       "       False, False, False, False, False, False, False, False, False,\n",
       "       False, False, False, False, False, False, False, False, False,\n",
       "       False, False, False, False, False, False, False, False, False,\n",
       "       False, False, False, False, False, False, False, False, False,\n",
       "       False, False, False, False, False, False, False, False, False,\n",
       "       False, False, False, False, False, False, False, False, False,\n",
       "       False, False, False, False, False, False, False, False, False,\n",
       "       False, False, False, False, False, False, False, False, False,\n",
       "       False, False, False, False, False, False, False, False, False,\n",
       "       False, False, False, False, False, False, False, False, False,\n",
       "       False, False, False, False, False, False, False, False, False,\n",
       "       False, False, False, False, False, False, False, False, False,\n",
       "       False, False, False, False, False, False, False, False, False,\n",
       "       False, False, False, False, False, False, False, False, False,\n",
       "       False, False, False, False, False, False, False, False, False,\n",
       "       False, False, False, False, False, False, False, False])"
      ]
     },
     "execution_count": 60,
     "metadata": {},
     "output_type": "execute_result"
    }
   ],
   "source": [
    "y_batch.detach().cpu().numpy().reshape(-1) == y_pred.detach().cpu().numpy().reshape(-1)"
   ]
  },
  {
   "cell_type": "code",
   "execution_count": 34,
   "id": "83480044-0eda-4144-ae11-d06f8cba2bba",
   "metadata": {},
   "outputs": [
    {
     "data": {
      "text/plain": [
       "tabularCNN(\n",
       "  (layer_1): Linear(in_features=111, out_features=1024, bias=True)\n",
       "  (layer_2): Linear(in_features=1024, out_features=4096, bias=True)\n",
       "  (layer_3): Linear(in_features=1152, out_features=1024, bias=True)\n",
       "  (layer_4): Linear(in_features=1024, out_features=64, bias=True)\n",
       "  (layer_5): Linear(in_features=64, out_features=1, bias=True)\n",
       "  (relu): ReLU()\n",
       "  (dropout): Dropout(p=0.1, inplace=False)\n",
       "  (batchnorm1): BatchNorm1d(1024, eps=1e-05, momentum=0.1, affine=True, track_running_stats=True)\n",
       "  (batchnorm2): BatchNorm1d(4096, eps=1e-05, momentum=0.1, affine=True, track_running_stats=True)\n",
       "  (batchnorm3): BatchNorm1d(1024, eps=1e-05, momentum=0.1, affine=True, track_running_stats=True)\n",
       "  (batchnorm4): BatchNorm1d(64, eps=1e-05, momentum=0.1, affine=True, track_running_stats=True)\n",
       "  (pool): MaxPool2d(kernel_size=2, stride=2, padding=0, dilation=1, ceil_mode=False)\n",
       "  (conv_1): Conv2d(1, 32, kernel_size=(3, 3), stride=(1, 1))\n",
       "  (conv_2): Conv2d(32, 32, kernel_size=(3, 3), stride=(1, 1))\n",
       "  (conv_3): Conv2d(32, 32, kernel_size=(3, 3), stride=(1, 1))\n",
       ")"
      ]
     },
     "execution_count": 34,
     "metadata": {},
     "output_type": "execute_result"
    }
   ],
   "source": [
    "#model = torch.load(\"TCNN.torch\")\n",
    "model.eval()"
   ]
  },
  {
   "cell_type": "code",
   "execution_count": 35,
   "id": "6da665ac-52cd-485f-85fe-99fcc49af701",
   "metadata": {},
   "outputs": [],
   "source": [
    "model.layer_5 = nn.Sequential()"
   ]
  },
  {
   "cell_type": "code",
   "execution_count": 36,
   "id": "4e743f6b-33ef-4f4a-97d5-5f151235ec36",
   "metadata": {},
   "outputs": [
    {
     "data": {
      "text/plain": [
       "tabularCNN(\n",
       "  (layer_1): Linear(in_features=111, out_features=1024, bias=True)\n",
       "  (layer_2): Linear(in_features=1024, out_features=4096, bias=True)\n",
       "  (layer_3): Linear(in_features=1152, out_features=1024, bias=True)\n",
       "  (layer_4): Linear(in_features=1024, out_features=64, bias=True)\n",
       "  (layer_5): Sequential()\n",
       "  (relu): ReLU()\n",
       "  (dropout): Dropout(p=0.1, inplace=False)\n",
       "  (batchnorm1): BatchNorm1d(1024, eps=1e-05, momentum=0.1, affine=True, track_running_stats=True)\n",
       "  (batchnorm2): BatchNorm1d(4096, eps=1e-05, momentum=0.1, affine=True, track_running_stats=True)\n",
       "  (batchnorm3): BatchNorm1d(1024, eps=1e-05, momentum=0.1, affine=True, track_running_stats=True)\n",
       "  (batchnorm4): BatchNorm1d(64, eps=1e-05, momentum=0.1, affine=True, track_running_stats=True)\n",
       "  (pool): MaxPool2d(kernel_size=2, stride=2, padding=0, dilation=1, ceil_mode=False)\n",
       "  (conv_1): Conv2d(1, 32, kernel_size=(3, 3), stride=(1, 1))\n",
       "  (conv_2): Conv2d(32, 32, kernel_size=(3, 3), stride=(1, 1))\n",
       "  (conv_3): Conv2d(32, 32, kernel_size=(3, 3), stride=(1, 1))\n",
       ")"
      ]
     },
     "execution_count": 36,
     "metadata": {},
     "output_type": "execute_result"
    }
   ],
   "source": [
    "model"
   ]
  },
  {
   "cell_type": "code",
   "execution_count": 37,
   "id": "bcb8a09b-76fb-450a-8ed6-442f8addaefe",
   "metadata": {},
   "outputs": [],
   "source": [
    "class TestData(Dataset):\n",
    "    \n",
    "    def __init__(self, X_data):\n",
    "        self.X_data = X_data\n",
    "        \n",
    "    def __getitem__(self, index):\n",
    "        return self.X_data[index]\n",
    "        \n",
    "    def __len__ (self):\n",
    "        return len(self.X_data)"
   ]
  },
  {
   "cell_type": "code",
   "execution_count": 38,
   "id": "a021ccb6-a7e5-449a-b60e-489cfd7a9b58",
   "metadata": {},
   "outputs": [],
   "source": [
    "data = TestData(torch.tensor(X, dtype=torch.float32))"
   ]
  },
  {
   "cell_type": "code",
   "execution_count": 39,
   "id": "334dada1-5d16-4a9b-80ad-d84b25600fa2",
   "metadata": {},
   "outputs": [],
   "source": [
    "loader = DataLoader(dataset=data, batch_size=512, shuffle=False)"
   ]
  },
  {
   "cell_type": "code",
   "execution_count": 40,
   "id": "483599e1-7031-4e94-91e7-1784d82f5f84",
   "metadata": {},
   "outputs": [
    {
     "name": "stdout",
     "output_type": "stream",
     "text": [
      "100\n",
      "200\n",
      "300\n",
      "400\n",
      "500\n",
      "600\n",
      "700\n",
      "800\n",
      "900\n",
      "1000\n",
      "1100\n",
      "1200\n",
      "1300\n",
      "1400\n",
      "1500\n",
      "1600\n",
      "1700\n",
      "1800\n",
      "1900\n",
      "2000\n",
      "2100\n",
      "2200\n",
      "2300\n",
      "2400\n",
      "2500\n",
      "2600\n",
      "2700\n",
      "2800\n",
      "2900\n",
      "3000\n",
      "3100\n",
      "3200\n",
      "3300\n",
      "3400\n",
      "3500\n",
      "3600\n",
      "3700\n",
      "3800\n",
      "3900\n",
      "4000\n",
      "4100\n",
      "4200\n",
      "4300\n",
      "4400\n",
      "4500\n",
      "4600\n",
      "4700\n",
      "4800\n",
      "4900\n",
      "5000\n",
      "5100\n",
      "5200\n",
      "5300\n",
      "5400\n",
      "5500\n",
      "5600\n",
      "5700\n",
      "5800\n",
      "5900\n",
      "6000\n",
      "6100\n",
      "6200\n",
      "6300\n"
     ]
    }
   ],
   "source": [
    "model.cpu()\n",
    "\n",
    "f = True\n",
    "dataset = None\n",
    "i = 0\n",
    "for X_batch in loader:\n",
    "    i+=1\n",
    "    if i % 100 == 0:\n",
    "        print(i)\n",
    "    if f:\n",
    "        pd.DataFrame(model(X_batch).detach().numpy()).to_csv(\"post_cnn.csv\")\n",
    "        f = False\n",
    "    else:\n",
    "        pd.DataFrame(model(X_batch).detach().numpy()).to_csv(\"post_cnn.csv\", mode='a', header=False)"
   ]
  },
  {
   "cell_type": "code",
   "execution_count": 58,
   "id": "1946d330-8cd5-4f99-bb4a-0d54321d0347",
   "metadata": {},
   "outputs": [
    {
     "data": {
      "text/plain": [
       "4461"
      ]
     },
     "execution_count": 58,
     "metadata": {},
     "output_type": "execute_result"
    }
   ],
   "source": [
    "len(loader)"
   ]
  },
  {
   "cell_type": "code",
   "execution_count": 47,
   "id": "3c913818-408d-4bd1-82c4-e0a6e68a3c7a",
   "metadata": {},
   "outputs": [
    {
     "data": {
      "text/plain": [
       "Linear(in_features=1024, out_features=1, bias=True)"
      ]
     },
     "execution_count": 47,
     "metadata": {},
     "output_type": "execute_result"
    }
   ],
   "source": [
    "model.layer_4"
   ]
  },
  {
   "cell_type": "code",
   "execution_count": 57,
   "id": "12da9832-8c68-4e80-875f-51852f27b1f7",
   "metadata": {},
   "outputs": [
    {
     "data": {
      "text/plain": [
       "array([[ 4.3536409e-13,  2.8846152e-15, -1.3971698e-11, ...,\n",
       "         5.1700841e-03, -6.3485328e-12, -1.1142309e-23],\n",
       "       [ 4.3536409e-13,  2.8846152e-15, -1.3971698e-11, ...,\n",
       "         7.4318410e-03, -6.3485328e-12, -1.1142309e-23],\n",
       "       [ 4.3536409e-13,  2.8846152e-15, -1.3971698e-11, ...,\n",
       "         3.4897977e-03, -6.3485328e-12, -1.1142309e-23],\n",
       "       ...,\n",
       "       [ 4.3536409e-13,  2.8846152e-15, -1.3971698e-11, ...,\n",
       "        -6.5774848e-03, -6.3485328e-12, -1.1142309e-23],\n",
       "       [ 4.3536409e-13,  2.8846152e-15, -1.3971698e-11, ...,\n",
       "         6.3968156e-03, -6.3485328e-12, -1.1142309e-23],\n",
       "       [ 4.3536409e-13,  2.8846152e-15, -1.3971698e-11, ...,\n",
       "        -6.0826213e-05, -6.3485328e-12, -1.1142309e-23]], dtype=float32)"
      ]
     },
     "execution_count": 57,
     "metadata": {},
     "output_type": "execute_result"
    }
   ],
   "source": [
    "model(X_batch).detach().numpy()"
   ]
  },
  {
   "cell_type": "code",
   "execution_count": 4,
   "id": "43813c38-5f01-47d0-8aee-6059ee25eac4",
   "metadata": {},
   "outputs": [
    {
     "name": "stderr",
     "output_type": "stream",
     "text": [
      "2023-06-03 13:44:28.436566: I tensorflow/core/platform/cpu_feature_guard.cc:193] This TensorFlow binary is optimized with oneAPI Deep Neural Network Library (oneDNN) to use the following CPU instructions in performance-critical operations:  AVX2 FMA\n",
      "To enable them in other operations, rebuild TensorFlow with the appropriate compiler flags.\n",
      "2023-06-03 13:44:31.676821: W tensorflow/compiler/xla/stream_executor/platform/default/dso_loader.cc:64] Could not load dynamic library 'libnvinfer.so.7'; dlerror: libnvinfer.so.7: cannot open shared object file: No such file or directory\n",
      "2023-06-03 13:44:31.677043: W tensorflow/compiler/xla/stream_executor/platform/default/dso_loader.cc:64] Could not load dynamic library 'libnvinfer_plugin.so.7'; dlerror: libnvinfer_plugin.so.7: cannot open shared object file: No such file or directory\n",
      "2023-06-03 13:44:31.677053: W tensorflow/compiler/tf2tensorrt/utils/py_utils.cc:38] TF-TRT Warning: Cannot dlopen some TensorRT libraries. If you would like to use Nvidia GPU with TensorRT, please make sure the missing libraries mentioned above are installed properly.\n",
      "2023-06-03 13:44:32.686075: I tensorflow/compiler/xla/stream_executor/cuda/cuda_gpu_executor.cc:981] successful NUMA node read from SysFS had negative value (-1), but there must be at least one NUMA node, so returning NUMA node zero\n",
      "2023-06-03 13:44:32.686427: W tensorflow/compiler/xla/stream_executor/platform/default/dso_loader.cc:64] Could not load dynamic library 'libcusolver.so.11'; dlerror: libcusolver.so.11: cannot open shared object file: No such file or directory\n",
      "2023-06-03 13:44:32.686490: W tensorflow/core/common_runtime/gpu/gpu_device.cc:1934] Cannot dlopen some GPU libraries. Please make sure the missing libraries mentioned above are installed properly if you would like to use GPU. Follow the guide at https://www.tensorflow.org/install/gpu for how to download and setup the required libraries for your platform.\n",
      "Skipping registering GPU devices...\n",
      "2023-06-03 13:44:32.690669: I tensorflow/core/platform/cpu_feature_guard.cc:193] This TensorFlow binary is optimized with oneAPI Deep Neural Network Library (oneDNN) to use the following CPU instructions in performance-critical operations:  AVX2 FMA\n",
      "To enable them in other operations, rebuild TensorFlow with the appropriate compiler flags.\n"
     ]
    }
   ],
   "source": [
    "from datret.datret import DatRetClassifier"
   ]
  },
  {
   "cell_type": "code",
   "execution_count": 5,
   "id": "899e8ccc-e639-497e-9bbe-9bf13564f25d",
   "metadata": {},
   "outputs": [
    {
     "data": {
      "text/plain": [
       "array([[0.        , 0.        , 0.        , ..., 0.        , 0.        ,\n",
       "        0.5       ],\n",
       "       [0.        , 0.        , 0.        , ..., 0.        , 0.        ,\n",
       "        1.        ],\n",
       "       [0.        , 0.        , 0.        , ..., 0.1767659 , 0.13260478,\n",
       "        0.5       ],\n",
       "       ...,\n",
       "       [0.        , 0.        , 0.        , ..., 0.        , 0.        ,\n",
       "        1.        ],\n",
       "       [0.        , 0.        , 0.        , ..., 0.22095738, 0.22100797,\n",
       "        0.5       ],\n",
       "       [0.        , 0.        , 0.        , ..., 0.41981902, 0.22100797,\n",
       "        0.5       ]])"
      ]
     },
     "execution_count": 5,
     "metadata": {},
     "output_type": "execute_result"
    }
   ],
   "source": [
    "X_train"
   ]
  },
  {
   "cell_type": "code",
   "execution_count": 6,
   "id": "41cf253c-d2de-440b-8d37-56f45d49072d",
   "metadata": {},
   "outputs": [
    {
     "data": {
      "text/plain": [
       "1200616    0\n",
       "2809390    1\n",
       "1684472    0\n",
       "2720134    1\n",
       "3118546    1\n",
       "          ..\n",
       "125996     0\n",
       "2136059    1\n",
       "2993373    1\n",
       "1001700    0\n",
       "1512220    0\n",
       "Name: Label, Length: 2283675, dtype: int64"
      ]
     },
     "execution_count": 6,
     "metadata": {},
     "output_type": "execute_result"
    }
   ],
   "source": [
    "y_train"
   ]
  },
  {
   "cell_type": "code",
   "execution_count": 7,
   "id": "db6571c2-547f-4a23-9d4b-45f891750a54",
   "metadata": {},
   "outputs": [
    {
     "name": "stderr",
     "output_type": "stream",
     "text": [
      "2023-06-03 13:44:34.557099: W tensorflow/tsl/framework/cpu_allocator_impl.cc:82] Allocation of 1013951700 exceeds 10% of free system memory.\n"
     ]
    },
    {
     "name": "stdout",
     "output_type": "stream",
     "text": [
      "207604/228367 [==========================>...] - ETA: 46s - loss: 0.0294WARNING:tensorflow:Your input ran out of data; interrupting training. Make sure that your dataset or generator can generate at least `steps_per_epoch * epochs` batches (in this case, 228367 batches). You may need to use the repeat() function when building your dataset.\n",
      "228367/228367 [==============================] - 465s 2ms/step - loss: 0.0294 - lr: 0.0010\n"
     ]
    }
   ],
   "source": [
    "DR = DatRetClassifier(epoch=1)\n",
    "DR.fit(X_train, y_train)"
   ]
  },
  {
   "cell_type": "code",
   "execution_count": 8,
   "id": "7b3725b8-3c59-4bb9-82ab-d26feb9f4489",
   "metadata": {},
   "outputs": [
    {
     "name": "stdout",
     "output_type": "stream",
     "text": [
      "30585/30585 [==============================] - 32s 1ms/step\n"
     ]
    },
    {
     "data": {
      "text/plain": [
       "0.9945581929031724"
      ]
     },
     "execution_count": 8,
     "metadata": {},
     "output_type": "execute_result"
    }
   ],
   "source": [
    "accuracy_score(y_test, DR.predict(X_test))"
   ]
  },
  {
   "cell_type": "code",
   "execution_count": 1,
   "id": "1ef41d85-6fb5-440a-924d-68a6a1fac33b",
   "metadata": {},
   "outputs": [
    {
     "ename": "NameError",
     "evalue": "name 'confusion_matrix' is not defined",
     "output_type": "error",
     "traceback": [
      "\u001b[0;31m---------------------------------------------------------------------------\u001b[0m",
      "\u001b[0;31mNameError\u001b[0m                                 Traceback (most recent call last)",
      "\u001b[0;32m/tmp/ipykernel_4193/3764932534.py\u001b[0m in \u001b[0;36m<module>\u001b[0;34m\u001b[0m\n\u001b[0;32m----> 1\u001b[0;31m \u001b[0mtn\u001b[0m\u001b[0;34m,\u001b[0m \u001b[0mfp\u001b[0m\u001b[0;34m,\u001b[0m \u001b[0mfn\u001b[0m\u001b[0;34m,\u001b[0m \u001b[0mtp\u001b[0m \u001b[0;34m=\u001b[0m \u001b[0mconfusion_matrix\u001b[0m\u001b[0;34m(\u001b[0m\u001b[0my_test\u001b[0m\u001b[0;34m,\u001b[0m \u001b[0mDR\u001b[0m\u001b[0;34m.\u001b[0m\u001b[0mpredict\u001b[0m\u001b[0;34m(\u001b[0m\u001b[0mX_test\u001b[0m\u001b[0;34m)\u001b[0m\u001b[0;34m)\u001b[0m\u001b[0;34m.\u001b[0m\u001b[0mravel\u001b[0m\u001b[0;34m(\u001b[0m\u001b[0;34m)\u001b[0m\u001b[0;34m\u001b[0m\u001b[0;34m\u001b[0m\u001b[0m\n\u001b[0m",
      "\u001b[0;31mNameError\u001b[0m: name 'confusion_matrix' is not defined"
     ]
    }
   ],
   "source": [
    "tn, fp, fn, tp = confusion_matrix(y_test, DR.predict(X_test)).ravel()"
   ]
  },
  {
   "cell_type": "code",
   "execution_count": 13,
   "id": "c47eeaa2-dbde-44b2-8b47-54c08449f9e1",
   "metadata": {},
   "outputs": [
    {
     "data": {
      "image/png": "[encoded data removed]",
      "text/plain": [
       "<Figure size 640x480 with 2 Axes>"
      ]
     },
     "metadata": {},
     "output_type": "display_data"
    }
   ],
   "source": [
    "import seaborn as sns\n",
    "import matplotlib.pyplot as plt     \n",
    "\n",
    "full = tn + fp + fn + tp\n",
    "\n",
    "ax= plt.subplot()\n",
    "sns.heatmap([[tn/ full, fp / full],[fn/full, tp/full]], annot=True, fmt='g', ax=ax);  #annot=True to annotate cells, ftm='g' to disable scientific notation\n",
    "\n",
    "# labels, title and ticks\n",
    "ax.set_xlabel('Predicted labels');ax.set_ylabel('True labels'); \n",
    "ax.set_title('Confusion Matrix'); \n",
    "ax.xaxis.set_ticklabels(['benign', 'malicious']); ax.yaxis.set_ticklabels(['benign', 'malicious']);"
   ]
  },
  {
   "cell_type": "code",
   "execution_count": 19,
   "id": "6bf80df3-6fa5-4e4d-b71a-7b4155682116",
   "metadata": {},
   "outputs": [
    {
     "data": {
      "text/plain": [
       "(array([[0.        , 0.        , 0.        , ..., 0.        , 0.        ,\n",
       "         0.5       ],\n",
       "        [0.        , 0.        , 0.        , ..., 0.        , 0.        ,\n",
       "         1.        ],\n",
       "        [0.        , 0.        , 0.        , ..., 0.1767659 , 0.13260478,\n",
       "         0.5       ],\n",
       "        ...,\n",
       "        [0.        , 0.        , 0.        , ..., 0.        , 0.        ,\n",
       "         1.        ],\n",
       "        [0.        , 0.        , 0.        , ..., 0.22095738, 0.22100797,\n",
       "         0.5       ],\n",
       "        [0.        , 0.        , 0.        , ..., 0.41981902, 0.22100797,\n",
       "         0.5       ]]),\n",
       " 1200616    0\n",
       " 2809390    1\n",
       " 1684472    0\n",
       " 2720134    1\n",
       " 3118546    1\n",
       "           ..\n",
       " 125996     0\n",
       " 2136059    1\n",
       " 2993373    1\n",
       " 1001700    0\n",
       " 1512220    0\n",
       " Name: Label, Length: 2283675, dtype: int64)"
      ]
     },
     "execution_count": 19,
     "metadata": {},
     "output_type": "execute_result"
    }
   ],
   "source": [
    "X_train, y_train"
   ]
  },
  {
   "cell_type": "code",
   "execution_count": 39,
   "id": "9141e919-974f-432e-ac3c-b7d6840d1d50",
   "metadata": {},
   "outputs": [],
   "source": [
    "tp, fp, fn, tn = 0.5948, 0.00072, 0.00493, 0.399471"
   ]
  },
  {
   "cell_type": "code",
   "execution_count": 40,
   "id": "592132da-d8d9-45f4-9566-066ed190ed3e",
   "metadata": {},
   "outputs": [],
   "source": [
    "precision = tp / (tp + fp)"
   ]
  },
  {
   "cell_type": "code",
   "execution_count": 41,
   "id": "8ec816f7-4c92-46f8-997b-5136d199a5e1",
   "metadata": {},
   "outputs": [],
   "source": [
    "recall = tp / (tp + fn)"
   ]
  },
  {
   "cell_type": "code",
   "execution_count": 42,
   "id": "8e8aa71e-eb29-400a-b337-889f5bfff58d",
   "metadata": {},
   "outputs": [
    {
     "data": {
      "text/plain": [
       "(0.9987909725953787, 0.9917796341687093)"
      ]
     },
     "execution_count": 42,
     "metadata": {},
     "output_type": "execute_result"
    }
   ],
   "source": [
    "precision, recall"
   ]
  },
  {
   "cell_type": "code",
   "execution_count": 13,
   "id": "a73fa736-170a-4656-9fb9-c61bfee59e7e",
   "metadata": {},
   "outputs": [],
   "source": [
    "tp, fp, fn, tn = 598187, 1036, 2337, 144607"
   ]
  },
  {
   "cell_type": "code",
   "execution_count": 14,
   "id": "25d5aa53-0aee-46f7-9c11-e25764bed35e",
   "metadata": {},
   "outputs": [],
   "source": [
    "full = tp + fp + fn + tn"
   ]
  },
  {
   "cell_type": "code",
   "execution_count": 15,
   "id": "83671e59-5695-4706-97f3-878012af9d3d",
   "metadata": {},
   "outputs": [
    {
     "data": {
      "text/plain": [
       "0.9954795642262388"
      ]
     },
     "execution_count": 15,
     "metadata": {},
     "output_type": "execute_result"
    }
   ],
   "source": [
    "(full-(fp + fn))/full"
   ]
  },
  {
   "cell_type": "code",
   "execution_count": 19,
   "id": "5adefdde-2826-41c0-a6c6-06835d8b6136",
   "metadata": {},
   "outputs": [
    {
     "data": {
      "text/plain": [
       "1036"
      ]
     },
     "execution_count": 19,
     "metadata": {},
     "output_type": "execute_result"
    }
   ],
   "source": [
    "fp"
   ]
  },
  {
   "cell_type": "code",
   "execution_count": 20,
   "id": "bdce8559-48a9-4259-b3a9-9510acb7faac",
   "metadata": {},
   "outputs": [
    {
     "data": {
      "text/plain": [
       "598187"
      ]
     },
     "execution_count": 20,
     "metadata": {},
     "output_type": "execute_result"
    }
   ],
   "source": [
    "tp"
   ]
  },
  {
   "cell_type": "code",
   "execution_count": 21,
   "id": "d714ad0f-8124-46db-a2c0-74c4acf13c9f",
   "metadata": {},
   "outputs": [
    {
     "data": {
      "text/plain": [
       "0.998271094400582"
      ]
     },
     "execution_count": 21,
     "metadata": {},
     "output_type": "execute_result"
    }
   ],
   "source": [
    "tp / (tp + fp)"
   ]
  },
  {
   "cell_type": "code",
   "execution_count": null,
   "id": "4af333e4-1006-4cb0-adc8-cd22821d49a3",
   "metadata": {},
   "outputs": [],
   "source": []
  },
  {
   "cell_type": "code",
   "execution_count": null,
   "id": "7c17c443-8461-4f54-a3d4-b6a7fc2f7923",
   "metadata": {},
   "outputs": [],
   "source": []
  }
 ],
 "metadata": {
  "kernelspec": {
   "display_name": "Python 3 (ipykernel)",
   "language": "python",
   "name": "python3"
  },
  "language_info": {
   "codemirror_mode": {
    "name": "ipython",
    "version": 3
   },
   "file_extension": ".py",
   "mimetype": "text/x-python",
   "name": "python",
   "nbconvert_exporter": "python",
   "pygments_lexer": "ipython3",
   "version": "3.9.13"
  }
 },
 "nbformat": 4,
 "nbformat_minor": 5
}
