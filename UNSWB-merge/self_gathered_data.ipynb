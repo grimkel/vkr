{
 "cells": [
  {
   "cell_type": "code",
   "execution_count": 2,
   "id": "414b3b62-9507-4f65-8011-aef054e9de7a",
   "metadata": {},
   "outputs": [],
   "source": [
    "import pandas as pd\n",
    "from tqdm import tqdm\n",
    "from pyarrow import csv\n",
    "import pyarrow as pa\n",
    "\n",
    "import torch\n",
    "import torch.nn as nn\n",
    "import torch.optim as optim\n",
    "from torch.utils.data import Dataset, DataLoader\n",
    "\n",
    "import matplotlib.pyplot as plt\n",
    "import plotly.graph_objects as go\n",
    "\n",
    "from catboost import CatBoostClassifier\n",
    "from sklearn.manifold import TSNE\n",
    "from sklearn.discriminant_analysis import LinearDiscriminantAnalysis as LDA\n",
    "from sklearn.preprocessing import StandardScaler,MinMaxScaler\n",
    "from sklearn.preprocessing import OneHotEncoder\n",
    "\n",
    "import numpy as np # linear algebra\n",
    "import pandas as pd # data processing, CSV file I/O (e.g. pd.read_csv)\n",
    "import gc\n",
    "from sklearn.model_selection import train_test_split\n",
    "from sklearn.preprocessing import QuantileTransformer, MinMaxScaler, StandardScaler\n",
    "from sklearn.metrics import auc, accuracy_score, precision_score, recall_score, roc_curve, precision_recall_curve"
   ]
  },
  {
   "cell_type": "code",
   "execution_count": 3,
   "id": "2b5f3979-072c-4384-a429-b6f468d0228c",
   "metadata": {},
   "outputs": [],
   "source": [
    "datasets = {\n",
    "    'NF-UNSW-NB15-V2' : './NF-UNSW-NB15-V2.parquet',\n",
    "}\n",
    "\n",
    "features_to_remove = ['L4_SRC_PORT', 'L4_DST_PORT', 'Attack', 'Label']\n",
    "\n",
    "scaler = MinMaxScaler()\n",
    "\n",
    "x_train = {}\n",
    "x_val = {}\n",
    "x_test = {}"
   ]
  },
  {
   "cell_type": "code",
   "execution_count": 4,
   "id": "ddc32bc7-b7d2-4b25-9918-3cee34852f6d",
   "metadata": {},
   "outputs": [
    {
     "name": "stdout",
     "output_type": "stream",
     "text": [
      "Processing NF-UNSW-NB15-V2\n",
      "====================\n",
      "\n",
      "         IN_PKTS  IN_BYTES  TCP_FLAGS  PROTOCOL\n",
      "839624        45      2487         25         6\n",
      "1745550        6       320         27         6\n",
      "1423092       48      2974         27         6\n",
      "736359        54      3302         27         6\n",
      "497973         6       320         27         6\n",
      "...          ...       ...        ...       ...\n",
      "68583         23      1251         24         6\n",
      "253644        44      2750         27         6\n",
      "32452         23      1251         24         6\n",
      "1376770       48      2958         27         6\n",
      "178848        44      2750         27         6\n",
      "\n",
      "[506620 rows x 4 columns]\n",
      "\n",
      "Finished processing data sources.\n",
      "\n"
     ]
    }
   ],
   "source": [
    "for key, value in datasets.items():\n",
    "    print(f'Processing {key}')\n",
    "    print('='*20 + '\\n')\n",
    "    df = pd.read_parquet(value)\n",
    "    Y = df.Label\n",
    "    df = df[['IN_PKTS', 'IN_BYTES', 'TCP_FLAGS', 'PROTOCOL','L4_SRC_PORT', 'L4_DST_PORT', 'Attack', 'Label']]\n",
    "    X_train, X_test, y_train, y_val = train_test_split(df, Y, test_size=0.3,stratify=df.Attack, random_state=42)\n",
    "    del df\n",
    "    del Y\n",
    "    gc.collect()\n",
    "    X_val, X_test, y_val, y_test = train_test_split(X_test, X_test.Label, test_size=0.15, stratify=X_test.Attack, random_state=42)\n",
    "    X_train = X_train[X_train.Label==0].drop(columns=features_to_remove, axis=1)\n",
    "    X_val.drop(columns=features_to_remove, axis=1, inplace=True)\n",
    "    X_test.drop(columns=features_to_remove, axis=1, inplace=True)\n",
    "    print(X_val)\n",
    "    x_train[key] = scaler.fit_transform(X_train)\n",
    "    x_val[key] = (scaler.transform(X_val), y_val)\n",
    "    x_test[key] = (scaler.transform(X_test), y_test)\n",
    "    del X_train\n",
    "    del X_val\n",
    "    del X_test\n",
    "    gc.collect()\n",
    "print()\n",
    "print('Finished processing data sources.\\n')"
   ]
  },
  {
   "cell_type": "code",
   "execution_count": 5,
   "id": "ea81ae82-fcc4-4781-8dab-2f5f68e9e8f4",
   "metadata": {},
   "outputs": [
    {
     "data": {
      "text/plain": [
       "(506620, 4)"
      ]
     },
     "execution_count": 5,
     "metadata": {},
     "output_type": "execute_result"
    }
   ],
   "source": [
    "x_val['NF-UNSW-NB15-V2'][0].shape"
   ]
  },
  {
   "cell_type": "code",
   "execution_count": 6,
   "id": "5391a634-f59c-41ee-8ad4-aeaba3542d63",
   "metadata": {},
   "outputs": [],
   "source": [
    "from catboost import CatBoostClassifier"
   ]
  },
  {
   "cell_type": "code",
   "execution_count": 7,
   "id": "354d500c-62ea-4560-a4d6-614935d1afe4",
   "metadata": {},
   "outputs": [
    {
     "data": {
      "text/plain": [
       "839624     0\n",
       "1745550    0\n",
       "1423092    0\n",
       "736359     0\n",
       "497973     0\n",
       "          ..\n",
       "68583      0\n",
       "253644     0\n",
       "32452      0\n",
       "1376770    0\n",
       "178848     0\n",
       "Name: Label, Length: 506620, dtype: int8"
      ]
     },
     "execution_count": 7,
     "metadata": {},
     "output_type": "execute_result"
    }
   ],
   "source": [
    "y_val"
   ]
  },
  {
   "cell_type": "code",
   "execution_count": 8,
   "id": "7a8a0b8b-304d-4d3f-be73-60a8f9ac7b61",
   "metadata": {},
   "outputs": [
    {
     "data": {
      "text/plain": [
       "267949     0\n",
       "1390945    0\n",
       "1575231    0\n",
       "1699375    0\n",
       "975300     0\n",
       "          ..\n",
       "1010601    0\n",
       "1313539    0\n",
       "1427466    0\n",
       "533840     0\n",
       "665744     0\n",
       "Name: Label, Length: 89404, dtype: int8"
      ]
     },
     "execution_count": 8,
     "metadata": {},
     "output_type": "execute_result"
    }
   ],
   "source": [
    "x_test['NF-UNSW-NB15-V2'][1]"
   ]
  },
  {
   "cell_type": "code",
   "execution_count": 9,
   "id": "83260842-71ac-4686-a28b-93bd287c2a1b",
   "metadata": {},
   "outputs": [
    {
     "data": {
      "text/plain": [
       "<catboost.core.CatBoostClassifier at 0x7f1fad0c4eb0>"
      ]
     },
     "execution_count": 9,
     "metadata": {},
     "output_type": "execute_result"
    }
   ],
   "source": [
    "clf = CatBoostClassifier(random_seed=42, depth=4, custom_metric=['AUC'], iterations=100, learning_rate=0.2, subsample=0.95, bootstrap_type='Bernoulli')\n",
    "clf.fit(x_val['NF-UNSW-NB15-V2'][0], x_val['NF-UNSW-NB15-V2'][1], verbose = False, early_stopping_rounds=100) "
   ]
  },
  {
   "cell_type": "code",
   "execution_count": 10,
   "id": "bd7e99ee-1933-43dd-8561-04b8f6fa8d0e",
   "metadata": {},
   "outputs": [],
   "source": [
    "from sklearn.metrics import confusion_matrix\n",
    "from sklearn.metrics import accuracy_score"
   ]
  },
  {
   "cell_type": "code",
   "execution_count": 11,
   "id": "f25a2e30-2e37-4850-bab8-93f007afd77e",
   "metadata": {},
   "outputs": [],
   "source": [
    "tn, fp, fn, tp = confusion_matrix(x_test['NF-UNSW-NB15-V2'][1], clf.predict(x_test['NF-UNSW-NB15-V2'][0])).ravel()"
   ]
  },
  {
   "cell_type": "code",
   "execution_count": 12,
   "id": "fc225ad8-33b4-4eb2-9ff0-a2df6924778f",
   "metadata": {},
   "outputs": [
    {
     "data": {
      "text/plain": [
       "(85551, 474, 471, 2908)"
      ]
     },
     "execution_count": 12,
     "metadata": {},
     "output_type": "execute_result"
    }
   ],
   "source": [
    "tn, fp, fn, tp"
   ]
  },
  {
   "cell_type": "code",
   "execution_count": 82,
   "id": "e465c8c7-329f-4179-918a-ce76586d0d3d",
   "metadata": {},
   "outputs": [
    {
     "data": {
      "text/plain": [
       "0.9925059281463917"
      ]
     },
     "execution_count": 82,
     "metadata": {},
     "output_type": "execute_result"
    }
   ],
   "source": [
    "accuracy_score(x_test['NF-UNSW-NB15-V2'][1], clf.predict(x_test['NF-UNSW-NB15-V2'][0]))"
   ]
  },
  {
   "cell_type": "code",
   "execution_count": 14,
   "id": "b319ce86-2e97-47ae-839c-af4d10aa4153",
   "metadata": {},
   "outputs": [
    {
     "data": {
      "text/plain": [
       "(3382,)"
      ]
     },
     "execution_count": 14,
     "metadata": {},
     "output_type": "execute_result"
    }
   ],
   "source": [
    "clf.predict(x_test['NF-UNSW-NB15-V2'][0])[clf.predict(x_test['NF-UNSW-NB15-V2'][0]) == 1].shape"
   ]
  },
  {
   "cell_type": "code",
   "execution_count": 87,
   "id": "c509ce2e-35d4-4ea3-80b4-7fd6c1f4dd3b",
   "metadata": {},
   "outputs": [],
   "source": [
    "test_df = pd.read_csv('gathered_newer.csv')[['IN_PACKETS', 'IN_OCTETS', 'TCP_FLAGS', 'PROTO']]"
   ]
  },
  {
   "cell_type": "code",
   "execution_count": 88,
   "id": "6f38986a-d5f6-47bf-82e8-2d6f087aad61",
   "metadata": {},
   "outputs": [],
   "source": [
    "test = scaler.transform(test_df.rename(columns={'IN_PACKETS': 'IN_PKTS', 'IN_OCTETS': 'IN_BYTES', 'TCP_FLAGS': 'TCP_FLAGS', 'PROTO': 'PROTOCOL'}))"
   ]
  },
  {
   "cell_type": "code",
   "execution_count": 17,
   "id": "083ee11e-7024-4375-9329-10d7d5d97745",
   "metadata": {},
   "outputs": [
    {
     "data": {
      "text/plain": [
       "array([[8.15872427e-03, 3.44502217e-04, 8.06451613e-01, 3.81679389e-02],\n",
       "       [9.27127758e-04, 4.42060367e-05, 8.70967742e-01, 3.81679389e-02],\n",
       "       [8.71500093e-03, 4.11989176e-04, 8.70967742e-01, 3.81679389e-02],\n",
       "       ...,\n",
       "       [4.07936214e-03, 1.73221147e-04, 7.74193548e-01, 3.81679389e-02],\n",
       "       [8.71500093e-03, 4.09771945e-04, 8.70967742e-01, 3.81679389e-02],\n",
       "       [7.97329872e-03, 3.80947946e-04, 8.70967742e-01, 3.81679389e-02]])"
      ]
     },
     "execution_count": 17,
     "metadata": {},
     "output_type": "execute_result"
    }
   ],
   "source": [
    "x_val['NF-UNSW-NB15-V2'][0]"
   ]
  },
  {
   "cell_type": "code",
   "execution_count": 18,
   "id": "78abdabb-53fd-4fa9-85df-bf6f4af36f5f",
   "metadata": {},
   "outputs": [],
   "source": [
    "df = pd.read_parquet(value)"
   ]
  },
  {
   "cell_type": "code",
   "execution_count": 19,
   "id": "0170d6a5-9d72-48e4-914b-564fd49834a9",
   "metadata": {},
   "outputs": [
    {
     "data": {
      "text/plain": [
       "array([[1.85425552e-04, 7.41386509e-05, 0.00000000e+00, 1.22137405e-01],\n",
       "       [1.85425552e-04, 1.08505726e-04, 0.00000000e+00, 1.22137405e-01],\n",
       "       [3.70851103e-04, 1.85554493e-04, 0.00000000e+00, 1.22137405e-01],\n",
       "       ...,\n",
       "       [1.48340441e-03, 5.67333901e-04, 6.45161290e-02, 3.81679389e-02],\n",
       "       [1.48340441e-03, 5.67333901e-04, 6.45161290e-02, 3.81679389e-02],\n",
       "       [5.56276655e-04, 3.74157678e-05, 7.74193548e-01, 3.81679389e-02]])"
      ]
     },
     "execution_count": 19,
     "metadata": {},
     "output_type": "execute_result"
    }
   ],
   "source": [
    "test"
   ]
  },
  {
   "cell_type": "code",
   "execution_count": 20,
   "id": "33ab1f29-0b47-4efd-aad6-889c3de4608a",
   "metadata": {},
   "outputs": [
    {
     "data": {
      "text/plain": [
       "0          24\n",
       "1          24\n",
       "2          24\n",
       "3          24\n",
       "4          24\n",
       "           ..\n",
       "1986740    27\n",
       "1986741    27\n",
       "1986742    26\n",
       "1986743    27\n",
       "1986744    26\n",
       "Name: TCP_FLAGS, Length: 1986745, dtype: int8"
      ]
     },
     "execution_count": 20,
     "metadata": {},
     "output_type": "execute_result"
    }
   ],
   "source": [
    "df['TCP_FLAGS']"
   ]
  },
  {
   "cell_type": "code",
   "execution_count": 21,
   "id": "bb8f7aa3-c71c-4664-b165-ff36d45d6779",
   "metadata": {},
   "outputs": [
    {
     "data": {
      "text/plain": [
       "Index(['L4_SRC_PORT', 'L4_DST_PORT', 'PROTOCOL', 'L7_PROTO', 'IN_BYTES',\n",
       "       'IN_PKTS', 'OUT_BYTES', 'OUT_PKTS', 'TCP_FLAGS', 'CLIENT_TCP_FLAGS',\n",
       "       'SERVER_TCP_FLAGS', 'FLOW_DURATION_MILLISECONDS', 'DURATION_IN',\n",
       "       'DURATION_OUT', 'MIN_TTL', 'MAX_TTL', 'LONGEST_FLOW_PKT',\n",
       "       'SHORTEST_FLOW_PKT', 'MIN_IP_PKT_LEN', 'MAX_IP_PKT_LEN',\n",
       "       'SRC_TO_DST_SECOND_BYTES', 'DST_TO_SRC_SECOND_BYTES',\n",
       "       'RETRANSMITTED_IN_BYTES', 'RETRANSMITTED_IN_PKTS',\n",
       "       'RETRANSMITTED_OUT_BYTES', 'RETRANSMITTED_OUT_PKTS',\n",
       "       'SRC_TO_DST_AVG_THROUGHPUT', 'DST_TO_SRC_AVG_THROUGHPUT',\n",
       "       'NUM_PKTS_UP_TO_128_BYTES', 'NUM_PKTS_128_TO_256_BYTES',\n",
       "       'NUM_PKTS_256_TO_512_BYTES', 'NUM_PKTS_512_TO_1024_BYTES',\n",
       "       'NUM_PKTS_1024_TO_1514_BYTES', 'TCP_WIN_MAX_IN', 'TCP_WIN_MAX_OUT',\n",
       "       'ICMP_TYPE', 'ICMP_IPV4_TYPE', 'DNS_QUERY_ID', 'DNS_QUERY_TYPE',\n",
       "       'DNS_TTL_ANSWER', 'FTP_COMMAND_RET_CODE', 'Label', 'Attack'],\n",
       "      dtype='object')"
      ]
     },
     "execution_count": 21,
     "metadata": {},
     "output_type": "execute_result"
    }
   ],
   "source": [
    "df.columns"
   ]
  },
  {
   "cell_type": "code",
   "execution_count": 22,
   "id": "0567c3c5-2d18-404b-9a02-cdde25a41102",
   "metadata": {},
   "outputs": [],
   "source": [
    "# IN_PACKETS -> IN_PKTS\n",
    "# IN_OCTETS -> IN_BYTES\n",
    "# TCP_FLAGS -> TCP_FLAGS\n",
    "# PROTO -> PROTOCOL"
   ]
  },
  {
   "cell_type": "code",
   "execution_count": 23,
   "id": "63873953-5edd-4e3a-bfd1-02f0e0cf1398",
   "metadata": {},
   "outputs": [
    {
     "data": {
      "text/html": [
       "<div>\n",
       "<style scoped>\n",
       "    .dataframe tbody tr th:only-of-type {\n",
       "        vertical-align: middle;\n",
       "    }\n",
       "\n",
       "    .dataframe tbody tr th {\n",
       "        vertical-align: top;\n",
       "    }\n",
       "\n",
       "    .dataframe thead th {\n",
       "        text-align: right;\n",
       "    }\n",
       "</style>\n",
       "<table border=\"1\" class=\"dataframe\">\n",
       "  <thead>\n",
       "    <tr style=\"text-align: right;\">\n",
       "      <th></th>\n",
       "      <th>IN_PKTS</th>\n",
       "      <th>IN_BYTES</th>\n",
       "      <th>TCP_FLAGS</th>\n",
       "      <th>PROTOCOL</th>\n",
       "    </tr>\n",
       "  </thead>\n",
       "  <tbody>\n",
       "    <tr>\n",
       "      <th>0</th>\n",
       "      <td>1</td>\n",
       "      <td>9</td>\n",
       "      <td>24</td>\n",
       "      <td>6</td>\n",
       "    </tr>\n",
       "    <tr>\n",
       "      <th>1</th>\n",
       "      <td>5</td>\n",
       "      <td>261</td>\n",
       "      <td>24</td>\n",
       "      <td>6</td>\n",
       "    </tr>\n",
       "    <tr>\n",
       "      <th>2</th>\n",
       "      <td>9</td>\n",
       "      <td>481</td>\n",
       "      <td>24</td>\n",
       "      <td>6</td>\n",
       "    </tr>\n",
       "    <tr>\n",
       "      <th>3</th>\n",
       "      <td>13</td>\n",
       "      <td>701</td>\n",
       "      <td>24</td>\n",
       "      <td>6</td>\n",
       "    </tr>\n",
       "    <tr>\n",
       "      <th>4</th>\n",
       "      <td>19</td>\n",
       "      <td>1031</td>\n",
       "      <td>24</td>\n",
       "      <td>6</td>\n",
       "    </tr>\n",
       "    <tr>\n",
       "      <th>...</th>\n",
       "      <td>...</td>\n",
       "      <td>...</td>\n",
       "      <td>...</td>\n",
       "      <td>...</td>\n",
       "    </tr>\n",
       "    <tr>\n",
       "      <th>1986740</th>\n",
       "      <td>12</td>\n",
       "      <td>1064</td>\n",
       "      <td>27</td>\n",
       "      <td>6</td>\n",
       "    </tr>\n",
       "    <tr>\n",
       "      <th>1986741</th>\n",
       "      <td>12</td>\n",
       "      <td>1064</td>\n",
       "      <td>27</td>\n",
       "      <td>6</td>\n",
       "    </tr>\n",
       "    <tr>\n",
       "      <th>1986742</th>\n",
       "      <td>10</td>\n",
       "      <td>994</td>\n",
       "      <td>26</td>\n",
       "      <td>6</td>\n",
       "    </tr>\n",
       "    <tr>\n",
       "      <th>1986743</th>\n",
       "      <td>68</td>\n",
       "      <td>4014</td>\n",
       "      <td>27</td>\n",
       "      <td>6</td>\n",
       "    </tr>\n",
       "    <tr>\n",
       "      <th>1986744</th>\n",
       "      <td>34</td>\n",
       "      <td>2246</td>\n",
       "      <td>26</td>\n",
       "      <td>6</td>\n",
       "    </tr>\n",
       "  </tbody>\n",
       "</table>\n",
       "<p>1986745 rows × 4 columns</p>\n",
       "</div>"
      ],
      "text/plain": [
       "         IN_PKTS  IN_BYTES  TCP_FLAGS  PROTOCOL\n",
       "0              1         9         24         6\n",
       "1              5       261         24         6\n",
       "2              9       481         24         6\n",
       "3             13       701         24         6\n",
       "4             19      1031         24         6\n",
       "...          ...       ...        ...       ...\n",
       "1986740       12      1064         27         6\n",
       "1986741       12      1064         27         6\n",
       "1986742       10       994         26         6\n",
       "1986743       68      4014         27         6\n",
       "1986744       34      2246         26         6\n",
       "\n",
       "[1986745 rows x 4 columns]"
      ]
     },
     "execution_count": 23,
     "metadata": {},
     "output_type": "execute_result"
    }
   ],
   "source": [
    "df[['IN_PKTS', 'IN_BYTES', 'TCP_FLAGS', 'PROTOCOL']]"
   ]
  },
  {
   "cell_type": "code",
   "execution_count": 24,
   "id": "6bdf93a0-1e48-4653-b89d-e5083043d3f5",
   "metadata": {},
   "outputs": [
    {
     "data": {
      "text/plain": [
       "{'NF-UNSW-NB15-V2': (array([[8.15872427e-03, 3.44502217e-04, 8.06451613e-01, 3.81679389e-02],\n",
       "         [9.27127758e-04, 4.42060367e-05, 8.70967742e-01, 3.81679389e-02],\n",
       "         [8.71500093e-03, 4.11989176e-04, 8.70967742e-01, 3.81679389e-02],\n",
       "         ...,\n",
       "         [4.07936214e-03, 1.73221147e-04, 7.74193548e-01, 3.81679389e-02],\n",
       "         [8.71500093e-03, 4.09771945e-04, 8.70967742e-01, 3.81679389e-02],\n",
       "         [7.97329872e-03, 3.80947946e-04, 8.70967742e-01, 3.81679389e-02]]),\n",
       "  839624     0\n",
       "  1745550    0\n",
       "  1423092    0\n",
       "  736359     0\n",
       "  497973     0\n",
       "            ..\n",
       "  68583      0\n",
       "  253644     0\n",
       "  32452      0\n",
       "  1376770    0\n",
       "  178848     0\n",
       "  Name: Label, Length: 506620, dtype: int8)}"
      ]
     },
     "execution_count": 24,
     "metadata": {},
     "output_type": "execute_result"
    }
   ],
   "source": [
    "x_val"
   ]
  },
  {
   "cell_type": "code",
   "execution_count": 114,
   "id": "35ba5224-c0a4-4484-bba4-20065404506f",
   "metadata": {},
   "outputs": [
    {
     "data": {
      "text/plain": [
       "1706"
      ]
     },
     "execution_count": 114,
     "metadata": {},
     "output_type": "execute_result"
    }
   ],
   "source": [
    "sum(clf.predict(test) == 0)"
   ]
  },
  {
   "cell_type": "code",
   "execution_count": 115,
   "id": "828d2118-858a-4d4d-bbe0-4796572623aa",
   "metadata": {},
   "outputs": [
    {
     "data": {
      "text/plain": [
       "18"
      ]
     },
     "execution_count": 115,
     "metadata": {},
     "output_type": "execute_result"
    }
   ],
   "source": [
    "sum(clf.predict(test) == 1)"
   ]
  },
  {
   "cell_type": "code",
   "execution_count": 27,
   "id": "fef83cd7-0fe2-4c33-b1bd-49b4bd10122f",
   "metadata": {},
   "outputs": [
    {
     "data": {
      "text/plain": [
       "array([[8.15872427e-03, 3.44502217e-04, 8.06451613e-01, 3.81679389e-02],\n",
       "       [9.27127758e-04, 4.42060367e-05, 8.70967742e-01, 3.81679389e-02],\n",
       "       [8.71500093e-03, 4.11989176e-04, 8.70967742e-01, 3.81679389e-02],\n",
       "       ...,\n",
       "       [4.07936214e-03, 1.73221147e-04, 7.74193548e-01, 3.81679389e-02],\n",
       "       [8.71500093e-03, 4.09771945e-04, 8.70967742e-01, 3.81679389e-02],\n",
       "       [7.97329872e-03, 3.80947946e-04, 8.70967742e-01, 3.81679389e-02]])"
      ]
     },
     "execution_count": 27,
     "metadata": {},
     "output_type": "execute_result"
    }
   ],
   "source": [
    "x_val['NF-UNSW-NB15-V2'][0]"
   ]
  },
  {
   "cell_type": "code",
   "execution_count": null,
   "id": "a5dff278-c4c7-4bc4-8e0a-8ebce81024e2",
   "metadata": {},
   "outputs": [],
   "source": []
  },
  {
   "cell_type": "code",
   "execution_count": 28,
   "id": "fa57278d-16d3-408b-bf16-aafd8e525db2",
   "metadata": {},
   "outputs": [
    {
     "data": {
      "text/plain": [
       "array([[1.85425552e-04, 7.41386509e-05, 0.00000000e+00, 1.22137405e-01],\n",
       "       [1.85425552e-04, 1.08505726e-04, 0.00000000e+00, 1.22137405e-01],\n",
       "       [3.70851103e-04, 1.85554493e-04, 0.00000000e+00, 1.22137405e-01],\n",
       "       ...,\n",
       "       [1.48340441e-03, 5.67333901e-04, 6.45161290e-02, 3.81679389e-02],\n",
       "       [1.48340441e-03, 5.67333901e-04, 6.45161290e-02, 3.81679389e-02],\n",
       "       [5.56276655e-04, 3.74157678e-05, 7.74193548e-01, 3.81679389e-02]])"
      ]
     },
     "execution_count": 28,
     "metadata": {},
     "output_type": "execute_result"
    }
   ],
   "source": [
    "test"
   ]
  },
  {
   "cell_type": "code",
   "execution_count": 29,
   "id": "07eb5706-091d-42fd-93b9-b50be531cbcb",
   "metadata": {},
   "outputs": [
    {
     "data": {
      "text/plain": [
       "839624     0\n",
       "1745550    0\n",
       "1423092    0\n",
       "736359     0\n",
       "497973     0\n",
       "          ..\n",
       "68583      0\n",
       "253644     0\n",
       "32452      0\n",
       "1376770    0\n",
       "178848     0\n",
       "Name: Label, Length: 506620, dtype: int8"
      ]
     },
     "execution_count": 29,
     "metadata": {},
     "output_type": "execute_result"
    }
   ],
   "source": [
    "x_val['NF-UNSW-NB15-V2'][1]"
   ]
  },
  {
   "cell_type": "code",
   "execution_count": 60,
   "id": "2179b8ef-80ed-4f54-b24c-bdb958ec7e3f",
   "metadata": {},
   "outputs": [],
   "source": [
    "val_added = np.concatenate((x_val['NF-UNSW-NB15-V2'][0], test), axis=0)"
   ]
  },
  {
   "cell_type": "code",
   "execution_count": 66,
   "id": "012cd3af-9236-4a69-bbe5-d4b413ab822e",
   "metadata": {},
   "outputs": [],
   "source": [
    "val_added = np.concatenate((val_added, test), axis=0)"
   ]
  },
  {
   "cell_type": "code",
   "execution_count": 67,
   "id": "c22acb27-687e-4731-959c-b6f841fbd9e8",
   "metadata": {},
   "outputs": [],
   "source": [
    "add_0 = np.zeros(val_added.shape[0]-x_val['NF-UNSW-NB15-V2'][1].shape[0])"
   ]
  },
  {
   "cell_type": "code",
   "execution_count": 61,
   "id": "cdba01c8-96f5-41bc-844f-b12c27a6ef4a",
   "metadata": {},
   "outputs": [],
   "source": [
    "add_1 = np.ones(val_added.shape[0]-x_val['NF-UNSW-NB15-V2'][1].shape[0])"
   ]
  },
  {
   "cell_type": "code",
   "execution_count": 32,
   "id": "40232190-fcda-47c1-a1ff-d49d47cf7102",
   "metadata": {},
   "outputs": [
    {
     "data": {
      "text/plain": [
       "839624     0\n",
       "1745550    0\n",
       "1423092    0\n",
       "736359     0\n",
       "497973     0\n",
       "          ..\n",
       "68583      0\n",
       "253644     0\n",
       "32452      0\n",
       "1376770    0\n",
       "178848     0\n",
       "Name: Label, Length: 506620, dtype: int8"
      ]
     },
     "execution_count": 32,
     "metadata": {},
     "output_type": "execute_result"
    }
   ],
   "source": [
    "x_val['NF-UNSW-NB15-V2'][1]"
   ]
  },
  {
   "cell_type": "code",
   "execution_count": 62,
   "id": "5afb1003-8d76-419d-a0cc-a663f94d4c9d",
   "metadata": {},
   "outputs": [],
   "source": [
    "val_Y_add = np.concatenate((x_val['NF-UNSW-NB15-V2'][1], add_1), axis=0)"
   ]
  },
  {
   "cell_type": "code",
   "execution_count": 68,
   "id": "300a07b0-dbb4-480e-8fe1-11f1a320e5ea",
   "metadata": {},
   "outputs": [],
   "source": [
    "val_Y_add = np.concatenate((val_Y_add, add_0), axis=0)"
   ]
  },
  {
   "cell_type": "code",
   "execution_count": 69,
   "id": "9e9ffbbb-0943-4c87-a5c9-37808baec597",
   "metadata": {},
   "outputs": [
    {
     "data": {
      "text/plain": [
       "(519376,)"
      ]
     },
     "execution_count": 69,
     "metadata": {},
     "output_type": "execute_result"
    }
   ],
   "source": [
    "val_Y_add.shape"
   ]
  },
  {
   "cell_type": "code",
   "execution_count": 70,
   "id": "06953bf3-e54e-412a-ae18-aae375706cb9",
   "metadata": {},
   "outputs": [
    {
     "ename": "CatBoostError",
     "evalue": "Length of label=519376 and length of data=518640 is different.",
     "output_type": "error",
     "traceback": [
      "\u001b[0;31m---------------------------------------------------------------------------\u001b[0m",
      "\u001b[0;31mCatBoostError\u001b[0m                             Traceback (most recent call last)",
      "\u001b[0;32m/tmp/ipykernel_279060/3576509815.py\u001b[0m in \u001b[0;36m<module>\u001b[0;34m\u001b[0m\n\u001b[1;32m      1\u001b[0m \u001b[0mclf\u001b[0m \u001b[0;34m=\u001b[0m \u001b[0mCatBoostClassifier\u001b[0m\u001b[0;34m(\u001b[0m\u001b[0mrandom_seed\u001b[0m\u001b[0;34m=\u001b[0m\u001b[0;36m42\u001b[0m\u001b[0;34m,\u001b[0m \u001b[0mdepth\u001b[0m\u001b[0;34m=\u001b[0m\u001b[0;36m4\u001b[0m\u001b[0;34m,\u001b[0m \u001b[0mcustom_metric\u001b[0m\u001b[0;34m=\u001b[0m\u001b[0;34m[\u001b[0m\u001b[0;34m'AUC'\u001b[0m\u001b[0;34m]\u001b[0m\u001b[0;34m,\u001b[0m \u001b[0miterations\u001b[0m\u001b[0;34m=\u001b[0m\u001b[0;36m1000\u001b[0m\u001b[0;34m,\u001b[0m \u001b[0mlearning_rate\u001b[0m\u001b[0;34m=\u001b[0m\u001b[0;36m0.2\u001b[0m\u001b[0;34m,\u001b[0m \u001b[0msubsample\u001b[0m\u001b[0;34m=\u001b[0m\u001b[0;36m0.95\u001b[0m\u001b[0;34m,\u001b[0m \u001b[0mbootstrap_type\u001b[0m\u001b[0;34m=\u001b[0m\u001b[0;34m'Bernoulli'\u001b[0m\u001b[0;34m)\u001b[0m\u001b[0;34m\u001b[0m\u001b[0;34m\u001b[0m\u001b[0m\n\u001b[0;32m----> 2\u001b[0;31m \u001b[0mclf\u001b[0m\u001b[0;34m.\u001b[0m\u001b[0mfit\u001b[0m\u001b[0;34m(\u001b[0m\u001b[0mval_added\u001b[0m\u001b[0;34m,\u001b[0m \u001b[0mval_Y_add\u001b[0m\u001b[0;34m,\u001b[0m \u001b[0mverbose\u001b[0m \u001b[0;34m=\u001b[0m \u001b[0;32mFalse\u001b[0m\u001b[0;34m,\u001b[0m \u001b[0mearly_stopping_rounds\u001b[0m\u001b[0;34m=\u001b[0m\u001b[0;36m100\u001b[0m\u001b[0;34m)\u001b[0m\u001b[0;34m\u001b[0m\u001b[0;34m\u001b[0m\u001b[0m\n\u001b[0m",
      "\u001b[0;32m~/anaconda3/lib/python3.9/site-packages/catboost/core.py\u001b[0m in \u001b[0;36mfit\u001b[0;34m(self, X, y, cat_features, text_features, embedding_features, sample_weight, baseline, use_best_model, eval_set, verbose, logging_level, plot, plot_file, column_description, verbose_eval, metric_period, silent, early_stopping_rounds, save_snapshot, snapshot_file, snapshot_interval, init_model, callbacks, log_cout, log_cerr)\u001b[0m\n\u001b[1;32m   5126\u001b[0m             \u001b[0mCatBoostClassifier\u001b[0m\u001b[0;34m.\u001b[0m\u001b[0m_check_is_compatible_loss\u001b[0m\u001b[0;34m(\u001b[0m\u001b[0mparams\u001b[0m\u001b[0;34m[\u001b[0m\u001b[0;34m'loss_function'\u001b[0m\u001b[0;34m]\u001b[0m\u001b[0;34m)\u001b[0m\u001b[0;34m\u001b[0m\u001b[0;34m\u001b[0m\u001b[0m\n\u001b[1;32m   5127\u001b[0m \u001b[0;34m\u001b[0m\u001b[0m\n\u001b[0;32m-> 5128\u001b[0;31m         self._fit(X, y, cat_features, text_features, embedding_features, None, sample_weight, None, None, None, None, baseline, use_best_model,\n\u001b[0m\u001b[1;32m   5129\u001b[0m                   \u001b[0meval_set\u001b[0m\u001b[0;34m,\u001b[0m \u001b[0mverbose\u001b[0m\u001b[0;34m,\u001b[0m \u001b[0mlogging_level\u001b[0m\u001b[0;34m,\u001b[0m \u001b[0mplot\u001b[0m\u001b[0;34m,\u001b[0m \u001b[0mplot_file\u001b[0m\u001b[0;34m,\u001b[0m \u001b[0mcolumn_description\u001b[0m\u001b[0;34m,\u001b[0m \u001b[0mverbose_eval\u001b[0m\u001b[0;34m,\u001b[0m \u001b[0mmetric_period\u001b[0m\u001b[0;34m,\u001b[0m\u001b[0;34m\u001b[0m\u001b[0;34m\u001b[0m\u001b[0m\n\u001b[1;32m   5130\u001b[0m                   silent, early_stopping_rounds, save_snapshot, snapshot_file, snapshot_interval, init_model, callbacks, log_cout, log_cerr)\n",
      "\u001b[0;32m~/anaconda3/lib/python3.9/site-packages/catboost/core.py\u001b[0m in \u001b[0;36m_fit\u001b[0;34m(self, X, y, cat_features, text_features, embedding_features, pairs, sample_weight, group_id, group_weight, subgroup_id, pairs_weight, baseline, use_best_model, eval_set, verbose, logging_level, plot, plot_file, column_description, verbose_eval, metric_period, silent, early_stopping_rounds, save_snapshot, snapshot_file, snapshot_interval, init_model, callbacks, log_cout, log_cerr)\u001b[0m\n\u001b[1;32m   2337\u001b[0m             \u001b[0;32mraise\u001b[0m \u001b[0mCatBoostError\u001b[0m\u001b[0;34m(\u001b[0m\u001b[0;34m\"y may be None only when X is an instance of catboost.Pool or string\"\u001b[0m\u001b[0;34m)\u001b[0m\u001b[0;34m\u001b[0m\u001b[0;34m\u001b[0m\u001b[0m\n\u001b[1;32m   2338\u001b[0m \u001b[0;34m\u001b[0m\u001b[0m\n\u001b[0;32m-> 2339\u001b[0;31m         train_params = self._prepare_train_params(\n\u001b[0m\u001b[1;32m   2340\u001b[0m             \u001b[0mX\u001b[0m\u001b[0;34m=\u001b[0m\u001b[0mX\u001b[0m\u001b[0;34m,\u001b[0m \u001b[0my\u001b[0m\u001b[0;34m=\u001b[0m\u001b[0my\u001b[0m\u001b[0;34m,\u001b[0m \u001b[0mcat_features\u001b[0m\u001b[0;34m=\u001b[0m\u001b[0mcat_features\u001b[0m\u001b[0;34m,\u001b[0m \u001b[0mtext_features\u001b[0m\u001b[0;34m=\u001b[0m\u001b[0mtext_features\u001b[0m\u001b[0;34m,\u001b[0m \u001b[0membedding_features\u001b[0m\u001b[0;34m=\u001b[0m\u001b[0membedding_features\u001b[0m\u001b[0;34m,\u001b[0m\u001b[0;34m\u001b[0m\u001b[0;34m\u001b[0m\u001b[0m\n\u001b[1;32m   2341\u001b[0m             \u001b[0mpairs\u001b[0m\u001b[0;34m=\u001b[0m\u001b[0mpairs\u001b[0m\u001b[0;34m,\u001b[0m \u001b[0msample_weight\u001b[0m\u001b[0;34m=\u001b[0m\u001b[0msample_weight\u001b[0m\u001b[0;34m,\u001b[0m \u001b[0mgroup_id\u001b[0m\u001b[0;34m=\u001b[0m\u001b[0mgroup_id\u001b[0m\u001b[0;34m,\u001b[0m \u001b[0mgroup_weight\u001b[0m\u001b[0;34m=\u001b[0m\u001b[0mgroup_weight\u001b[0m\u001b[0;34m,\u001b[0m\u001b[0;34m\u001b[0m\u001b[0;34m\u001b[0m\u001b[0m\n",
      "\u001b[0;32m~/anaconda3/lib/python3.9/site-packages/catboost/core.py\u001b[0m in \u001b[0;36m_prepare_train_params\u001b[0;34m(self, X, y, cat_features, text_features, embedding_features, pairs, sample_weight, group_id, group_weight, subgroup_id, pairs_weight, baseline, use_best_model, eval_set, verbose, logging_level, plot, plot_file, column_description, verbose_eval, metric_period, silent, early_stopping_rounds, save_snapshot, snapshot_file, snapshot_interval, init_model, callbacks)\u001b[0m\n\u001b[1;32m   2218\u001b[0m         \u001b[0membedding_features\u001b[0m \u001b[0;34m=\u001b[0m \u001b[0m_process_feature_indices\u001b[0m\u001b[0;34m(\u001b[0m\u001b[0membedding_features\u001b[0m\u001b[0;34m,\u001b[0m \u001b[0mX\u001b[0m\u001b[0;34m,\u001b[0m \u001b[0mparams\u001b[0m\u001b[0;34m,\u001b[0m \u001b[0;34m'embedding_features'\u001b[0m\u001b[0;34m)\u001b[0m\u001b[0;34m\u001b[0m\u001b[0;34m\u001b[0m\u001b[0m\n\u001b[1;32m   2219\u001b[0m \u001b[0;34m\u001b[0m\u001b[0m\n\u001b[0;32m-> 2220\u001b[0;31m         train_pool = _build_train_pool(X, y, cat_features, text_features, embedding_features, pairs,\n\u001b[0m\u001b[1;32m   2221\u001b[0m                                        \u001b[0msample_weight\u001b[0m\u001b[0;34m,\u001b[0m \u001b[0mgroup_id\u001b[0m\u001b[0;34m,\u001b[0m \u001b[0mgroup_weight\u001b[0m\u001b[0;34m,\u001b[0m \u001b[0msubgroup_id\u001b[0m\u001b[0;34m,\u001b[0m \u001b[0mpairs_weight\u001b[0m\u001b[0;34m,\u001b[0m\u001b[0;34m\u001b[0m\u001b[0;34m\u001b[0m\u001b[0m\n\u001b[1;32m   2222\u001b[0m                                        baseline, column_description)\n",
      "\u001b[0;32m~/anaconda3/lib/python3.9/site-packages/catboost/core.py\u001b[0m in \u001b[0;36m_build_train_pool\u001b[0;34m(X, y, cat_features, text_features, embedding_features, pairs, sample_weight, group_id, group_weight, subgroup_id, pairs_weight, baseline, column_description)\u001b[0m\n\u001b[1;32m   1436\u001b[0m         \u001b[0;32mif\u001b[0m \u001b[0my\u001b[0m \u001b[0;32mis\u001b[0m \u001b[0;32mNone\u001b[0m\u001b[0;34m:\u001b[0m\u001b[0;34m\u001b[0m\u001b[0;34m\u001b[0m\u001b[0m\n\u001b[1;32m   1437\u001b[0m             \u001b[0;32mraise\u001b[0m \u001b[0mCatBoostError\u001b[0m\u001b[0;34m(\u001b[0m\u001b[0;34m\"y has not initialized in fit(): X is not catboost.Pool object, y must be not None in fit().\"\u001b[0m\u001b[0;34m)\u001b[0m\u001b[0;34m\u001b[0m\u001b[0;34m\u001b[0m\u001b[0m\n\u001b[0;32m-> 1438\u001b[0;31m         train_pool = Pool(X, y, cat_features=cat_features, text_features=text_features, embedding_features=embedding_features, pairs=pairs, weight=sample_weight, group_id=group_id,\n\u001b[0m\u001b[1;32m   1439\u001b[0m                           group_weight=group_weight, subgroup_id=subgroup_id, pairs_weight=pairs_weight, baseline=baseline)\n\u001b[1;32m   1440\u001b[0m     \u001b[0;32mreturn\u001b[0m \u001b[0mtrain_pool\u001b[0m\u001b[0;34m\u001b[0m\u001b[0;34m\u001b[0m\u001b[0m\n",
      "\u001b[0;32m~/anaconda3/lib/python3.9/site-packages/catboost/core.py\u001b[0m in \u001b[0;36m__init__\u001b[0;34m(self, data, label, cat_features, text_features, embedding_features, embedding_features_data, column_description, pairs, delimiter, has_header, ignore_csv_quoting, weight, group_id, group_weight, subgroup_id, pairs_weight, baseline, timestamp, feature_names, feature_tags, thread_count, log_cout, log_cerr)\u001b[0m\n\u001b[1;32m    790\u001b[0m                     )\n\u001b[1;32m    791\u001b[0m \u001b[0;34m\u001b[0m\u001b[0m\n\u001b[0;32m--> 792\u001b[0;31m                 self._init(data, label, cat_features, text_features, embedding_features, embedding_features_data, pairs, weight,\n\u001b[0m\u001b[1;32m    793\u001b[0m                            group_id, group_weight, subgroup_id, pairs_weight, baseline, timestamp, feature_names, feature_tags, thread_count)\n\u001b[1;32m    794\u001b[0m         \u001b[0msuper\u001b[0m\u001b[0;34m(\u001b[0m\u001b[0mPool\u001b[0m\u001b[0;34m,\u001b[0m \u001b[0mself\u001b[0m\u001b[0;34m)\u001b[0m\u001b[0;34m.\u001b[0m\u001b[0m__init__\u001b[0m\u001b[0;34m(\u001b[0m\u001b[0;34m)\u001b[0m\u001b[0;34m\u001b[0m\u001b[0;34m\u001b[0m\u001b[0m\n",
      "\u001b[0;32m~/anaconda3/lib/python3.9/site-packages/catboost/core.py\u001b[0m in \u001b[0;36m_init\u001b[0;34m(self, data, label, cat_features, text_features, embedding_features, embedding_features_data, pairs, weight, group_id, group_weight, subgroup_id, pairs_weight, baseline, timestamp, feature_names, feature_tags, thread_count)\u001b[0m\n\u001b[1;32m   1365\u001b[0m             \u001b[0;32mif\u001b[0m \u001b[0mlen\u001b[0m\u001b[0;34m(\u001b[0m\u001b[0mnp\u001b[0m\u001b[0;34m.\u001b[0m\u001b[0mshape\u001b[0m\u001b[0;34m(\u001b[0m\u001b[0mlabel\u001b[0m\u001b[0;34m)\u001b[0m\u001b[0;34m)\u001b[0m \u001b[0;34m==\u001b[0m \u001b[0;36m1\u001b[0m\u001b[0;34m:\u001b[0m\u001b[0;34m\u001b[0m\u001b[0;34m\u001b[0m\u001b[0m\n\u001b[1;32m   1366\u001b[0m                 \u001b[0mlabel\u001b[0m \u001b[0;34m=\u001b[0m \u001b[0mnp\u001b[0m\u001b[0;34m.\u001b[0m\u001b[0mexpand_dims\u001b[0m\u001b[0;34m(\u001b[0m\u001b[0mlabel\u001b[0m\u001b[0;34m,\u001b[0m \u001b[0;36m1\u001b[0m\u001b[0;34m)\u001b[0m\u001b[0;34m\u001b[0m\u001b[0;34m\u001b[0m\u001b[0m\n\u001b[0;32m-> 1367\u001b[0;31m             \u001b[0mself\u001b[0m\u001b[0;34m.\u001b[0m\u001b[0m_check_label_shape\u001b[0m\u001b[0;34m(\u001b[0m\u001b[0mlabel\u001b[0m\u001b[0;34m,\u001b[0m \u001b[0msamples_count\u001b[0m\u001b[0;34m)\u001b[0m\u001b[0;34m\u001b[0m\u001b[0;34m\u001b[0m\u001b[0m\n\u001b[0m\u001b[1;32m   1368\u001b[0m         \u001b[0;32mif\u001b[0m \u001b[0mfeature_names\u001b[0m \u001b[0;32mis\u001b[0m \u001b[0;32mnot\u001b[0m \u001b[0;32mNone\u001b[0m\u001b[0;34m:\u001b[0m\u001b[0;34m\u001b[0m\u001b[0;34m\u001b[0m\u001b[0m\n\u001b[1;32m   1369\u001b[0m             \u001b[0mself\u001b[0m\u001b[0;34m.\u001b[0m\u001b[0m_check_feature_names\u001b[0m\u001b[0;34m(\u001b[0m\u001b[0mfeature_names\u001b[0m\u001b[0;34m,\u001b[0m \u001b[0mfeatures_count\u001b[0m\u001b[0;34m)\u001b[0m\u001b[0;34m\u001b[0m\u001b[0;34m\u001b[0m\u001b[0m\n",
      "\u001b[0;32m~/anaconda3/lib/python3.9/site-packages/catboost/core.py\u001b[0m in \u001b[0;36m_check_label_shape\u001b[0;34m(self, label, samples_count)\u001b[0m\n\u001b[1;32m    906\u001b[0m         \"\"\"\n\u001b[1;32m    907\u001b[0m         \u001b[0;32mif\u001b[0m \u001b[0mlen\u001b[0m\u001b[0;34m(\u001b[0m\u001b[0mlabel\u001b[0m\u001b[0;34m)\u001b[0m \u001b[0;34m!=\u001b[0m \u001b[0msamples_count\u001b[0m\u001b[0;34m:\u001b[0m\u001b[0;34m\u001b[0m\u001b[0;34m\u001b[0m\u001b[0m\n\u001b[0;32m--> 908\u001b[0;31m             \u001b[0;32mraise\u001b[0m \u001b[0mCatBoostError\u001b[0m\u001b[0;34m(\u001b[0m\u001b[0;34m\"Length of label={} and length of data={} is different.\"\u001b[0m\u001b[0;34m.\u001b[0m\u001b[0mformat\u001b[0m\u001b[0;34m(\u001b[0m\u001b[0mlen\u001b[0m\u001b[0;34m(\u001b[0m\u001b[0mlabel\u001b[0m\u001b[0;34m)\u001b[0m\u001b[0;34m,\u001b[0m \u001b[0msamples_count\u001b[0m\u001b[0;34m)\u001b[0m\u001b[0;34m)\u001b[0m\u001b[0;34m\u001b[0m\u001b[0;34m\u001b[0m\u001b[0m\n\u001b[0m\u001b[1;32m    909\u001b[0m \u001b[0;34m\u001b[0m\u001b[0m\n\u001b[1;32m    910\u001b[0m     \u001b[0;32mdef\u001b[0m \u001b[0m_check_baseline_type\u001b[0m\u001b[0;34m(\u001b[0m\u001b[0mself\u001b[0m\u001b[0;34m,\u001b[0m \u001b[0mbaseline\u001b[0m\u001b[0;34m)\u001b[0m\u001b[0;34m:\u001b[0m\u001b[0;34m\u001b[0m\u001b[0;34m\u001b[0m\u001b[0m\n",
      "\u001b[0;31mCatBoostError\u001b[0m: Length of label=519376 and length of data=518640 is different."
     ]
    }
   ],
   "source": [
    "clf = CatBoostClassifier(random_seed=42, depth=4, custom_metric=['AUC'], iterations=1000, learning_rate=0.2, subsample=0.95, bootstrap_type='Bernoulli')\n",
    "clf.fit(val_added, val_Y_add, verbose = False, early_stopping_rounds=100) "
   ]
  },
  {
   "cell_type": "code",
   "execution_count": 36,
   "id": "75331c2f-e069-4325-bdaa-a14f465511d9",
   "metadata": {},
   "outputs": [
    {
     "data": {
      "text/plain": [
       "array([[8.15872427e-03, 3.44502217e-04, 8.06451613e-01, 3.81679389e-02],\n",
       "       [9.27127758e-04, 4.42060367e-05, 8.70967742e-01, 3.81679389e-02],\n",
       "       [8.71500093e-03, 4.11989176e-04, 8.70967742e-01, 3.81679389e-02],\n",
       "       ...,\n",
       "       [1.48340441e-03, 5.67333901e-04, 6.45161290e-02, 3.81679389e-02],\n",
       "       [1.48340441e-03, 5.67333901e-04, 6.45161290e-02, 3.81679389e-02],\n",
       "       [5.56276655e-04, 3.74157678e-05, 7.74193548e-01, 3.81679389e-02]])"
      ]
     },
     "execution_count": 36,
     "metadata": {},
     "output_type": "execute_result"
    }
   ],
   "source": [
    "val_added"
   ]
  },
  {
   "cell_type": "code",
   "execution_count": 37,
   "id": "c1f60382-bd35-406f-a324-104e7495b52e",
   "metadata": {},
   "outputs": [
    {
     "data": {
      "text/plain": [
       "array([0., 0., 0., ..., 0., 0., 0.])"
      ]
     },
     "execution_count": 37,
     "metadata": {},
     "output_type": "execute_result"
    }
   ],
   "source": [
    "val_Y_add"
   ]
  },
  {
   "cell_type": "code",
   "execution_count": null,
   "id": "b35dc8d8-a339-447e-b6eb-db592f4d4241",
   "metadata": {},
   "outputs": [],
   "source": []
  },
  {
   "cell_type": "code",
   "execution_count": 71,
   "id": "5f12615c-e848-4b17-bd3c-502c1d8e3672",
   "metadata": {},
   "outputs": [],
   "source": [
    "benign = pd.read_csv('benign.csv')[['IN_PACKETS', 'IN_OCTETS', 'TCP_FLAGS', 'PROTO']]\n",
    "benign = scaler.transform(benign.rename(columns={'IN_PACKETS': 'IN_PKTS', 'IN_OCTETS': 'IN_BYTES', 'TCP_FLAGS': 'TCP_FLAGS', 'PROTO': 'PROTOCOL'}))\n",
    "\n",
    "ddos = pd.read_csv('hping3-2.csv')[['IN_PACKETS', 'IN_OCTETS', 'TCP_FLAGS', 'PROTO']]\n",
    "ddos = scaler.transform(ddos.rename(columns={'IN_PACKETS': 'IN_PKTS', 'IN_OCTETS': 'IN_BYTES', 'TCP_FLAGS': 'TCP_FLAGS', 'PROTO': 'PROTOCOL'}))"
   ]
  },
  {
   "cell_type": "code",
   "execution_count": 72,
   "id": "5516e9d5-6e37-4160-8cec-4b30736b262b",
   "metadata": {},
   "outputs": [],
   "source": [
    "val_added = np.concatenate((x_val['NF-UNSW-NB15-V2'][0], benign), axis=0)\n",
    "val_added = np.concatenate((val_added, ddos), axis=0)"
   ]
  },
  {
   "cell_type": "code",
   "execution_count": 77,
   "id": "e5770337-ec62-45e4-85b0-250f8e8f2539",
   "metadata": {},
   "outputs": [],
   "source": [
    "add_0 = np.zeros(benign.shape[0])\n",
    "add_1 = np.ones(ddos.shape[0])\n",
    "val_Y_add = np.concatenate((x_val['NF-UNSW-NB15-V2'][1], add_0), axis=0)\n",
    "val_Y_add = np.concatenate((val_Y_add, add_1), axis=0)"
   ]
  },
  {
   "cell_type": "code",
   "execution_count": 98,
   "id": "c9919b0b-dfac-4515-b5b9-6990be3e47bb",
   "metadata": {},
   "outputs": [
    {
     "data": {
      "text/plain": [
       "((518640, 4), (518640,))"
      ]
     },
     "execution_count": 98,
     "metadata": {},
     "output_type": "execute_result"
    }
   ],
   "source": [
    "val_added.shape, val_Y_add.shape"
   ]
  },
  {
   "cell_type": "code",
   "execution_count": null,
   "id": "1531ccb1-78c7-486a-9dc4-48769bb1e226",
   "metadata": {},
   "outputs": [],
   "source": []
  },
  {
   "cell_type": "code",
   "execution_count": 112,
   "id": "35a1308f-907d-4a26-afa9-5d2f25852ddb",
   "metadata": {},
   "outputs": [
    {
     "data": {
      "text/plain": [
       "<catboost.core.CatBoostClassifier at 0x7f1fa4030b80>"
      ]
     },
     "execution_count": 112,
     "metadata": {},
     "output_type": "execute_result"
    }
   ],
   "source": [
    "clf = CatBoostClassifier(random_seed=42, depth=4, custom_metric=['AUC'], iterations=1000, learning_rate=0.2, subsample=0.95, bootstrap_type='Bernoulli')\n",
    "clf.fit(val_added, val_Y_add, verbose = False, early_stopping_rounds=100) "
   ]
  },
  {
   "cell_type": "code",
   "execution_count": 113,
   "id": "60164c43-504b-4dd2-8490-9ac4f3c686e1",
   "metadata": {},
   "outputs": [
    {
     "data": {
      "text/plain": [
       "0.9925059281463917"
      ]
     },
     "execution_count": 113,
     "metadata": {},
     "output_type": "execute_result"
    }
   ],
   "source": [
    "accuracy_score(x_test['NF-UNSW-NB15-V2'][1], clf.predict(x_test['NF-UNSW-NB15-V2'][0]))"
   ]
  },
  {
   "cell_type": "code",
   "execution_count": 104,
   "id": "ece4deec-9c88-43e4-b8e4-976f4af47135",
   "metadata": {},
   "outputs": [
    {
     "data": {
      "text/plain": [
       "<catboost.core.CatBoostClassifier at 0x7f1fa4030250>"
      ]
     },
     "execution_count": 104,
     "metadata": {},
     "output_type": "execute_result"
    }
   ],
   "source": [
    "clf = CatBoostClassifier(random_seed=42, depth=4, custom_metric=['AUC'], iterations=1000, learning_rate=0.2, subsample=0.95, bootstrap_type='Bernoulli')\n",
    "clf.fit(x_val['NF-UNSW-NB15-V2'][0], x_val['NF-UNSW-NB15-V2'][1], verbose = False, early_stopping_rounds=100) "
   ]
  },
  {
   "cell_type": "code",
   "execution_count": 109,
   "id": "5a1f6f7c-2738-4203-a292-390d9a7d2a97",
   "metadata": {},
   "outputs": [
    {
     "data": {
      "text/plain": [
       "0.9613887521811104"
      ]
     },
     "execution_count": 109,
     "metadata": {},
     "output_type": "execute_result"
    }
   ],
   "source": [
    "accuracy_score(x_test['NF-UNSW-NB15-V2'][1], clf.predict(x_test['NF-UNSW-NB15-V2'][0]))"
   ]
  },
  {
   "cell_type": "code",
   "execution_count": null,
   "id": "e9a39f02-2f9a-40f5-9426-ec2677f59981",
   "metadata": {},
   "outputs": [],
   "source": []
  },
  {
   "cell_type": "code",
   "execution_count": 99,
   "id": "0498a24a-ee1d-41fe-80f8-49c0eec021df",
   "metadata": {},
   "outputs": [],
   "source": [
    "gathered = np.concatenate((benign, ddos), axis=0)"
   ]
  },
  {
   "cell_type": "code",
   "execution_count": 100,
   "id": "23538e21-577f-4742-ae32-5b136c5e472d",
   "metadata": {},
   "outputs": [],
   "source": [
    "gathered_y = np.concatenate((add_0, add_1), axis=0)"
   ]
  },
  {
   "cell_type": "code",
   "execution_count": 108,
   "id": "02b1deef-a843-4e85-9abb-ba00ba84e27b",
   "metadata": {},
   "outputs": [
    {
     "data": {
      "text/plain": [
       "<catboost.core.CatBoostClassifier at 0x7f1fa40301c0>"
      ]
     },
     "execution_count": 108,
     "metadata": {},
     "output_type": "execute_result"
    }
   ],
   "source": [
    "clf = CatBoostClassifier(random_seed=42, depth=4, custom_metric=['AUC'], iterations=1000, learning_rate=0.2, subsample=0.95, bootstrap_type='Bernoulli')\n",
    "clf.fit(gathered, gathered_y, verbose = False, early_stopping_rounds=100) "
   ]
  },
  {
   "cell_type": "code",
   "execution_count": null,
   "id": "1f6cc7da-6aa4-4d8b-8fd2-090ef2b2057e",
   "metadata": {},
   "outputs": [],
   "source": []
  },
  {
   "cell_type": "code",
   "execution_count": 140,
   "id": "af18954c-eea6-4733-babd-6de79361ff71",
   "metadata": {},
   "outputs": [],
   "source": [
    "half_nfq_mask = np.concatenate((x_val['NF-UNSW-NB15-V2'][0], np.zeros(x_val['NF-UNSW-NB15-V2'][0].shape[0]).reshape((x_val['NF-UNSW-NB15-V2'][0].shape[0], 1))), axis=1) "
   ]
  },
  {
   "cell_type": "code",
   "execution_count": 141,
   "id": "75af0776-4f9d-41e6-9d18-2344557d76a5",
   "metadata": {},
   "outputs": [],
   "source": [
    "half_self_mask = np.concatenate((benign, ddos), axis=0)"
   ]
  },
  {
   "cell_type": "code",
   "execution_count": 143,
   "id": "120973b2-fe2b-4153-8783-8eda2e7248d1",
   "metadata": {},
   "outputs": [
    {
     "data": {
      "text/plain": [
       "array([[1.85425552e-04, 7.41386509e-05, 0.00000000e+00, 1.22137405e-01],\n",
       "       [1.85425552e-04, 1.08505726e-04, 0.00000000e+00, 1.22137405e-01],\n",
       "       [3.70851103e-04, 1.85554493e-04, 0.00000000e+00, 1.22137405e-01],\n",
       "       ...,\n",
       "       [0.00000000e+00, 9.14607656e-06, 0.00000000e+00, 1.22137405e-01],\n",
       "       [0.00000000e+00, 9.14607656e-06, 0.00000000e+00, 1.22137405e-01],\n",
       "       [0.00000000e+00, 9.14607656e-06, 0.00000000e+00, 1.22137405e-01]])"
      ]
     },
     "execution_count": 143,
     "metadata": {},
     "output_type": "execute_result"
    }
   ],
   "source": [
    "half_self_mask"
   ]
  },
  {
   "cell_type": "code",
   "execution_count": 145,
   "id": "e83b4730-f538-4f29-be2a-ea260d8fe446",
   "metadata": {},
   "outputs": [],
   "source": [
    "half_self_mask = np.concatenate((half_self_mask, np.ones(half_self_mask.shape[0]).reshape((half_self_mask.shape[0], 1))), axis=1) "
   ]
  },
  {
   "cell_type": "code",
   "execution_count": 146,
   "id": "b0f20e98-c490-43c8-a41c-4dd0d48f9dc9",
   "metadata": {},
   "outputs": [
    {
     "data": {
      "text/plain": [
       "array([[1.85425552e-04, 7.41386509e-05, 0.00000000e+00, 1.22137405e-01,\n",
       "        1.00000000e+00],\n",
       "       [1.85425552e-04, 1.08505726e-04, 0.00000000e+00, 1.22137405e-01,\n",
       "        1.00000000e+00],\n",
       "       [3.70851103e-04, 1.85554493e-04, 0.00000000e+00, 1.22137405e-01,\n",
       "        1.00000000e+00],\n",
       "       ...,\n",
       "       [0.00000000e+00, 9.14607656e-06, 0.00000000e+00, 1.22137405e-01,\n",
       "        1.00000000e+00],\n",
       "       [0.00000000e+00, 9.14607656e-06, 0.00000000e+00, 1.22137405e-01,\n",
       "        1.00000000e+00],\n",
       "       [0.00000000e+00, 9.14607656e-06, 0.00000000e+00, 1.22137405e-01,\n",
       "        1.00000000e+00]])"
      ]
     },
     "execution_count": 146,
     "metadata": {},
     "output_type": "execute_result"
    }
   ],
   "source": [
    "half_self_mask"
   ]
  },
  {
   "cell_type": "code",
   "execution_count": null,
   "id": "84f759fc-3c07-4461-842e-15dd382b1b38",
   "metadata": {},
   "outputs": [],
   "source": []
  },
  {
   "cell_type": "code",
   "execution_count": 148,
   "id": "3790afeb-1ff0-4cb9-8375-f117b775c50a",
   "metadata": {},
   "outputs": [],
   "source": [
    "masked_data = np.concatenate((half_nfq_mask, half_self_mask), axis=0)"
   ]
  },
  {
   "cell_type": "code",
   "execution_count": 149,
   "id": "b5dddc24-b6d9-4170-8ddb-57b9b19e7df2",
   "metadata": {},
   "outputs": [
    {
     "data": {
      "text/plain": [
       "(518640, 5)"
      ]
     },
     "execution_count": 149,
     "metadata": {},
     "output_type": "execute_result"
    }
   ],
   "source": [
    "masked_data.shape"
   ]
  },
  {
   "cell_type": "code",
   "execution_count": 150,
   "id": "70a9f827-558a-4aeb-805d-a9f719e51968",
   "metadata": {},
   "outputs": [
    {
     "data": {
      "text/plain": [
       "(518640,)"
      ]
     },
     "execution_count": 150,
     "metadata": {},
     "output_type": "execute_result"
    }
   ],
   "source": [
    "val_Y_add.shape"
   ]
  },
  {
   "cell_type": "code",
   "execution_count": 155,
   "id": "6079b77c-e1de-4f2c-bb6c-c7d2a5b616ca",
   "metadata": {},
   "outputs": [
    {
     "data": {
      "text/plain": [
       "<catboost.core.CatBoostClassifier at 0x7f1fa40302e0>"
      ]
     },
     "execution_count": 155,
     "metadata": {},
     "output_type": "execute_result"
    }
   ],
   "source": [
    "clf = CatBoostClassifier(random_seed=42, depth=4, custom_metric=['AUC'], iterations=1000, learning_rate=0.2, subsample=0.95, bootstrap_type='Bernoulli')\n",
    "clf.fit(masked_data, val_Y_add, verbose = False, early_stopping_rounds=100) "
   ]
  },
  {
   "cell_type": "code",
   "execution_count": 156,
   "id": "8c7a8a26-7833-4e4a-a778-d8b4ec297e60",
   "metadata": {},
   "outputs": [],
   "source": [
    "test_nfq_masked = np.concatenate((x_test['NF-UNSW-NB15-V2'][0], np.zeros(x_test['NF-UNSW-NB15-V2'][0].shape[0]).reshape((x_test['NF-UNSW-NB15-V2'][0].shape[0], 1))), axis=1) "
   ]
  },
  {
   "cell_type": "code",
   "execution_count": 157,
   "id": "347a8b93-9845-435c-b6f7-8465014d5b11",
   "metadata": {},
   "outputs": [
    {
     "data": {
      "text/plain": [
       "0.9929421502393629"
      ]
     },
     "execution_count": 157,
     "metadata": {},
     "output_type": "execute_result"
    }
   ],
   "source": [
    "accuracy_score(x_test['NF-UNSW-NB15-V2'][1], clf.predict(test_nfq_masked))"
   ]
  },
  {
   "cell_type": "code",
   "execution_count": 154,
   "id": "ce5c3c6b-0fff-43c3-af12-29bb5543363f",
   "metadata": {},
   "outputs": [
    {
     "data": {
      "text/plain": [
       "(506620, 5)"
      ]
     },
     "execution_count": 154,
     "metadata": {},
     "output_type": "execute_result"
    }
   ],
   "source": [
    "half_nfq_mask.shape"
   ]
  },
  {
   "cell_type": "code",
   "execution_count": null,
   "id": "4127de75-cc58-4c93-8b39-35d0c920c103",
   "metadata": {},
   "outputs": [],
   "source": []
  },
  {
   "cell_type": "code",
   "execution_count": 158,
   "id": "eceda64f-bd6a-448c-8df5-011fb22359f7",
   "metadata": {},
   "outputs": [],
   "source": [
    "test_df = pd.read_csv('gathered_newer.csv')[['IN_PACKETS', 'IN_OCTETS', 'TCP_FLAGS', 'PROTO']]"
   ]
  },
  {
   "cell_type": "code",
   "execution_count": 159,
   "id": "e72eac14-5d37-418a-ac11-cc78577fd5d8",
   "metadata": {},
   "outputs": [],
   "source": [
    "test_df = scaler.transform(test_df.rename(columns={'IN_PACKETS': 'IN_PKTS', 'IN_OCTETS': 'IN_BYTES', 'TCP_FLAGS': 'TCP_FLAGS', 'PROTO': 'PROTOCOL'}))"
   ]
  },
  {
   "cell_type": "code",
   "execution_count": 161,
   "id": "209feccb-b732-4e08-8f10-75cd27d47be8",
   "metadata": {},
   "outputs": [],
   "source": [
    "test_df_masked = np.concatenate((test_df, np.ones(test_df.shape[0]).reshape((test_df.shape[0], 1))), axis=1) "
   ]
  },
  {
   "cell_type": "code",
   "execution_count": 163,
   "id": "fa0c6c25-1851-4baf-b501-c427677db92c",
   "metadata": {},
   "outputs": [
    {
     "data": {
      "text/plain": [
       "1717"
      ]
     },
     "execution_count": 163,
     "metadata": {},
     "output_type": "execute_result"
    }
   ],
   "source": [
    "sum(clf.predict(test_df_masked) == 0)"
   ]
  },
  {
   "cell_type": "code",
   "execution_count": 164,
   "id": "9fcf395e-ba7e-4143-876b-14a953e71ddf",
   "metadata": {},
   "outputs": [
    {
     "data": {
      "text/plain": [
       "7"
      ]
     },
     "execution_count": 164,
     "metadata": {},
     "output_type": "execute_result"
    }
   ],
   "source": [
    "sum(clf.predict(test_df_masked) == 1)"
   ]
  },
  {
   "cell_type": "code",
   "execution_count": null,
   "id": "6071f2b7-e444-4b1c-8b8d-08656672e0b0",
   "metadata": {},
   "outputs": [],
   "source": []
  },
  {
   "cell_type": "code",
   "execution_count": null,
   "id": "61fbe401-a4bc-45cf-a971-ef51b4efb8c0",
   "metadata": {},
   "outputs": [],
   "source": []
  },
  {
   "cell_type": "code",
   "execution_count": null,
   "id": "edf44f6f-7db8-4835-a6f2-8c4e7a2d51e8",
   "metadata": {},
   "outputs": [],
   "source": []
  }
 ],
 "metadata": {
  "kernelspec": {
   "display_name": "Python 3 (ipykernel)",
   "language": "python",
   "name": "python3"
  },
  "language_info": {
   "codemirror_mode": {
    "name": "ipython",
    "version": 3
   },
   "file_extension": ".py",
   "mimetype": "text/x-python",
   "name": "python",
   "nbconvert_exporter": "python",
   "pygments_lexer": "ipython3",
   "version": "3.9.13"
  }
 },
 "nbformat": 4,
 "nbformat_minor": 5
}
