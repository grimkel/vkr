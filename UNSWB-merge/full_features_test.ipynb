{
 "cells": [
  {
   "cell_type": "code",
   "execution_count": 1,
   "id": "f0c86459-50d7-42f8-aace-5af60a6719da",
   "metadata": {},
   "outputs": [],
   "source": [
    "import pandas as pd\n",
    "from tqdm import tqdm\n",
    "from pyarrow import csv\n",
    "import pyarrow as pa\n",
    "\n",
    "import torch\n",
    "import torch.nn as nn\n",
    "import torch.optim as optim\n",
    "from torch.utils.data import Dataset, DataLoader\n",
    "\n",
    "import matplotlib.pyplot as plt\n",
    "import plotly.graph_objects as go\n",
    "\n",
    "from catboost import CatBoostClassifier\n",
    "from sklearn.manifold import TSNE\n",
    "from sklearn.discriminant_analysis import LinearDiscriminantAnalysis as LDA\n",
    "from sklearn.preprocessing import StandardScaler,MinMaxScaler\n",
    "from sklearn.preprocessing import OneHotEncoder\n",
    "\n",
    "import numpy as np # linear algebra\n",
    "import pandas as pd # data processing, CSV file I/O (e.g. pd.read_csv)\n",
    "import gc\n",
    "from sklearn.model_selection import train_test_split\n",
    "from sklearn.preprocessing import QuantileTransformer, MinMaxScaler, StandardScaler\n",
    "from sklearn.metrics import auc, accuracy_score, precision_score, recall_score, roc_curve, precision_recall_curve"
   ]
  },
  {
   "cell_type": "code",
   "execution_count": 2,
   "id": "ba6150bc-d9a6-41a3-8273-777ff562aa32",
   "metadata": {},
   "outputs": [],
   "source": [
    "datasets = {\n",
    "    'NF-UNSW-NB15-V2' : './NF-UNSW-NB15-V2.parquet',\n",
    "}\n",
    "\n",
    "features_to_remove = ['L4_SRC_PORT', 'L4_DST_PORT', 'Attack', 'Label']\n",
    "\n",
    "scaler = MinMaxScaler()\n",
    "\n",
    "x_train = {}\n",
    "x_val = {}\n",
    "x_test = {}"
   ]
  },
  {
   "cell_type": "code",
   "execution_count": 3,
   "id": "0b60b0e3-b27f-4b5b-9b42-acb235e0b55c",
   "metadata": {},
   "outputs": [
    {
     "name": "stdout",
     "output_type": "stream",
     "text": [
      "Processing NF-UNSW-NB15-V2\n",
      "====================\n",
      "\n",
      "\n",
      "Finished processing data sources.\n",
      "\n"
     ]
    }
   ],
   "source": [
    "for key, value in datasets.items():\n",
    "    print(f'Processing {key}')\n",
    "    print('='*20 + '\\n')\n",
    "    df = pd.read_parquet(value)\n",
    "    Y = df.Label\n",
    "    X_train, X_test, y_train, y_val = train_test_split(df, Y, test_size=0.3,stratify=df.Attack, random_state=42)\n",
    "    del df\n",
    "    del Y\n",
    "    gc.collect()\n",
    "    X_val, X_test, y_val, y_test = train_test_split(X_test, X_test.Label, test_size=0.15, stratify=X_test.Attack, random_state=42)\n",
    "    X_train = X_train[X_train.Label==0].drop(columns=features_to_remove, axis=1)\n",
    "    X_val.drop(columns=features_to_remove, axis=1, inplace=True)\n",
    "    X_test.drop(columns=features_to_remove, axis=1, inplace=True)\n",
    "    x_train[key] = scaler.fit_transform(X_train)\n",
    "    x_val[key] = (scaler.transform(X_val), y_val)\n",
    "    x_test[key] = (scaler.transform(X_test), y_test)\n",
    "    del X_train\n",
    "    del X_val\n",
    "    del X_test\n",
    "    gc.collect()\n",
    "print()\n",
    "print('Finished processing data sources.\\n')"
   ]
  },
  {
   "cell_type": "code",
   "execution_count": 4,
   "id": "34900567-e7da-47bd-8a54-b90708be82f7",
   "metadata": {},
   "outputs": [],
   "source": [
    "del x_train"
   ]
  },
  {
   "cell_type": "code",
   "execution_count": 5,
   "id": "0ee9e8d4-cce8-414b-8f60-07845c05edd7",
   "metadata": {},
   "outputs": [],
   "source": [
    "test_nf_x, test_nf_y = x_test['NF-UNSW-NB15-V2']\n",
    "train_nf_x, train_nf_y = x_val['NF-UNSW-NB15-V2'] "
   ]
  },
  {
   "cell_type": "code",
   "execution_count": 6,
   "id": "d2ba7a97-ae29-4e7d-b800-5b833cc64a02",
   "metadata": {},
   "outputs": [
    {
     "data": {
      "text/plain": [
       "(array([[3.81679389e-02, 0.00000000e+00, 5.86180361e-05, ...,\n",
       "         0.00000000e+00, 0.00000000e+00, 0.00000000e+00],\n",
       "        [3.81679389e-02, 0.00000000e+00, 3.66535947e-04, ...,\n",
       "         0.00000000e+00, 0.00000000e+00, 0.00000000e+00],\n",
       "        [3.81679389e-02, 0.00000000e+00, 4.59105328e-04, ...,\n",
       "         0.00000000e+00, 0.00000000e+00, 0.00000000e+00],\n",
       "        ...,\n",
       "        [3.81679389e-02, 2.85714286e-02, 2.54551940e-03, ...,\n",
       "         0.00000000e+00, 0.00000000e+00, 0.00000000e+00],\n",
       "        [3.81679389e-02, 0.00000000e+00, 1.43427110e-04, ...,\n",
       "         0.00000000e+00, 0.00000000e+00, 0.00000000e+00],\n",
       "        [3.81679389e-02, 0.00000000e+00, 4.14206407e-04, ...,\n",
       "         0.00000000e+00, 0.00000000e+00, 0.00000000e+00]]),\n",
       " 267949     0\n",
       " 1390945    0\n",
       " 1575231    0\n",
       " 1699375    0\n",
       " 975300     0\n",
       "           ..\n",
       " 1010601    0\n",
       " 1313539    0\n",
       " 1427466    0\n",
       " 533840     0\n",
       " 665744     0\n",
       " Name: Label, Length: 89404, dtype: int8)"
      ]
     },
     "execution_count": 6,
     "metadata": {},
     "output_type": "execute_result"
    }
   ],
   "source": [
    "test_nf_x, test_nf_y"
   ]
  },
  {
   "cell_type": "code",
   "execution_count": 7,
   "id": "096ebe46-09bd-444a-8d73-18aa010a17c4",
   "metadata": {},
   "outputs": [],
   "source": [
    "def mask(df, value):\n",
    "    mask_row = np.array(([np.array([value])] * df.shape[0]))\n",
    "    df = np.concatenate((df, mask_row), axis=1)\n",
    "    return df\n",
    "\n",
    "def prep_data(df, value, pad_col, scaler):\n",
    "    padding_row = np.array(([0] * (pad_col - df.shape[1])))\n",
    "    padding = np.array([padding_row] * df.shape[0])\n",
    "    \n",
    "    padded_df = np.concatenate((df, padding), axis=1)\n",
    "    padded_df = scaler.transform(padded_df)\n",
    "    \n",
    "    mask_row = np.array(([np.array([value])] * df.shape[0]))\n",
    "    padded_df = np.concatenate((padded_df, mask_row), axis=1)\n",
    "    return padded_df"
   ]
  },
  {
   "cell_type": "code",
   "execution_count": null,
   "id": "23a245b5-5fd5-49ff-b81a-21a7a4d067ef",
   "metadata": {},
   "outputs": [],
   "source": []
  },
  {
   "cell_type": "code",
   "execution_count": 8,
   "id": "eedd031f-01ef-42dc-853b-5ca4784a102e",
   "metadata": {},
   "outputs": [
    {
     "name": "stderr",
     "output_type": "stream",
     "text": [
      "/home/nexei/anaconda3/lib/python3.9/site-packages/sklearn/base.py:450: UserWarning: X does not have valid feature names, but MinMaxScaler was fitted with feature names\n",
      "  warnings.warn(\n",
      "/home/nexei/anaconda3/lib/python3.9/site-packages/sklearn/base.py:450: UserWarning: X does not have valid feature names, but MinMaxScaler was fitted with feature names\n",
      "  warnings.warn(\n"
     ]
    }
   ],
   "source": [
    "benign = pd.read_csv('benign.csv')[['IN_PACKETS', 'IN_OCTETS', 'TCP_FLAGS', 'PROTO']]\n",
    "benign = benign.rename(columns={'IN_PACKETS': 'IN_PKTS', 'IN_OCTETS': 'IN_BYTES', 'TCP_FLAGS': 'TCP_FLAGS', 'PROTO': 'PROTOCOL'})\n",
    "benign = prep_data(benign, 1, test_nf_x.shape[1], scaler)\n",
    "\n",
    "ddos = pd.read_csv('hping3-2.csv')[['IN_PACKETS', 'IN_OCTETS', 'TCP_FLAGS', 'PROTO']]\n",
    "ddos = ddos.rename(columns={'IN_PACKETS': 'IN_PKTS', 'IN_OCTETS': 'IN_BYTES', 'TCP_FLAGS': 'TCP_FLAGS', 'PROTO': 'PROTOCOL'})\n",
    "ddos = prep_data(ddos, 1, test_nf_x.shape[1], scaler)"
   ]
  },
  {
   "cell_type": "code",
   "execution_count": 9,
   "id": "daeda263-1fa0-4e51-8d23-1ff255497611",
   "metadata": {},
   "outputs": [],
   "source": [
    "gathered = np.concatenate((benign, ddos), axis=0)"
   ]
  },
  {
   "cell_type": "code",
   "execution_count": 10,
   "id": "061338c4-4d4d-4a2b-a77a-9127b358f4a9",
   "metadata": {},
   "outputs": [],
   "source": [
    "gathered_y = np.concatenate((np.zeros(benign.shape[0]), np.ones(ddos.shape[0])), axis=0)"
   ]
  },
  {
   "cell_type": "code",
   "execution_count": 11,
   "id": "23360fd6-c9d7-4c70-af60-d5de68282a79",
   "metadata": {},
   "outputs": [],
   "source": [
    "data_train_x = np.concatenate((mask(train_nf_x, 0), gathered), axis=0)\n",
    "data_train_y = np.concatenate((train_nf_y, gathered_y), axis=0)"
   ]
  },
  {
   "cell_type": "code",
   "execution_count": 12,
   "id": "4ac6bff7-9ced-4ac2-8bdb-5768a66e12dd",
   "metadata": {},
   "outputs": [
    {
     "data": {
      "text/plain": [
       "(518640, 40)"
      ]
     },
     "execution_count": 12,
     "metadata": {},
     "output_type": "execute_result"
    }
   ],
   "source": [
    "data_train_x.shape"
   ]
  },
  {
   "cell_type": "code",
   "execution_count": 13,
   "id": "4aeacf9d-7b05-4053-9b66-e0fb8d51c04e",
   "metadata": {},
   "outputs": [
    {
     "data": {
      "text/plain": [
       "(518640,)"
      ]
     },
     "execution_count": 13,
     "metadata": {},
     "output_type": "execute_result"
    }
   ],
   "source": [
    "data_train_y.shape"
   ]
  },
  {
   "cell_type": "code",
   "execution_count": 14,
   "id": "bc7028de-d105-4de3-87de-95316880623e",
   "metadata": {},
   "outputs": [
    {
     "data": {
      "text/plain": [
       "<catboost.core.CatBoostClassifier at 0x7f5f72acbb50>"
      ]
     },
     "execution_count": 14,
     "metadata": {},
     "output_type": "execute_result"
    }
   ],
   "source": [
    "clf = CatBoostClassifier(random_seed=42, depth=4, custom_metric=['AUC'], iterations=1000, learning_rate=0.2, subsample=0.95, bootstrap_type='Bernoulli')\n",
    "clf.fit(data_train_x, data_train_y, verbose = False, early_stopping_rounds=100) "
   ]
  },
  {
   "cell_type": "code",
   "execution_count": 15,
   "id": "966c679d-1a4b-437c-b769-b063ffced8e9",
   "metadata": {},
   "outputs": [
    {
     "data": {
      "text/plain": [
       "0.9966108898930697"
      ]
     },
     "execution_count": 15,
     "metadata": {},
     "output_type": "execute_result"
    }
   ],
   "source": [
    "accuracy_score(test_nf_y, clf.predict(mask(test_nf_x, 0)))"
   ]
  },
  {
   "cell_type": "code",
   "execution_count": 16,
   "id": "9c0643f4-74c7-42a5-98f7-54a36b1c9ec6",
   "metadata": {},
   "outputs": [
    {
     "name": "stderr",
     "output_type": "stream",
     "text": [
      "/home/nexei/anaconda3/lib/python3.9/site-packages/sklearn/base.py:450: UserWarning: X does not have valid feature names, but MinMaxScaler was fitted with feature names\n",
      "  warnings.warn(\n"
     ]
    }
   ],
   "source": [
    "test_benign = pd.read_csv('gathered_newer.csv')[['IN_PACKETS', 'IN_OCTETS', 'TCP_FLAGS', 'PROTO']]\n",
    "test_benign = test_benign.rename(columns={'IN_PACKETS': 'IN_PKTS', 'IN_OCTETS': 'IN_BYTES', 'TCP_FLAGS': 'TCP_FLAGS', 'PROTO': 'PROTOCOL'})\n",
    "test_benign = prep_data(test_benign, 1, test_nf_x.shape[1], scaler)"
   ]
  },
  {
   "cell_type": "code",
   "execution_count": 17,
   "id": "59b4dd19-8554-43ef-8d55-d3b8dc409996",
   "metadata": {},
   "outputs": [
    {
     "data": {
      "text/plain": [
       "1689"
      ]
     },
     "execution_count": 17,
     "metadata": {},
     "output_type": "execute_result"
    }
   ],
   "source": [
    "sum(clf.predict(test_benign) == 0)"
   ]
  },
  {
   "cell_type": "code",
   "execution_count": 18,
   "id": "262ab0dd-28b2-47ec-b0af-e23e019bd760",
   "metadata": {},
   "outputs": [
    {
     "data": {
      "text/plain": [
       "35"
      ]
     },
     "execution_count": 18,
     "metadata": {},
     "output_type": "execute_result"
    }
   ],
   "source": [
    "sum(clf.predict(test_benign) == 1)"
   ]
  },
  {
   "cell_type": "code",
   "execution_count": 19,
   "id": "71182571-3a2a-41a9-8aff-d3ee57820a1e",
   "metadata": {},
   "outputs": [
    {
     "name": "stderr",
     "output_type": "stream",
     "text": [
      "/home/nexei/anaconda3/lib/python3.9/site-packages/sklearn/base.py:450: UserWarning: X does not have valid feature names, but MinMaxScaler was fitted with feature names\n",
      "  warnings.warn(\n"
     ]
    }
   ],
   "source": [
    "test_ddos = pd.read_csv('hping3-1.csv')[['IN_PACKETS', 'IN_OCTETS', 'TCP_FLAGS', 'PROTO']]\n",
    "test_ddos = test_ddos.rename(columns={'IN_PACKETS': 'IN_PKTS', 'IN_OCTETS': 'IN_BYTES', 'TCP_FLAGS': 'TCP_FLAGS', 'PROTO': 'PROTOCOL'})\n",
    "test_ddos = prep_data(test_ddos, 1, test_nf_x.shape[1], scaler)"
   ]
  },
  {
   "cell_type": "code",
   "execution_count": 20,
   "id": "6b72ab92-c5d5-411f-9ee3-cfe5e74a1c12",
   "metadata": {},
   "outputs": [
    {
     "data": {
      "text/plain": [
       "109"
      ]
     },
     "execution_count": 20,
     "metadata": {},
     "output_type": "execute_result"
    }
   ],
   "source": [
    "sum(clf.predict(test_ddos) == 0)"
   ]
  },
  {
   "cell_type": "code",
   "execution_count": 21,
   "id": "fb7212ff-c345-4959-961f-484163aaa48a",
   "metadata": {},
   "outputs": [
    {
     "data": {
      "text/plain": [
       "833"
      ]
     },
     "execution_count": 21,
     "metadata": {},
     "output_type": "execute_result"
    }
   ],
   "source": [
    "sum(clf.predict(test_ddos) == 1)"
   ]
  },
  {
   "cell_type": "code",
   "execution_count": 22,
   "id": "5237ef50-01e4-472e-933f-878c261042dd",
   "metadata": {},
   "outputs": [
    {
     "data": {
      "text/plain": [
       "<catboost.core.CatBoostClassifier at 0x7f5e700b85e0>"
      ]
     },
     "execution_count": 22,
     "metadata": {},
     "output_type": "execute_result"
    }
   ],
   "source": [
    "clf = CatBoostClassifier(random_seed=42, depth=4, custom_metric=['AUC'], iterations=1000, learning_rate=0.2, subsample=0.95, bootstrap_type='Bernoulli')\n",
    "clf.fit(train_nf_x, train_nf_y, verbose = False, early_stopping_rounds=100) "
   ]
  },
  {
   "cell_type": "code",
   "execution_count": 23,
   "id": "1e302d69-08ed-4715-a85f-b0369dd5b268",
   "metadata": {},
   "outputs": [
    {
     "data": {
      "text/plain": [
       "0.9967003713480381"
      ]
     },
     "execution_count": 23,
     "metadata": {},
     "output_type": "execute_result"
    }
   ],
   "source": [
    "accuracy_score(test_nf_y, clf.predict(test_nf_x))"
   ]
  },
  {
   "cell_type": "code",
   "execution_count": null,
   "id": "3043bb2f-2510-4d56-a87b-72d35555dbbc",
   "metadata": {},
   "outputs": [],
   "source": []
  }
 ],
 "metadata": {
  "kernelspec": {
   "display_name": "Python 3 (ipykernel)",
   "language": "python",
   "name": "python3"
  },
  "language_info": {
   "codemirror_mode": {
    "name": "ipython",
    "version": 3
   },
   "file_extension": ".py",
   "mimetype": "text/x-python",
   "name": "python",
   "nbconvert_exporter": "python",
   "pygments_lexer": "ipython3",
   "version": "3.9.13"
  }
 },
 "nbformat": 4,
 "nbformat_minor": 5
}
