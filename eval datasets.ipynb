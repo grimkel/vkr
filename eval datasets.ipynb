{
 "cells": [
  {
   "cell_type": "code",
   "execution_count": 1,
   "id": "783b0b4e-ab9b-4e91-8fda-fda503625968",
   "metadata": {},
   "outputs": [],
   "source": [
    "import pandas as pd\n",
    "from tqdm import tqdm\n",
    "from pyarrow import csv\n",
    "import pyarrow as pa\n",
    "\n",
    "import torch\n",
    "import torch.nn as nn\n",
    "import torch.optim as optim\n",
    "from torch.utils.data import Dataset, DataLoader\n",
    "\n",
    "import matplotlib.pyplot as plt\n",
    "import plotly.graph_objects as go\n",
    "\n",
    "from catboost import CatBoostClassifier\n",
    "from sklearn.manifold import TSNE\n",
    "from sklearn.discriminant_analysis import LinearDiscriminantAnalysis as LDA\n",
    "from sklearn.preprocessing import StandardScaler,MinMaxScaler\n",
    "from sklearn.preprocessing import OneHotEncoder\n",
    "\n",
    "import numpy as np # linear algebra\n",
    "import pandas as pd # data processing, CSV file I/O (e.g. pd.read_csv)\n",
    "import gc\n",
    "from sklearn.model_selection import train_test_split\n",
    "from sklearn.preprocessing import QuantileTransformer, MinMaxScaler, StandardScaler\n",
    "from sklearn.metrics import auc, accuracy_score, precision_score, recall_score, roc_curve, precision_recall_curve"
   ]
  },
  {
   "cell_type": "code",
   "execution_count": 2,
   "id": "edfbb605-5500-4859-9871-133806628874",
   "metadata": {},
   "outputs": [],
   "source": [
    "def get_data(filename, scaler=None, useScaler=False):\n",
    "    df = pd.read_csv(filename)\n",
    "    Y = df.Label\n",
    "    df = df.drop(['Unnamed: 0', 'Label'], axis=1)\n",
    "\n",
    "    df['Attack'] = df['Attack'].astype(\"string\")\n",
    "\n",
    "    X_train, X_test, y_train, y_test = train_test_split(df, Y, test_size=0.3,stratify=df.Attack, random_state=42)\n",
    "    del df\n",
    "    del Y\n",
    "\n",
    "    attack_train = X_train['Attack']\n",
    "    X_train = X_train.drop('Attack', axis=1)\n",
    "    attack_test = X_test['Attack']\n",
    "    X_test = X_test.drop('Attack', axis=1)\n",
    "\n",
    "    X_train = X_train.drop(['SimillarHTTP'], axis=1)\n",
    "    X_train[X_train['Flow Bytes/s'] == np.inf] = 0\n",
    "    X_train[X_train[' Flow Packets/s'] == np.inf] = 0\n",
    "\n",
    "    X_test = X_test.drop(['SimillarHTTP'], axis=1)\n",
    "    X_test[X_test['Flow Bytes/s'] == np.inf] = 0\n",
    "    X_test[X_test[' Flow Packets/s'] == np.inf] = 0\n",
    "\n",
    "    \n",
    "    if useScaler:\n",
    "        X_train = scaler.transform(X_train)\n",
    "    else:\n",
    "        scaler = MinMaxScaler()\n",
    "        X_train = scaler.fit_transform(X_train)\n",
    "    X_test = scaler.transform(X_test)\n",
    "    return X_train, X_test, y_train, y_test, attack_train, attack_test, scaler"
   ]
  },
  {
   "cell_type": "code",
   "execution_count": 3,
   "id": "0c098e08-dcca-4d72-8a9a-034b9a37c491",
   "metadata": {},
   "outputs": [
    {
     "name": "stderr",
     "output_type": "stream",
     "text": [
      "/tmp/ipykernel_4278/3331398274.py:2: DtypeWarning: Columns (62,109) have mixed types. Specify dtype option on import or set low_memory=False.\n",
      "  df = pd.read_csv(filename)\n"
     ]
    }
   ],
   "source": [
    "X_train, X_test, y_train, y_test, attack_train, attack_test, scaler = get_data('triple.csv')"
   ]
  },
  {
   "cell_type": "code",
   "execution_count": 4,
   "id": "1e96798d-d3b7-4584-b1a7-fedccbc36537",
   "metadata": {},
   "outputs": [
    {
     "data": {
      "text/plain": [
       "1856763    0\n",
       "712274     0\n",
       "1483074    0\n",
       "101751     0\n",
       "1853696    0\n",
       "          ..\n",
       "2442436    0\n",
       "1149877    0\n",
       "675851     0\n",
       "876316     0\n",
       "1791289    0\n",
       "Name: Label, Length: 746167, dtype: int64"
      ]
     },
     "execution_count": 4,
     "metadata": {},
     "output_type": "execute_result"
    }
   ],
   "source": [
    "y_test"
   ]
  },
  {
   "cell_type": "code",
   "execution_count": 7,
   "id": "e4a951b6-7c8a-4046-88ba-06d02a416a01",
   "metadata": {},
   "outputs": [
    {
     "data": {
      "text/plain": [
       "<catboost.core.CatBoostClassifier at 0x7fcf1a0d9d90>"
      ]
     },
     "execution_count": 7,
     "metadata": {},
     "output_type": "execute_result"
    }
   ],
   "source": [
    "clf = CatBoostClassifier(random_seed=52, iterations=10)\n",
    "clf.fit(X_train, y_train, verbose = False, early_stopping_rounds=100) "
   ]
  },
  {
   "cell_type": "code",
   "execution_count": 8,
   "id": "81676e37-09de-42b8-93e6-eb3fb2724a02",
   "metadata": {},
   "outputs": [
    {
     "data": {
      "text/plain": [
       "0.9961630573316698"
      ]
     },
     "execution_count": 8,
     "metadata": {},
     "output_type": "execute_result"
    }
   ],
   "source": [
    "accuracy_score(y_test, clf.predict(X_test))"
   ]
  },
  {
   "cell_type": "code",
   "execution_count": 10,
   "id": "08099528-703a-4358-918b-efdba8a41a81",
   "metadata": {},
   "outputs": [],
   "source": [
    "from sklearn.metrics import confusion_matrix\n",
    "tn, fp, fn, tp = confusion_matrix(y_test, clf.predict(X_test)).ravel()"
   ]
  },
  {
   "cell_type": "code",
   "execution_count": 11,
   "id": "2cef8f83-18f5-40e8-8550-f1c4cf1356ca",
   "metadata": {},
   "outputs": [
    {
     "data": {
      "image/png": "[encoded data removed]",
      "text/plain": [
       "<Figure size 640x480 with 2 Axes>"
      ]
     },
     "metadata": {},
     "output_type": "display_data"
    }
   ],
   "source": [
    "import seaborn as sns\n",
    "import matplotlib.pyplot as plt     \n",
    "\n",
    "ax= plt.subplot()\n",
    "sns.heatmap([[tn, fp],[fn, tp]], annot=True, fmt='g', ax=ax);  #annot=True to annotate cells, ftm='g' to disable scientific notation\n",
    "\n",
    "# labels, title and ticks\n",
    "ax.set_xlabel('Predicted labels');ax.set_ylabel('True labels'); \n",
    "ax.set_title('Confusion Matrix'); \n",
    "ax.xaxis.set_ticklabels(['benign', 'malicious']); ax.yaxis.set_ticklabels(['benign', 'malicious']);"
   ]
  },
  {
   "cell_type": "code",
   "execution_count": 8,
   "id": "7510f459-f943-48cf-8273-cd50b58b47dd",
   "metadata": {},
   "outputs": [],
   "source": [
    "del X_train, y_train, attack_train"
   ]
  },
  {
   "cell_type": "code",
   "execution_count": 9,
   "id": "a992e67f-adbe-4f8f-9025-4dc1a35823c3",
   "metadata": {},
   "outputs": [
    {
     "name": "stderr",
     "output_type": "stream",
     "text": [
      "/tmp/ipykernel_34875/3331398274.py:2: DtypeWarning: Columns (62,109) have mixed types. Specify dtype option on import or set low_memory=False.\n",
      "  df = pd.read_csv(filename)\n"
     ]
    }
   ],
   "source": [
    "X_train, _, y_train, _, attack_train, _, _ = get_data('double.csv', scaler=scaler, useScaler=True)"
   ]
  },
  {
   "cell_type": "code",
   "execution_count": 10,
   "id": "6d4aa58e-1756-479f-bf3e-bfff60f15742",
   "metadata": {},
   "outputs": [
    {
     "data": {
      "text/plain": [
       "<catboost.core.CatBoostClassifier at 0x7f83ddc103d0>"
      ]
     },
     "execution_count": 10,
     "metadata": {},
     "output_type": "execute_result"
    }
   ],
   "source": [
    "clf = CatBoostClassifier(random_seed=42, depth=4, custom_metric=['AUC'], iterations=1000, learning_rate=0.2, subsample=0.95, bootstrap_type='Bernoulli')\n",
    "clf.fit(X_train, y_train, verbose = False, early_stopping_rounds=100) "
   ]
  },
  {
   "cell_type": "code",
   "execution_count": 11,
   "id": "0496043a-126f-4422-aeeb-0c27f45cbbb3",
   "metadata": {},
   "outputs": [
    {
     "data": {
      "text/plain": [
       "0.9611936738022453"
      ]
     },
     "execution_count": 11,
     "metadata": {},
     "output_type": "execute_result"
    }
   ],
   "source": [
    "accuracy_score(y_test, clf.predict(X_test))"
   ]
  },
  {
   "cell_type": "code",
   "execution_count": 12,
   "id": "97c556ed-bdd8-436d-997a-b4d9dacf6477",
   "metadata": {},
   "outputs": [],
   "source": [
    "del X_train, y_train, attack_train"
   ]
  },
  {
   "cell_type": "code",
   "execution_count": 13,
   "id": "d3b013bf-613e-4c0b-8829-129f1746179e",
   "metadata": {},
   "outputs": [],
   "source": [
    "X_train, _, y_train, _, attack_train, _, _ = get_data('single.csv', scaler=scaler, useScaler=True)"
   ]
  },
  {
   "cell_type": "code",
   "execution_count": 14,
   "id": "48ba325d-5b59-4229-be83-ce7c6fba1c1c",
   "metadata": {},
   "outputs": [
    {
     "data": {
      "text/plain": [
       "<catboost.core.CatBoostClassifier at 0x7f83ddc10130>"
      ]
     },
     "execution_count": 14,
     "metadata": {},
     "output_type": "execute_result"
    }
   ],
   "source": [
    "clf = CatBoostClassifier(random_seed=42, depth=4, custom_metric=['AUC'], iterations=1000, learning_rate=0.2, subsample=0.95, bootstrap_type='Bernoulli')\n",
    "clf.fit(X_train, y_train, verbose = False, early_stopping_rounds=100) "
   ]
  },
  {
   "cell_type": "code",
   "execution_count": 15,
   "id": "bf8a40b2-538c-4b1a-8143-67db92d52e9f",
   "metadata": {},
   "outputs": [
    {
     "data": {
      "text/plain": [
       "0.9813526998647756"
      ]
     },
     "execution_count": 15,
     "metadata": {},
     "output_type": "execute_result"
    }
   ],
   "source": [
    "accuracy_score(y_test, clf.predict(X_test))"
   ]
  },
  {
   "cell_type": "code",
   "execution_count": 16,
   "id": "9e45cb29-8aac-41fd-bcce-dbab6661a9a4",
   "metadata": {},
   "outputs": [],
   "source": [
    "del X_train, y_train, attack_train"
   ]
  },
  {
   "cell_type": "code",
   "execution_count": 17,
   "id": "99cfd106-1f8f-449a-b9ff-87fb457616b0",
   "metadata": {},
   "outputs": [],
   "source": [
    "X_train, X_test, y_train, y_test, attack_train, attack_test, scaler = get_data('single.csv', scaler=scaler, useScaler=True)"
   ]
  },
  {
   "cell_type": "code",
   "execution_count": 18,
   "id": "e4c5a4c4-679e-4190-a6b7-1a73992cc468",
   "metadata": {},
   "outputs": [
    {
     "data": {
      "text/plain": [
       "<catboost.core.CatBoostClassifier at 0x7f83ddc102e0>"
      ]
     },
     "execution_count": 18,
     "metadata": {},
     "output_type": "execute_result"
    }
   ],
   "source": [
    "clf = CatBoostClassifier(random_seed=42, depth=4, custom_metric=['AUC'], iterations=1000, learning_rate=0.2, subsample=0.95, bootstrap_type='Bernoulli')\n",
    "clf.fit(X_train, y_train, verbose = False, early_stopping_rounds=100) "
   ]
  },
  {
   "cell_type": "code",
   "execution_count": 19,
   "id": "70910534-91d1-4b03-92af-48cab47381de",
   "metadata": {},
   "outputs": [
    {
     "data": {
      "text/plain": [
       "0.996941398332953"
      ]
     },
     "execution_count": 19,
     "metadata": {},
     "output_type": "execute_result"
    }
   ],
   "source": [
    "accuracy_score(y_test, clf.predict(X_test))"
   ]
  },
  {
   "cell_type": "code",
   "execution_count": 20,
   "id": "0d56aa62-ec7c-4052-b643-650032de132a",
   "metadata": {},
   "outputs": [],
   "source": [
    "del X_train, y_train, attack_train"
   ]
  },
  {
   "cell_type": "code",
   "execution_count": 22,
   "id": "f11e901e-0d07-46ff-93f1-277414e811bf",
   "metadata": {},
   "outputs": [
    {
     "name": "stderr",
     "output_type": "stream",
     "text": [
      "/tmp/ipykernel_34875/3331398274.py:2: DtypeWarning: Columns (62,109) have mixed types. Specify dtype option on import or set low_memory=False.\n",
      "  df = pd.read_csv(filename)\n"
     ]
    }
   ],
   "source": [
    "X_train, _, y_train, _, attack_train, attack_test, scaler = get_data('triple.csv', scaler=scaler, useScaler=True)"
   ]
  },
  {
   "cell_type": "code",
   "execution_count": 23,
   "id": "07bac835-b16e-4a9b-8c48-e551ff00e1d0",
   "metadata": {},
   "outputs": [
    {
     "data": {
      "text/plain": [
       "<catboost.core.CatBoostClassifier at 0x7f83ddc10100>"
      ]
     },
     "execution_count": 23,
     "metadata": {},
     "output_type": "execute_result"
    }
   ],
   "source": [
    "clf = CatBoostClassifier(random_seed=42, depth=4, custom_metric=['AUC'], iterations=1000, learning_rate=0.2, subsample=0.95, bootstrap_type='Bernoulli')\n",
    "clf.fit(X_train, y_train, verbose = False, early_stopping_rounds=100) "
   ]
  },
  {
   "cell_type": "code",
   "execution_count": 24,
   "id": "3d4d133b-8565-40c0-8ce9-a41cc2c285da",
   "metadata": {},
   "outputs": [
    {
     "data": {
      "text/plain": [
       "0.9968541535240192"
      ]
     },
     "execution_count": 24,
     "metadata": {},
     "output_type": "execute_result"
    }
   ],
   "source": [
    "accuracy_score(y_test, clf.predict(X_test))"
   ]
  },
  {
   "cell_type": "code",
   "execution_count": null,
   "id": "01f75568-f1c3-4be8-bed8-4d834862dcdc",
   "metadata": {},
   "outputs": [],
   "source": []
  }
 ],
 "metadata": {
  "kernelspec": {
   "display_name": "Python 3 (ipykernel)",
   "language": "python",
   "name": "python3"
  },
  "language_info": {
   "codemirror_mode": {
    "name": "ipython",
    "version": 3
   },
   "file_extension": ".py",
   "mimetype": "text/x-python",
   "name": "python",
   "nbconvert_exporter": "python",
   "pygments_lexer": "ipython3",
   "version": "3.9.13"
  }
 },
 "nbformat": 4,
 "nbformat_minor": 5
}
